{
 "cells": [
  {
   "cell_type": "code",
   "execution_count": 1,
   "id": "c2e00983",
   "metadata": {},
   "outputs": [],
   "source": [
    "import matplotlib.pyplot as plt\n",
    "import seaborn as sns\n",
    "import pandas as pd\n",
    "import nltk\n",
    "import unicodedata\n",
    "import re\n",
    "from sklearn.model_selection import train_test_split\n",
    "import wrangle_g as wr"
   ]
  },
  {
   "cell_type": "code",
   "execution_count": 2,
   "id": "6f8c6d20",
   "metadata": {},
   "outputs": [],
   "source": [
    "# setting basic style parameters for matplotlib\n",
    "plt.rc('figure', figsize=(13, 7))\n",
    "plt.style.use('seaborn-notebook')"
   ]
  },
  {
   "cell_type": "code",
   "execution_count": 3,
   "id": "83bcb714",
   "metadata": {},
   "outputs": [
    {
     "data": {
      "text/plain": [
       "['Solarize_Light2',\n",
       " '_classic_test_patch',\n",
       " '_mpl-gallery',\n",
       " '_mpl-gallery-nogrid',\n",
       " 'bmh',\n",
       " 'classic',\n",
       " 'dark_background',\n",
       " 'fast',\n",
       " 'fivethirtyeight',\n",
       " 'ggplot',\n",
       " 'grayscale',\n",
       " 'seaborn',\n",
       " 'seaborn-bright',\n",
       " 'seaborn-colorblind',\n",
       " 'seaborn-dark',\n",
       " 'seaborn-dark-palette',\n",
       " 'seaborn-darkgrid',\n",
       " 'seaborn-deep',\n",
       " 'seaborn-muted',\n",
       " 'seaborn-notebook',\n",
       " 'seaborn-paper',\n",
       " 'seaborn-pastel',\n",
       " 'seaborn-poster',\n",
       " 'seaborn-talk',\n",
       " 'seaborn-ticks',\n",
       " 'seaborn-white',\n",
       " 'seaborn-whitegrid',\n",
       " 'tableau-colorblind10']"
      ]
     },
     "execution_count": 3,
     "metadata": {},
     "output_type": "execute_result"
    }
   ],
   "source": [
    "plt.style.available"
   ]
  },
  {
   "cell_type": "code",
   "execution_count": 4,
   "id": "2d7e7395",
   "metadata": {},
   "outputs": [],
   "source": [
    "df = pd.read_csv('lang_data_prepped.csv',index_col=False)"
   ]
  },
  {
   "cell_type": "code",
   "execution_count": 5,
   "id": "e6effb18",
   "metadata": {},
   "outputs": [
    {
     "data": {
      "text/html": [
       "<div>\n",
       "<style scoped>\n",
       "    .dataframe tbody tr th:only-of-type {\n",
       "        vertical-align: middle;\n",
       "    }\n",
       "\n",
       "    .dataframe tbody tr th {\n",
       "        vertical-align: top;\n",
       "    }\n",
       "\n",
       "    .dataframe thead th {\n",
       "        text-align: right;\n",
       "    }\n",
       "</style>\n",
       "<table border=\"1\" class=\"dataframe\">\n",
       "  <thead>\n",
       "    <tr style=\"text-align: right;\">\n",
       "      <th></th>\n",
       "      <th>repo</th>\n",
       "      <th>language</th>\n",
       "      <th>readme_contents</th>\n",
       "      <th>stopped</th>\n",
       "    </tr>\n",
       "  </thead>\n",
       "  <tbody>\n",
       "    <tr>\n",
       "      <th>0</th>\n",
       "      <td>ujjwalkarn/DataScienceR</td>\n",
       "      <td>R</td>\n",
       "      <td># R Data Science Tutorials\\n- This repo contai...</td>\n",
       "      <td>data science tutorials repo contain curated li...</td>\n",
       "    </tr>\n",
       "    <tr>\n",
       "      <th>1</th>\n",
       "      <td>IndrajeetPatil/ggstatsplot</td>\n",
       "      <td>R</td>\n",
       "      <td>---\\noutput: github_document\\n---\\n\\n  &lt;!-- RE...</td>\n",
       "      <td>output githubdocument readmemd generate readme...</td>\n",
       "    </tr>\n",
       "    <tr>\n",
       "      <th>2</th>\n",
       "      <td>easystats/easystats</td>\n",
       "      <td>R</td>\n",
       "      <td>---\\noutput: github_document\\n---\\n\\n```{r, wa...</td>\n",
       "      <td>output githubdocument warningfalse messagefals...</td>\n",
       "    </tr>\n",
       "    <tr>\n",
       "      <th>3</th>\n",
       "      <td>seandavi/sars2pack</td>\n",
       "      <td>R</td>\n",
       "      <td>---\\noutput: \\n  - rmarkdown::github_document\\...</td>\n",
       "      <td>output rmarkdowngithubdocument rmarkdownhtmldo...</td>\n",
       "    </tr>\n",
       "    <tr>\n",
       "      <th>4</th>\n",
       "      <td>markvanderloo/lumberjack</td>\n",
       "      <td>R</td>\n",
       "      <td>## Track changes in data\\n[![Build Status](htt...</td>\n",
       "      <td>track change data build statushttpstravisciorg...</td>\n",
       "    </tr>\n",
       "  </tbody>\n",
       "</table>\n",
       "</div>"
      ],
      "text/plain": [
       "                         repo language  \\\n",
       "0     ujjwalkarn/DataScienceR        R   \n",
       "1  IndrajeetPatil/ggstatsplot        R   \n",
       "2         easystats/easystats        R   \n",
       "3          seandavi/sars2pack        R   \n",
       "4    markvanderloo/lumberjack        R   \n",
       "\n",
       "                                     readme_contents  \\\n",
       "0  # R Data Science Tutorials\\n- This repo contai...   \n",
       "1  ---\\noutput: github_document\\n---\\n\\n  <!-- RE...   \n",
       "2  ---\\noutput: github_document\\n---\\n\\n```{r, wa...   \n",
       "3  ---\\noutput: \\n  - rmarkdown::github_document\\...   \n",
       "4  ## Track changes in data\\n[![Build Status](htt...   \n",
       "\n",
       "                                             stopped  \n",
       "0  data science tutorials repo contain curated li...  \n",
       "1  output githubdocument readmemd generate readme...  \n",
       "2  output githubdocument warningfalse messagefals...  \n",
       "3  output rmarkdowngithubdocument rmarkdownhtmldo...  \n",
       "4  track change data build statushttpstravisciorg...  "
      ]
     },
     "execution_count": 5,
     "metadata": {},
     "output_type": "execute_result"
    }
   ],
   "source": [
    "df.head()"
   ]
  },
  {
   "cell_type": "code",
   "execution_count": 6,
   "id": "aa455034",
   "metadata": {},
   "outputs": [
    {
     "data": {
      "text/plain": [
       "'statisticallearningtechniques statistical learn repository consist various learn algorithms implementation depth interpretation link implementation indepth explanation learn algorithms document contain underlie mathematical concepts explain respect simple case study topics cover 1 supervise learn 2 model selection techniques aic bic mallows cp adjust rsquared cross validation error 3 shrinkage methods regularization techniques ridge regression lasso l1 norm l2 norm 4 nonlinear regression parametric model 5 nonparametric model knearest neighbor algorithm 6 tree base model decision tree 7 bayesian model technique naive bay algorithm 8 ensemble learn random forest gradient boost bag 9 resampling methods cross validation 10 unsupervised learn first document publish polynomial regression tecnhiques add non linearities model make model learn non linear function httprpubscomanish20polynomialregression second document step step implementation cubic splines smooth splines transform variables add truncate basis function bx better polynomial regression learn non linear functional mappings xpredictors ytarget httprpubscomanish20splines third document implement generalize additive model overview httprpubscomanish20generalizedadditivemodelsinr fourth document implement decision tree use tree package httprpubscomanish20decisiontreesinr fifth article explain concept random forest implement httprpubscomanish20randomforests article support vector machine httprpubscomanish20svmr article radial kernel support vector classifier httprpubscomanish20radialsvm article implement pca maths behind httprpubscomanish20pca article explain kmeans cluster algorithm implementation httprpubscomanish20kmeans'"
      ]
     },
     "execution_count": 6,
     "metadata": {},
     "output_type": "execute_result"
    }
   ],
   "source": [
    "df.iloc[10,3]"
   ]
  },
  {
   "cell_type": "code",
   "execution_count": 7,
   "id": "ab5bf111",
   "metadata": {},
   "outputs": [],
   "source": [
    "train, validate, test = wr.final_wrangle(df)"
   ]
  },
  {
   "cell_type": "code",
   "execution_count": 8,
   "id": "0f095580",
   "metadata": {},
   "outputs": [
    {
     "data": {
      "text/plain": [
       "(162, 70, 59)"
      ]
     },
     "execution_count": 8,
     "metadata": {},
     "output_type": "execute_result"
    }
   ],
   "source": [
    "train.shape[0],validate.shape[0],test.shape[0]"
   ]
  },
  {
   "cell_type": "code",
   "execution_count": 9,
   "id": "14a0abfc",
   "metadata": {
    "scrolled": true
   },
   "outputs": [
    {
     "data": {
      "text/html": [
       "<div>\n",
       "<style scoped>\n",
       "    .dataframe tbody tr th:only-of-type {\n",
       "        vertical-align: middle;\n",
       "    }\n",
       "\n",
       "    .dataframe tbody tr th {\n",
       "        vertical-align: top;\n",
       "    }\n",
       "\n",
       "    .dataframe thead th {\n",
       "        text-align: right;\n",
       "    }\n",
       "</style>\n",
       "<table border=\"1\" class=\"dataframe\">\n",
       "  <thead>\n",
       "    <tr style=\"text-align: right;\">\n",
       "      <th></th>\n",
       "      <th>repo</th>\n",
       "      <th>language</th>\n",
       "      <th>readme_contents</th>\n",
       "      <th>stopped</th>\n",
       "    </tr>\n",
       "  </thead>\n",
       "  <tbody>\n",
       "    <tr>\n",
       "      <th>117</th>\n",
       "      <td>storieswithsiva/US-Job-Market-Analysis</td>\n",
       "      <td>R</td>\n",
       "      <td># US Job Analysis in R\\n[![Makes people smile]...</td>\n",
       "      <td>us job analysis make people smilehttpsfortheba...</td>\n",
       "    </tr>\n",
       "    <tr>\n",
       "      <th>8</th>\n",
       "      <td>adityashrm21/Bike-Sharing-Demand-Kaggle</td>\n",
       "      <td>R</td>\n",
       "      <td># Bike-Sharing-Demand---Kaggle\\n\\nSolution to ...</td>\n",
       "      <td>bikesharingdemandkaggle solution kaggle knowle...</td>\n",
       "    </tr>\n",
       "    <tr>\n",
       "      <th>63</th>\n",
       "      <td>Sarah-Hesham-2022/Bio-Statistics-R-Coding-On-D...</td>\n",
       "      <td>R</td>\n",
       "      <td># Bio-Statistics-R-Coding-On-Datasets-Analysis...</td>\n",
       "      <td>biostatisticsrcodingondatasetsanalysisandplott...</td>\n",
       "    </tr>\n",
       "    <tr>\n",
       "      <th>268</th>\n",
       "      <td>Tech-Matt/game_of_life</td>\n",
       "      <td>Python</td>\n",
       "      <td># Game of Life\\n\\n## Premise\\nThis is the firs...</td>\n",
       "      <td>game life premise first readme im write projec...</td>\n",
       "    </tr>\n",
       "    <tr>\n",
       "      <th>105</th>\n",
       "      <td>vincenzorusso3/tesi-triennale</td>\n",
       "      <td>R</td>\n",
       "      <td># PPMI Research\\nThe main goal is to create a ...</td>\n",
       "      <td>ppmi research main goal create system order cl...</td>\n",
       "    </tr>\n",
       "    <tr>\n",
       "      <th>...</th>\n",
       "      <td>...</td>\n",
       "      <td>...</td>\n",
       "      <td>...</td>\n",
       "      <td>...</td>\n",
       "    </tr>\n",
       "    <tr>\n",
       "      <th>225</th>\n",
       "      <td>VivanVatsa/Data-Science-Salary-Estimator</td>\n",
       "      <td>Python</td>\n",
       "      <td># Data-Science-Salary-Estimator\\n&gt;&gt; `BEST WITH...</td>\n",
       "      <td>datasciencesalaryestimator best lightmode fork...</td>\n",
       "    </tr>\n",
       "    <tr>\n",
       "      <th>16</th>\n",
       "      <td>thierrygosselin/assigner</td>\n",
       "      <td>R</td>\n",
       "      <td>---\\noutput: github_document\\n---\\n\\n\\n# assig...</td>\n",
       "      <td>output githubdocument assigner hrefhttpthierry...</td>\n",
       "    </tr>\n",
       "    <tr>\n",
       "      <th>28</th>\n",
       "      <td>stasvlasov/nstandr</td>\n",
       "      <td>R</td>\n",
       "      <td># nstandr &lt;img src=\"img/logo.png\" align=\"right...</td>\n",
       "      <td>nstandr img srcimglogopng alignright alt width...</td>\n",
       "    </tr>\n",
       "    <tr>\n",
       "      <th>33</th>\n",
       "      <td>alibalapour/CovidPlot19</td>\n",
       "      <td>R</td>\n",
       "      <td>---\\noutput: github_document\\nalways_allow_htm...</td>\n",
       "      <td>output githubdocument alwaysallowhtml true rea...</td>\n",
       "    </tr>\n",
       "    <tr>\n",
       "      <th>135</th>\n",
       "      <td>AmoDinho/datacamp-python-data-science-track</td>\n",
       "      <td>Python</td>\n",
       "      <td># Data Camp: Data Scientist with Python 🎉🤖\\n\\n...</td>\n",
       "      <td>data camp data scientist githubhttpsimgshields...</td>\n",
       "    </tr>\n",
       "  </tbody>\n",
       "</table>\n",
       "<p>162 rows × 4 columns</p>\n",
       "</div>"
      ],
      "text/plain": [
       "                                                  repo language  \\\n",
       "117             storieswithsiva/US-Job-Market-Analysis        R   \n",
       "8              adityashrm21/Bike-Sharing-Demand-Kaggle        R   \n",
       "63   Sarah-Hesham-2022/Bio-Statistics-R-Coding-On-D...        R   \n",
       "268                             Tech-Matt/game_of_life   Python   \n",
       "105                      vincenzorusso3/tesi-triennale        R   \n",
       "..                                                 ...      ...   \n",
       "225           VivanVatsa/Data-Science-Salary-Estimator   Python   \n",
       "16                            thierrygosselin/assigner        R   \n",
       "28                                  stasvlasov/nstandr        R   \n",
       "33                             alibalapour/CovidPlot19        R   \n",
       "135        AmoDinho/datacamp-python-data-science-track   Python   \n",
       "\n",
       "                                       readme_contents  \\\n",
       "117  # US Job Analysis in R\\n[![Makes people smile]...   \n",
       "8    # Bike-Sharing-Demand---Kaggle\\n\\nSolution to ...   \n",
       "63   # Bio-Statistics-R-Coding-On-Datasets-Analysis...   \n",
       "268  # Game of Life\\n\\n## Premise\\nThis is the firs...   \n",
       "105  # PPMI Research\\nThe main goal is to create a ...   \n",
       "..                                                 ...   \n",
       "225  # Data-Science-Salary-Estimator\\n>> `BEST WITH...   \n",
       "16   ---\\noutput: github_document\\n---\\n\\n\\n# assig...   \n",
       "28   # nstandr <img src=\"img/logo.png\" align=\"right...   \n",
       "33   ---\\noutput: github_document\\nalways_allow_htm...   \n",
       "135  # Data Camp: Data Scientist with Python 🎉🤖\\n\\n...   \n",
       "\n",
       "                                               stopped  \n",
       "117  us job analysis make people smilehttpsfortheba...  \n",
       "8    bikesharingdemandkaggle solution kaggle knowle...  \n",
       "63   biostatisticsrcodingondatasetsanalysisandplott...  \n",
       "268  game life premise first readme im write projec...  \n",
       "105  ppmi research main goal create system order cl...  \n",
       "..                                                 ...  \n",
       "225  datasciencesalaryestimator best lightmode fork...  \n",
       "16   output githubdocument assigner hrefhttpthierry...  \n",
       "28   nstandr img srcimglogopng alignright alt width...  \n",
       "33   output githubdocument alwaysallowhtml true rea...  \n",
       "135  data camp data scientist githubhttpsimgshields...  \n",
       "\n",
       "[162 rows x 4 columns]"
      ]
     },
     "execution_count": 9,
     "metadata": {},
     "output_type": "execute_result"
    }
   ],
   "source": [
    "train"
   ]
  },
  {
   "cell_type": "markdown",
   "id": "e1ea8e74",
   "metadata": {},
   "source": [
    "## Create length of README col"
   ]
  },
  {
   "cell_type": "code",
   "execution_count": 10,
   "id": "e49cff80",
   "metadata": {},
   "outputs": [
    {
     "data": {
      "text/plain": [
       "41896"
      ]
     },
     "execution_count": 10,
     "metadata": {},
     "output_type": "execute_result"
    }
   ],
   "source": [
    "len((''.join(train['stopped'])).split())"
   ]
  },
  {
   "cell_type": "code",
   "execution_count": 37,
   "id": "b0ac2227",
   "metadata": {},
   "outputs": [
    {
     "data": {
      "text/plain": [
       "17"
      ]
     },
     "execution_count": 37,
     "metadata": {},
     "output_type": "execute_result"
    }
   ],
   "source": [
    "len(((train.iloc[5]['stopped'])).split())"
   ]
  },
  {
   "cell_type": "code",
   "execution_count": 47,
   "id": "fbab957e",
   "metadata": {},
   "outputs": [
    {
     "ename": "KeyError",
     "evalue": "5",
     "output_type": "error",
     "traceback": [
      "\u001b[0;31m---------------------------------------------------------------------------\u001b[0m",
      "\u001b[0;31mKeyError\u001b[0m                                  Traceback (most recent call last)",
      "File \u001b[0;32m/opt/homebrew/anaconda3/lib/python3.9/site-packages/pandas/core/indexes/base.py:3629\u001b[0m, in \u001b[0;36mIndex.get_loc\u001b[0;34m(self, key, method, tolerance)\u001b[0m\n\u001b[1;32m   3628\u001b[0m \u001b[38;5;28;01mtry\u001b[39;00m:\n\u001b[0;32m-> 3629\u001b[0m     \u001b[38;5;28;01mreturn\u001b[39;00m \u001b[38;5;28;43mself\u001b[39;49m\u001b[38;5;241;43m.\u001b[39;49m\u001b[43m_engine\u001b[49m\u001b[38;5;241;43m.\u001b[39;49m\u001b[43mget_loc\u001b[49m\u001b[43m(\u001b[49m\u001b[43mcasted_key\u001b[49m\u001b[43m)\u001b[49m\n\u001b[1;32m   3630\u001b[0m \u001b[38;5;28;01mexcept\u001b[39;00m \u001b[38;5;167;01mKeyError\u001b[39;00m \u001b[38;5;28;01mas\u001b[39;00m err:\n",
      "File \u001b[0;32m/opt/homebrew/anaconda3/lib/python3.9/site-packages/pandas/_libs/index.pyx:136\u001b[0m, in \u001b[0;36mpandas._libs.index.IndexEngine.get_loc\u001b[0;34m()\u001b[0m\n",
      "File \u001b[0;32m/opt/homebrew/anaconda3/lib/python3.9/site-packages/pandas/_libs/index.pyx:163\u001b[0m, in \u001b[0;36mpandas._libs.index.IndexEngine.get_loc\u001b[0;34m()\u001b[0m\n",
      "File \u001b[0;32mpandas/_libs/hashtable_class_helper.pxi:5198\u001b[0m, in \u001b[0;36mpandas._libs.hashtable.PyObjectHashTable.get_item\u001b[0;34m()\u001b[0m\n",
      "File \u001b[0;32mpandas/_libs/hashtable_class_helper.pxi:5206\u001b[0m, in \u001b[0;36mpandas._libs.hashtable.PyObjectHashTable.get_item\u001b[0;34m()\u001b[0m\n",
      "\u001b[0;31mKeyError\u001b[0m: 5",
      "\nThe above exception was the direct cause of the following exception:\n",
      "\u001b[0;31mKeyError\u001b[0m                                  Traceback (most recent call last)",
      "Input \u001b[0;32mIn [47]\u001b[0m, in \u001b[0;36m<cell line: 1>\u001b[0;34m()\u001b[0m\n\u001b[0;32m----> 1\u001b[0m train[\u001b[38;5;124m'\u001b[39m\u001b[38;5;124mtoken_cnt\u001b[39m\u001b[38;5;124m'\u001b[39m] \u001b[38;5;241m=\u001b[39m [\u001b[38;5;28mlen\u001b[39m((train[\u001b[38;5;241m5\u001b[39m][\u001b[38;5;124m'\u001b[39m\u001b[38;5;124mstopped\u001b[39m\u001b[38;5;124m'\u001b[39m])) \u001b[38;5;28;01mfor\u001b[39;00m i \u001b[38;5;129;01min\u001b[39;00m train[\u001b[38;5;124m'\u001b[39m\u001b[38;5;124mstopped\u001b[39m\u001b[38;5;124m'\u001b[39m]]\n\u001b[1;32m      3\u001b[0m train\u001b[38;5;241m.\u001b[39mhead()\n",
      "Input \u001b[0;32mIn [47]\u001b[0m, in \u001b[0;36m<listcomp>\u001b[0;34m(.0)\u001b[0m\n\u001b[0;32m----> 1\u001b[0m train[\u001b[38;5;124m'\u001b[39m\u001b[38;5;124mtoken_cnt\u001b[39m\u001b[38;5;124m'\u001b[39m] \u001b[38;5;241m=\u001b[39m [\u001b[38;5;28mlen\u001b[39m((\u001b[43mtrain\u001b[49m\u001b[43m[\u001b[49m\u001b[38;5;241;43m5\u001b[39;49m\u001b[43m]\u001b[49m[\u001b[38;5;124m'\u001b[39m\u001b[38;5;124mstopped\u001b[39m\u001b[38;5;124m'\u001b[39m])) \u001b[38;5;28;01mfor\u001b[39;00m i \u001b[38;5;129;01min\u001b[39;00m train[\u001b[38;5;124m'\u001b[39m\u001b[38;5;124mstopped\u001b[39m\u001b[38;5;124m'\u001b[39m]]\n\u001b[1;32m      3\u001b[0m train\u001b[38;5;241m.\u001b[39mhead()\n",
      "File \u001b[0;32m/opt/homebrew/anaconda3/lib/python3.9/site-packages/pandas/core/frame.py:3505\u001b[0m, in \u001b[0;36mDataFrame.__getitem__\u001b[0;34m(self, key)\u001b[0m\n\u001b[1;32m   3503\u001b[0m \u001b[38;5;28;01mif\u001b[39;00m \u001b[38;5;28mself\u001b[39m\u001b[38;5;241m.\u001b[39mcolumns\u001b[38;5;241m.\u001b[39mnlevels \u001b[38;5;241m>\u001b[39m \u001b[38;5;241m1\u001b[39m:\n\u001b[1;32m   3504\u001b[0m     \u001b[38;5;28;01mreturn\u001b[39;00m \u001b[38;5;28mself\u001b[39m\u001b[38;5;241m.\u001b[39m_getitem_multilevel(key)\n\u001b[0;32m-> 3505\u001b[0m indexer \u001b[38;5;241m=\u001b[39m \u001b[38;5;28;43mself\u001b[39;49m\u001b[38;5;241;43m.\u001b[39;49m\u001b[43mcolumns\u001b[49m\u001b[38;5;241;43m.\u001b[39;49m\u001b[43mget_loc\u001b[49m\u001b[43m(\u001b[49m\u001b[43mkey\u001b[49m\u001b[43m)\u001b[49m\n\u001b[1;32m   3506\u001b[0m \u001b[38;5;28;01mif\u001b[39;00m is_integer(indexer):\n\u001b[1;32m   3507\u001b[0m     indexer \u001b[38;5;241m=\u001b[39m [indexer]\n",
      "File \u001b[0;32m/opt/homebrew/anaconda3/lib/python3.9/site-packages/pandas/core/indexes/base.py:3631\u001b[0m, in \u001b[0;36mIndex.get_loc\u001b[0;34m(self, key, method, tolerance)\u001b[0m\n\u001b[1;32m   3629\u001b[0m     \u001b[38;5;28;01mreturn\u001b[39;00m \u001b[38;5;28mself\u001b[39m\u001b[38;5;241m.\u001b[39m_engine\u001b[38;5;241m.\u001b[39mget_loc(casted_key)\n\u001b[1;32m   3630\u001b[0m \u001b[38;5;28;01mexcept\u001b[39;00m \u001b[38;5;167;01mKeyError\u001b[39;00m \u001b[38;5;28;01mas\u001b[39;00m err:\n\u001b[0;32m-> 3631\u001b[0m     \u001b[38;5;28;01mraise\u001b[39;00m \u001b[38;5;167;01mKeyError\u001b[39;00m(key) \u001b[38;5;28;01mfrom\u001b[39;00m \u001b[38;5;21;01merr\u001b[39;00m\n\u001b[1;32m   3632\u001b[0m \u001b[38;5;28;01mexcept\u001b[39;00m \u001b[38;5;167;01mTypeError\u001b[39;00m:\n\u001b[1;32m   3633\u001b[0m     \u001b[38;5;66;03m# If we have a listlike key, _check_indexing_error will raise\u001b[39;00m\n\u001b[1;32m   3634\u001b[0m     \u001b[38;5;66;03m#  InvalidIndexError. Otherwise we fall through and re-raise\u001b[39;00m\n\u001b[1;32m   3635\u001b[0m     \u001b[38;5;66;03m#  the TypeError.\u001b[39;00m\n\u001b[1;32m   3636\u001b[0m     \u001b[38;5;28mself\u001b[39m\u001b[38;5;241m.\u001b[39m_check_indexing_error(key)\n",
      "\u001b[0;31mKeyError\u001b[0m: 5"
     ]
    }
   ],
   "source": [
    "train['token_cnt'] = [len((train['stopped'])) for i in train['stopped']]\n",
    "\n",
    "train.head()"
   ]
  },
  {
   "cell_type": "code",
   "execution_count": null,
   "id": "85fab558",
   "metadata": {},
   "outputs": [],
   "source": [
    "train.tail()"
   ]
  },
  {
   "cell_type": "markdown",
   "id": "ec99303c",
   "metadata": {},
   "source": [
    "## df's and _words list"
   ]
  },
  {
   "cell_type": "code",
   "execution_count": null,
   "id": "3a03c238",
   "metadata": {},
   "outputs": [],
   "source": [
    "r_df = train[train.language=='R']\n",
    "python_df = train[train.language=='Python']"
   ]
  },
  {
   "cell_type": "code",
   "execution_count": null,
   "id": "3a724713",
   "metadata": {},
   "outputs": [],
   "source": [
    "r_words = ' '.join(r_df['stopped']).split()"
   ]
  },
  {
   "cell_type": "code",
   "execution_count": null,
   "id": "ddc3e882",
   "metadata": {},
   "outputs": [],
   "source": [
    "len(r_words)"
   ]
  },
  {
   "cell_type": "code",
   "execution_count": null,
   "id": "39c5f1e4",
   "metadata": {},
   "outputs": [],
   "source": [
    "python_words = ' '.join(python_df['stopped']).split()"
   ]
  },
  {
   "cell_type": "code",
   "execution_count": null,
   "id": "597f5567",
   "metadata": {},
   "outputs": [],
   "source": [
    "r_words.split()"
   ]
  },
  {
   "cell_type": "code",
   "execution_count": null,
   "id": "2b59379b",
   "metadata": {},
   "outputs": [],
   "source": [
    "len(python_words)"
   ]
  },
  {
   "cell_type": "code",
   "execution_count": null,
   "id": "4f312b0d",
   "metadata": {},
   "outputs": [],
   "source": [
    "all_words = ' '.join(train['stopped']).split()"
   ]
  },
  {
   "cell_type": "code",
   "execution_count": null,
   "id": "020824f1",
   "metadata": {},
   "outputs": [],
   "source": [
    "len(all_words)"
   ]
  },
  {
   "cell_type": "code",
   "execution_count": null,
   "id": "a0711485",
   "metadata": {},
   "outputs": [],
   "source": [
    "len(all_words) - len(python_words)"
   ]
  },
  {
   "cell_type": "code",
   "execution_count": null,
   "id": "4b43d2c9",
   "metadata": {},
   "outputs": [],
   "source": [
    "r_freq = pd.Series(r_words).value_counts()"
   ]
  },
  {
   "cell_type": "code",
   "execution_count": null,
   "id": "b06b589f",
   "metadata": {},
   "outputs": [],
   "source": [
    "r_freq.head(10)"
   ]
  },
  {
   "cell_type": "code",
   "execution_count": null,
   "id": "00a57f56",
   "metadata": {},
   "outputs": [],
   "source": [
    "python_freq = pd.Series(python_words).value_counts()"
   ]
  },
  {
   "cell_type": "code",
   "execution_count": null,
   "id": "0f92d37e",
   "metadata": {},
   "outputs": [],
   "source": [
    "python_freq.head(10)"
   ]
  },
  {
   "cell_type": "code",
   "execution_count": null,
   "id": "86cef9a6",
   "metadata": {},
   "outputs": [],
   "source": [
    "all_freq = pd.Series(all_words).value_counts()"
   ]
  },
  {
   "cell_type": "code",
   "execution_count": null,
   "id": "a6637060",
   "metadata": {},
   "outputs": [],
   "source": [
    "all_freq.head(10)"
   ]
  },
  {
   "cell_type": "markdown",
   "id": "e12aec03",
   "metadata": {},
   "source": [
    "## freq's in a df"
   ]
  },
  {
   "cell_type": "code",
   "execution_count": null,
   "id": "eb0833ad",
   "metadata": {},
   "outputs": [],
   "source": [
    "# concat all frequencies together into a dataframe\n",
    "word_counts = pd.concat([r_freq, python_freq,all_freq], axis=1\n",
    "         ).fillna(0\n",
    "                 ).astype(int)\n",
    "word_counts.columns = ['r','python','all']\n",
    "word_counts.head()"
   ]
  },
  {
   "cell_type": "code",
   "execution_count": null,
   "id": "a943e9c8",
   "metadata": {},
   "outputs": [],
   "source": [
    "word_counts[(word_counts['r'] == 0)&(word_counts['python'] >= 100)]"
   ]
  },
  {
   "cell_type": "markdown",
   "id": "5f81369b",
   "metadata": {},
   "source": [
    "## Python words"
   ]
  },
  {
   "cell_type": "code",
   "execution_count": null,
   "id": "179647e4",
   "metadata": {},
   "outputs": [],
   "source": [
    "word_counts[(word_counts['r'] == 0)]"
   ]
  },
  {
   "cell_type": "code",
   "execution_count": null,
   "id": "298da63b",
   "metadata": {},
   "outputs": [],
   "source": [
    "word_counts[(word_counts['r'] == 0)&(word_counts['python'] >= 10)].head(60)"
   ]
  },
  {
   "cell_type": "code",
   "execution_count": null,
   "id": "ecd4bf2d",
   "metadata": {},
   "outputs": [],
   "source": [
    "python_only = word_counts[(word_counts['r'] == 0)&(word_counts['python'] >= 10)]"
   ]
  },
  {
   "cell_type": "code",
   "execution_count": null,
   "id": "a6ab8b93",
   "metadata": {},
   "outputs": [],
   "source": []
  },
  {
   "cell_type": "code",
   "execution_count": null,
   "id": "a6cdc7ec",
   "metadata": {},
   "outputs": [],
   "source": []
  },
  {
   "cell_type": "markdown",
   "id": "6cb07534",
   "metadata": {},
   "source": [
    "## R words"
   ]
  },
  {
   "cell_type": "code",
   "execution_count": null,
   "id": "e9dead24",
   "metadata": {},
   "outputs": [],
   "source": [
    "word_counts[(word_counts['python'] == 0)]"
   ]
  },
  {
   "cell_type": "code",
   "execution_count": null,
   "id": "d645056d",
   "metadata": {},
   "outputs": [],
   "source": [
    "word_counts[(word_counts['python'] == 0)&(word_counts['r'] >= 50)]"
   ]
  },
  {
   "cell_type": "code",
   "execution_count": null,
   "id": "17bf49c9",
   "metadata": {},
   "outputs": [],
   "source": [
    "word_counts[(word_counts['python'] == 0)&(word_counts['r'] >= 10)].head(60)"
   ]
  },
  {
   "cell_type": "code",
   "execution_count": null,
   "id": "3b598f09",
   "metadata": {},
   "outputs": [],
   "source": [
    "r_only = word_counts[(word_counts['python'] == 0)&(word_counts['r'] >= 10)]"
   ]
  },
  {
   "cell_type": "markdown",
   "id": "6bce4ff3",
   "metadata": {},
   "source": [
    "## Graphs"
   ]
  },
  {
   "cell_type": "code",
   "execution_count": null,
   "id": "032c38fc",
   "metadata": {},
   "outputs": [],
   "source": [
    "word_counts.sort_values('all', ascending=False\n",
    "                       )[['r','python']].head(20).plot.barh()"
   ]
  },
  {
   "cell_type": "code",
   "execution_count": null,
   "id": "cdb93a4c",
   "metadata": {},
   "outputs": [],
   "source": [
    "python_only.sort_values('all', ascending=False\n",
    "                       )[['r','python']].head(30).plot.barh()"
   ]
  },
  {
   "cell_type": "code",
   "execution_count": null,
   "id": "174945d4",
   "metadata": {},
   "outputs": [],
   "source": [
    "r_only.sort_values('all', ascending=False\n",
    "                       )[['r','python']].head(30).plot.barh()"
   ]
  },
  {
   "cell_type": "code",
   "execution_count": null,
   "id": "b2767c10",
   "metadata": {},
   "outputs": [],
   "source": [
    "word_counts.sort_values('all', ascending=False\n",
    "                       ).head(40).apply(\n",
    "    lambda row: row/row['all'], axis=1\n",
    ")[['r','python']].plot.barh(\n",
    "    stacked=True, legend=False, ec='black', \n",
    "    width=1).set(title='R word proportion v Python word proportion for 40 most popular words');"
   ]
  },
  {
   "cell_type": "markdown",
   "id": "8245ea85",
   "metadata": {},
   "source": [
    "## Bigrams"
   ]
  },
  {
   "cell_type": "markdown",
   "id": "a2959707",
   "metadata": {},
   "source": [
    "## R"
   ]
  },
  {
   "cell_type": "code",
   "execution_count": null,
   "id": "cb4b1da1",
   "metadata": {},
   "outputs": [],
   "source": [
    "pd.Series(nltk.bigrams(r_words)).value_counts().head(20).plot.barh()"
   ]
  },
  {
   "cell_type": "markdown",
   "id": "72d97c14",
   "metadata": {},
   "source": [
    "## Python"
   ]
  },
  {
   "cell_type": "code",
   "execution_count": null,
   "id": "e6ad113c",
   "metadata": {},
   "outputs": [],
   "source": [
    "pd.Series(nltk.bigrams(python_words)).value_counts().head(20).plot.barh(color='orange')"
   ]
  },
  {
   "cell_type": "markdown",
   "id": "66d248f0",
   "metadata": {},
   "source": [
    "## Trigrams"
   ]
  },
  {
   "cell_type": "markdown",
   "id": "7ea3f82f",
   "metadata": {},
   "source": [
    "## R"
   ]
  },
  {
   "cell_type": "code",
   "execution_count": null,
   "id": "b1454b80",
   "metadata": {},
   "outputs": [],
   "source": [
    "pd.Series(nltk.ngrams(r_words,3)).value_counts().head(20).plot.barh()"
   ]
  },
  {
   "cell_type": "markdown",
   "id": "0896e075",
   "metadata": {},
   "source": [
    "## Python"
   ]
  },
  {
   "cell_type": "code",
   "execution_count": null,
   "id": "1d991bc4",
   "metadata": {},
   "outputs": [],
   "source": [
    "pd.Series(nltk.ngrams(python_words,3)).value_counts().head(20).plot.barh(color='orange')"
   ]
  },
  {
   "cell_type": "code",
   "execution_count": null,
   "id": "5046eea9",
   "metadata": {},
   "outputs": [],
   "source": []
  },
  {
   "cell_type": "code",
   "execution_count": null,
   "id": "8b09b615",
   "metadata": {},
   "outputs": [],
   "source": []
  },
  {
   "cell_type": "code",
   "execution_count": null,
   "id": "39296105",
   "metadata": {},
   "outputs": [],
   "source": []
  },
  {
   "cell_type": "code",
   "execution_count": null,
   "id": "80afd26c",
   "metadata": {},
   "outputs": [],
   "source": []
  },
  {
   "cell_type": "code",
   "execution_count": null,
   "id": "0862c498",
   "metadata": {},
   "outputs": [],
   "source": []
  },
  {
   "cell_type": "code",
   "execution_count": null,
   "id": "62fe7a2a",
   "metadata": {},
   "outputs": [],
   "source": []
  },
  {
   "cell_type": "code",
   "execution_count": null,
   "id": "7deaef61",
   "metadata": {},
   "outputs": [],
   "source": []
  },
  {
   "cell_type": "code",
   "execution_count": null,
   "id": "bc12c27d",
   "metadata": {},
   "outputs": [],
   "source": []
  },
  {
   "cell_type": "code",
   "execution_count": null,
   "id": "91a7fc55",
   "metadata": {},
   "outputs": [],
   "source": []
  },
  {
   "cell_type": "code",
   "execution_count": null,
   "id": "09d59426",
   "metadata": {},
   "outputs": [],
   "source": []
  }
 ],
 "metadata": {
  "kernelspec": {
   "display_name": "Python 3 (ipykernel)",
   "language": "python",
   "name": "python3"
  },
  "language_info": {
   "codemirror_mode": {
    "name": "ipython",
    "version": 3
   },
   "file_extension": ".py",
   "mimetype": "text/x-python",
   "name": "python",
   "nbconvert_exporter": "python",
   "pygments_lexer": "ipython3",
   "version": "3.9.13"
  }
 },
 "nbformat": 4,
 "nbformat_minor": 5
}
