{
 "cells": [
  {
   "cell_type": "code",
   "execution_count": 1,
   "id": "021dc449",
   "metadata": {},
   "outputs": [],
   "source": [
    "import matplotlib.pyplot as plt\n",
    "import seaborn as sns\n",
    "import pandas as pd\n",
    "import nltk\n",
    "import unicodedata\n",
    "import re\n",
    "from sklearn.model_selection import train_test_split\n",
    "import wrangle_g as wr"
   ]
  },
  {
   "cell_type": "code",
   "execution_count": 2,
   "id": "50c81f62",
   "metadata": {},
   "outputs": [],
   "source": [
    "# setting basic style parameters for matplotlib\n",
    "plt.rc('figure', figsize=(13, 7))\n",
    "plt.style.use('seaborn-notebook')"
   ]
  },
  {
   "cell_type": "code",
   "execution_count": 3,
   "id": "61e416cc",
   "metadata": {
    "collapsed": true
   },
   "outputs": [
    {
     "data": {
      "text/plain": [
       "['Solarize_Light2',\n",
       " '_classic_test_patch',\n",
       " '_mpl-gallery',\n",
       " '_mpl-gallery-nogrid',\n",
       " 'bmh',\n",
       " 'classic',\n",
       " 'dark_background',\n",
       " 'fast',\n",
       " 'fivethirtyeight',\n",
       " 'ggplot',\n",
       " 'grayscale',\n",
       " 'seaborn',\n",
       " 'seaborn-bright',\n",
       " 'seaborn-colorblind',\n",
       " 'seaborn-dark',\n",
       " 'seaborn-dark-palette',\n",
       " 'seaborn-darkgrid',\n",
       " 'seaborn-deep',\n",
       " 'seaborn-muted',\n",
       " 'seaborn-notebook',\n",
       " 'seaborn-paper',\n",
       " 'seaborn-pastel',\n",
       " 'seaborn-poster',\n",
       " 'seaborn-talk',\n",
       " 'seaborn-ticks',\n",
       " 'seaborn-white',\n",
       " 'seaborn-whitegrid',\n",
       " 'tableau-colorblind10']"
      ]
     },
     "execution_count": 3,
     "metadata": {},
     "output_type": "execute_result"
    }
   ],
   "source": [
    "plt.style.available"
   ]
  },
  {
   "cell_type": "code",
   "execution_count": 4,
   "id": "3a4cde05",
   "metadata": {},
   "outputs": [],
   "source": [
    "df = pd.read_csv('lang_data_prepped.csv',index_col=False)"
   ]
  },
  {
   "cell_type": "code",
   "execution_count": 5,
   "id": "0f4ece10",
   "metadata": {},
   "outputs": [
    {
     "data": {
      "text/html": [
       "<div>\n",
       "<style scoped>\n",
       "    .dataframe tbody tr th:only-of-type {\n",
       "        vertical-align: middle;\n",
       "    }\n",
       "\n",
       "    .dataframe tbody tr th {\n",
       "        vertical-align: top;\n",
       "    }\n",
       "\n",
       "    .dataframe thead th {\n",
       "        text-align: right;\n",
       "    }\n",
       "</style>\n",
       "<table border=\"1\" class=\"dataframe\">\n",
       "  <thead>\n",
       "    <tr style=\"text-align: right;\">\n",
       "      <th></th>\n",
       "      <th>repo</th>\n",
       "      <th>language</th>\n",
       "      <th>readme_contents</th>\n",
       "      <th>stopped</th>\n",
       "    </tr>\n",
       "  </thead>\n",
       "  <tbody>\n",
       "    <tr>\n",
       "      <th>0</th>\n",
       "      <td>ujjwalkarn/DataScienceR</td>\n",
       "      <td>R</td>\n",
       "      <td># R Data Science Tutorials\\n- This repo contai...</td>\n",
       "      <td>data science tutorials repo contain curated li...</td>\n",
       "    </tr>\n",
       "    <tr>\n",
       "      <th>1</th>\n",
       "      <td>IndrajeetPatil/ggstatsplot</td>\n",
       "      <td>R</td>\n",
       "      <td>---\\noutput: github_document\\n---\\n\\n  &lt;!-- RE...</td>\n",
       "      <td>output githubdocument readmemd generate readme...</td>\n",
       "    </tr>\n",
       "    <tr>\n",
       "      <th>2</th>\n",
       "      <td>easystats/easystats</td>\n",
       "      <td>R</td>\n",
       "      <td>---\\noutput: github_document\\n---\\n\\n```{r, wa...</td>\n",
       "      <td>output githubdocument warningfalse messagefals...</td>\n",
       "    </tr>\n",
       "    <tr>\n",
       "      <th>3</th>\n",
       "      <td>seandavi/sars2pack</td>\n",
       "      <td>R</td>\n",
       "      <td>---\\noutput: \\n  - rmarkdown::github_document\\...</td>\n",
       "      <td>output rmarkdowngithubdocument rmarkdownhtmldo...</td>\n",
       "    </tr>\n",
       "    <tr>\n",
       "      <th>4</th>\n",
       "      <td>markvanderloo/lumberjack</td>\n",
       "      <td>R</td>\n",
       "      <td>## Track changes in data\\n[![Build Status](htt...</td>\n",
       "      <td>track change data build statushttpstravisciorg...</td>\n",
       "    </tr>\n",
       "  </tbody>\n",
       "</table>\n",
       "</div>"
      ],
      "text/plain": [
       "                         repo language  \\\n",
       "0     ujjwalkarn/DataScienceR        R   \n",
       "1  IndrajeetPatil/ggstatsplot        R   \n",
       "2         easystats/easystats        R   \n",
       "3          seandavi/sars2pack        R   \n",
       "4    markvanderloo/lumberjack        R   \n",
       "\n",
       "                                     readme_contents  \\\n",
       "0  # R Data Science Tutorials\\n- This repo contai...   \n",
       "1  ---\\noutput: github_document\\n---\\n\\n  <!-- RE...   \n",
       "2  ---\\noutput: github_document\\n---\\n\\n```{r, wa...   \n",
       "3  ---\\noutput: \\n  - rmarkdown::github_document\\...   \n",
       "4  ## Track changes in data\\n[![Build Status](htt...   \n",
       "\n",
       "                                             stopped  \n",
       "0  data science tutorials repo contain curated li...  \n",
       "1  output githubdocument readmemd generate readme...  \n",
       "2  output githubdocument warningfalse messagefals...  \n",
       "3  output rmarkdowngithubdocument rmarkdownhtmldo...  \n",
       "4  track change data build statushttpstravisciorg...  "
      ]
     },
     "execution_count": 5,
     "metadata": {},
     "output_type": "execute_result"
    }
   ],
   "source": [
    "df.head()"
   ]
  },
  {
   "cell_type": "code",
   "execution_count": 6,
   "id": "aba353ce",
   "metadata": {},
   "outputs": [
    {
     "data": {
      "text/plain": [
       "'statisticallearningtechniques statistical learn repository consist various learn algorithms implementation depth interpretation link implementation indepth explanation learn algorithms document contain underlie mathematical concepts explain respect simple case study topics cover 1 supervise learn 2 model selection techniques aic bic mallows cp adjust rsquared cross validation error 3 shrinkage methods regularization techniques ridge regression lasso l1 norm l2 norm 4 nonlinear regression parametric model 5 nonparametric model knearest neighbor algorithm 6 tree base model decision tree 7 bayesian model technique naive bay algorithm 8 ensemble learn random forest gradient boost bag 9 resampling methods cross validation 10 unsupervised learn first document publish polynomial regression tecnhiques add non linearities model make model learn non linear function httprpubscomanish20polynomialregression second document step step implementation cubic splines smooth splines transform variables add truncate basis function bx better polynomial regression learn non linear functional mappings xpredictors ytarget httprpubscomanish20splines third document implement generalize additive model overview httprpubscomanish20generalizedadditivemodelsinr fourth document implement decision tree use tree package httprpubscomanish20decisiontreesinr fifth article explain concept random forest implement httprpubscomanish20randomforests article support vector machine httprpubscomanish20svmr article radial kernel support vector classifier httprpubscomanish20radialsvm article implement pca maths behind httprpubscomanish20pca article explain kmeans cluster algorithm implementation httprpubscomanish20kmeans'"
      ]
     },
     "execution_count": 6,
     "metadata": {},
     "output_type": "execute_result"
    }
   ],
   "source": [
    "df.iloc[10,3]"
   ]
  },
  {
   "cell_type": "code",
   "execution_count": 7,
   "id": "0bb56eaf",
   "metadata": {},
   "outputs": [],
   "source": [
    "train, validate, test = wr.final_wrangle(df)"
   ]
  },
  {
   "cell_type": "code",
   "execution_count": 14,
   "id": "9698f0ed",
   "metadata": {},
   "outputs": [
    {
     "data": {
      "text/plain": [
       "(162, 70, 59)"
      ]
     },
     "execution_count": 14,
     "metadata": {},
     "output_type": "execute_result"
    }
   ],
   "source": [
    "train.shape[0],validate.shape[0],test.shape[0]"
   ]
  },
  {
   "cell_type": "code",
   "execution_count": 11,
   "id": "0944c941",
   "metadata": {},
   "outputs": [
    {
     "data": {
      "text/html": [
       "<div>\n",
       "<style scoped>\n",
       "    .dataframe tbody tr th:only-of-type {\n",
       "        vertical-align: middle;\n",
       "    }\n",
       "\n",
       "    .dataframe tbody tr th {\n",
       "        vertical-align: top;\n",
       "    }\n",
       "\n",
       "    .dataframe thead th {\n",
       "        text-align: right;\n",
       "    }\n",
       "</style>\n",
       "<table border=\"1\" class=\"dataframe\">\n",
       "  <thead>\n",
       "    <tr style=\"text-align: right;\">\n",
       "      <th></th>\n",
       "      <th>repo</th>\n",
       "      <th>language</th>\n",
       "      <th>readme_contents</th>\n",
       "      <th>stopped</th>\n",
       "    </tr>\n",
       "  </thead>\n",
       "  <tbody>\n",
       "    <tr>\n",
       "      <th>117</th>\n",
       "      <td>storieswithsiva/US-Job-Market-Analysis</td>\n",
       "      <td>R</td>\n",
       "      <td># US Job Analysis in R\\n[![Makes people smile]...</td>\n",
       "      <td>us job analysis make people smilehttpsfortheba...</td>\n",
       "    </tr>\n",
       "    <tr>\n",
       "      <th>8</th>\n",
       "      <td>adityashrm21/Bike-Sharing-Demand-Kaggle</td>\n",
       "      <td>R</td>\n",
       "      <td># Bike-Sharing-Demand---Kaggle\\n\\nSolution to ...</td>\n",
       "      <td>bikesharingdemandkaggle solution kaggle knowle...</td>\n",
       "    </tr>\n",
       "    <tr>\n",
       "      <th>63</th>\n",
       "      <td>Sarah-Hesham-2022/Bio-Statistics-R-Coding-On-D...</td>\n",
       "      <td>R</td>\n",
       "      <td># Bio-Statistics-R-Coding-On-Datasets-Analysis...</td>\n",
       "      <td>biostatisticsrcodingondatasetsanalysisandplott...</td>\n",
       "    </tr>\n",
       "    <tr>\n",
       "      <th>268</th>\n",
       "      <td>Tech-Matt/game_of_life</td>\n",
       "      <td>Python</td>\n",
       "      <td># Game of Life\\n\\n## Premise\\nThis is the firs...</td>\n",
       "      <td>game life premise first readme im write projec...</td>\n",
       "    </tr>\n",
       "    <tr>\n",
       "      <th>105</th>\n",
       "      <td>vincenzorusso3/tesi-triennale</td>\n",
       "      <td>R</td>\n",
       "      <td># PPMI Research\\nThe main goal is to create a ...</td>\n",
       "      <td>ppmi research main goal create system order cl...</td>\n",
       "    </tr>\n",
       "    <tr>\n",
       "      <th>...</th>\n",
       "      <td>...</td>\n",
       "      <td>...</td>\n",
       "      <td>...</td>\n",
       "      <td>...</td>\n",
       "    </tr>\n",
       "    <tr>\n",
       "      <th>225</th>\n",
       "      <td>VivanVatsa/Data-Science-Salary-Estimator</td>\n",
       "      <td>Python</td>\n",
       "      <td># Data-Science-Salary-Estimator\\n&gt;&gt; `BEST WITH...</td>\n",
       "      <td>datasciencesalaryestimator best lightmode fork...</td>\n",
       "    </tr>\n",
       "    <tr>\n",
       "      <th>16</th>\n",
       "      <td>thierrygosselin/assigner</td>\n",
       "      <td>R</td>\n",
       "      <td>---\\noutput: github_document\\n---\\n\\n\\n# assig...</td>\n",
       "      <td>output githubdocument assigner hrefhttpthierry...</td>\n",
       "    </tr>\n",
       "    <tr>\n",
       "      <th>28</th>\n",
       "      <td>stasvlasov/nstandr</td>\n",
       "      <td>R</td>\n",
       "      <td># nstandr &lt;img src=\"img/logo.png\" align=\"right...</td>\n",
       "      <td>nstandr img srcimglogopng alignright alt width...</td>\n",
       "    </tr>\n",
       "    <tr>\n",
       "      <th>33</th>\n",
       "      <td>alibalapour/CovidPlot19</td>\n",
       "      <td>R</td>\n",
       "      <td>---\\noutput: github_document\\nalways_allow_htm...</td>\n",
       "      <td>output githubdocument alwaysallowhtml true rea...</td>\n",
       "    </tr>\n",
       "    <tr>\n",
       "      <th>135</th>\n",
       "      <td>AmoDinho/datacamp-python-data-science-track</td>\n",
       "      <td>Python</td>\n",
       "      <td># Data Camp: Data Scientist with Python 🎉🤖\\n\\n...</td>\n",
       "      <td>data camp data scientist githubhttpsimgshields...</td>\n",
       "    </tr>\n",
       "  </tbody>\n",
       "</table>\n",
       "<p>162 rows × 4 columns</p>\n",
       "</div>"
      ],
      "text/plain": [
       "                                                  repo language  \\\n",
       "117             storieswithsiva/US-Job-Market-Analysis        R   \n",
       "8              adityashrm21/Bike-Sharing-Demand-Kaggle        R   \n",
       "63   Sarah-Hesham-2022/Bio-Statistics-R-Coding-On-D...        R   \n",
       "268                             Tech-Matt/game_of_life   Python   \n",
       "105                      vincenzorusso3/tesi-triennale        R   \n",
       "..                                                 ...      ...   \n",
       "225           VivanVatsa/Data-Science-Salary-Estimator   Python   \n",
       "16                            thierrygosselin/assigner        R   \n",
       "28                                  stasvlasov/nstandr        R   \n",
       "33                             alibalapour/CovidPlot19        R   \n",
       "135        AmoDinho/datacamp-python-data-science-track   Python   \n",
       "\n",
       "                                       readme_contents  \\\n",
       "117  # US Job Analysis in R\\n[![Makes people smile]...   \n",
       "8    # Bike-Sharing-Demand---Kaggle\\n\\nSolution to ...   \n",
       "63   # Bio-Statistics-R-Coding-On-Datasets-Analysis...   \n",
       "268  # Game of Life\\n\\n## Premise\\nThis is the firs...   \n",
       "105  # PPMI Research\\nThe main goal is to create a ...   \n",
       "..                                                 ...   \n",
       "225  # Data-Science-Salary-Estimator\\n>> `BEST WITH...   \n",
       "16   ---\\noutput: github_document\\n---\\n\\n\\n# assig...   \n",
       "28   # nstandr <img src=\"img/logo.png\" align=\"right...   \n",
       "33   ---\\noutput: github_document\\nalways_allow_htm...   \n",
       "135  # Data Camp: Data Scientist with Python 🎉🤖\\n\\n...   \n",
       "\n",
       "                                               stopped  \n",
       "117  us job analysis make people smilehttpsfortheba...  \n",
       "8    bikesharingdemandkaggle solution kaggle knowle...  \n",
       "63   biostatisticsrcodingondatasetsanalysisandplott...  \n",
       "268  game life premise first readme im write projec...  \n",
       "105  ppmi research main goal create system order cl...  \n",
       "..                                                 ...  \n",
       "225  datasciencesalaryestimator best lightmode fork...  \n",
       "16   output githubdocument assigner hrefhttpthierry...  \n",
       "28   nstandr img srcimglogopng alignright alt width...  \n",
       "33   output githubdocument alwaysallowhtml true rea...  \n",
       "135  data camp data scientist githubhttpsimgshields...  \n",
       "\n",
       "[162 rows x 4 columns]"
      ]
     },
     "execution_count": 11,
     "metadata": {},
     "output_type": "execute_result"
    }
   ],
   "source": [
    "train"
   ]
  },
  {
   "cell_type": "code",
   "execution_count": null,
   "id": "e86d8170",
   "metadata": {},
   "outputs": [],
   "source": []
  },
  {
   "cell_type": "code",
   "execution_count": null,
   "id": "8157fe23",
   "metadata": {},
   "outputs": [],
   "source": []
  },
  {
   "cell_type": "code",
   "execution_count": null,
   "id": "45559726",
   "metadata": {},
   "outputs": [],
   "source": []
  },
  {
   "cell_type": "code",
   "execution_count": null,
   "id": "7be1db8c",
   "metadata": {},
   "outputs": [],
   "source": []
  },
  {
   "cell_type": "code",
   "execution_count": null,
   "id": "859bf23c",
   "metadata": {},
   "outputs": [],
   "source": []
  },
  {
   "cell_type": "code",
   "execution_count": null,
   "id": "e8630e92",
   "metadata": {},
   "outputs": [],
   "source": []
  },
  {
   "cell_type": "code",
   "execution_count": null,
   "id": "bb1d941b",
   "metadata": {},
   "outputs": [],
   "source": []
  },
  {
   "cell_type": "code",
   "execution_count": null,
   "id": "4f6ec342",
   "metadata": {},
   "outputs": [],
   "source": []
  },
  {
   "cell_type": "code",
   "execution_count": null,
   "id": "20ab11b7",
   "metadata": {},
   "outputs": [],
   "source": []
  },
  {
   "cell_type": "code",
   "execution_count": null,
   "id": "ec0a45f7",
   "metadata": {},
   "outputs": [],
   "source": []
  },
  {
   "cell_type": "code",
   "execution_count": null,
   "id": "eccbca63",
   "metadata": {},
   "outputs": [],
   "source": []
  }
 ],
 "metadata": {
  "kernelspec": {
   "display_name": "Python 3 (ipykernel)",
   "language": "python",
   "name": "python3"
  },
  "language_info": {
   "codemirror_mode": {
    "name": "ipython",
    "version": 3
   },
   "file_extension": ".py",
   "mimetype": "text/x-python",
   "name": "python",
   "nbconvert_exporter": "python",
   "pygments_lexer": "ipython3",
   "version": "3.9.13"
  }
 },
 "nbformat": 4,
 "nbformat_minor": 5
}
