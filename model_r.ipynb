{
 "cells": [
  {
   "cell_type": "code",
   "execution_count": 1,
   "id": "42ee2943",
   "metadata": {},
   "outputs": [],
   "source": [
    "#standard ds imports\n",
    "import pandas as pd\n",
    "import numpy as np\n",
    "#viz and stats\n",
    "import matplotlib.pyplot as plt\n",
    "import seaborn as sns\n",
    "from scipy import stats\n",
    "# .py imports\n",
    "import wrangle_g as wr\n",
    "#import modeling as md\n",
    "import os\n",
    "import nltk\n",
    "import unicodedata\n",
    "import re\n",
    "#sklearn imports\n",
    "from sklearn.model_selection import train_test_split\n",
    "import sklearn.preprocessing\n",
    "from sklearn.neighbors import KNeighborsClassifier\n",
    "from sklearn.metrics import classification_report, accuracy_score,confusion_matrix, plot_confusion_matrix\n",
    "from sklearn.linear_model import LogisticRegression\n",
    "from sklearn.tree import DecisionTreeClassifier\n",
    "from sklearn.ensemble import RandomForestClassifier, GradientBoostingClassifier\n",
    "#CATboost imports\n",
    "from catboost import CatBoostClassifier\n",
    "from sklearn.preprocessing import StandardScaler\n",
    "from sklearn.neural_network import MLPClassifier"
   ]
  },
  {
   "cell_type": "code",
   "execution_count": 2,
   "id": "d89eda8d",
   "metadata": {},
   "outputs": [],
   "source": [
    "df = pd.read_csv('lang_data_prepped.csv')"
   ]
  },
  {
   "cell_type": "code",
   "execution_count": 3,
   "id": "87d12380",
   "metadata": {},
   "outputs": [
    {
     "data": {
      "text/html": [
       "<div>\n",
       "<style scoped>\n",
       "    .dataframe tbody tr th:only-of-type {\n",
       "        vertical-align: middle;\n",
       "    }\n",
       "\n",
       "    .dataframe tbody tr th {\n",
       "        vertical-align: top;\n",
       "    }\n",
       "\n",
       "    .dataframe thead th {\n",
       "        text-align: right;\n",
       "    }\n",
       "</style>\n",
       "<table border=\"1\" class=\"dataframe\">\n",
       "  <thead>\n",
       "    <tr style=\"text-align: right;\">\n",
       "      <th></th>\n",
       "      <th>repo</th>\n",
       "      <th>language</th>\n",
       "      <th>readme_contents</th>\n",
       "      <th>stopped</th>\n",
       "    </tr>\n",
       "  </thead>\n",
       "  <tbody>\n",
       "    <tr>\n",
       "      <th>0</th>\n",
       "      <td>ujjwalkarn/DataScienceR</td>\n",
       "      <td>R</td>\n",
       "      <td># R Data Science Tutorials\\n- This repo contai...</td>\n",
       "      <td>data science tutorials repo contain curated li...</td>\n",
       "    </tr>\n",
       "    <tr>\n",
       "      <th>1</th>\n",
       "      <td>IndrajeetPatil/ggstatsplot</td>\n",
       "      <td>R</td>\n",
       "      <td>---\\noutput: github_document\\n---\\n\\n  &lt;!-- RE...</td>\n",
       "      <td>output githubdocument readmemd generate readme...</td>\n",
       "    </tr>\n",
       "    <tr>\n",
       "      <th>2</th>\n",
       "      <td>easystats/easystats</td>\n",
       "      <td>R</td>\n",
       "      <td>---\\noutput: github_document\\n---\\n\\n```{r, wa...</td>\n",
       "      <td>output githubdocument warningfalse messagefals...</td>\n",
       "    </tr>\n",
       "    <tr>\n",
       "      <th>3</th>\n",
       "      <td>seandavi/sars2pack</td>\n",
       "      <td>R</td>\n",
       "      <td>---\\noutput: \\n  - rmarkdown::github_document\\...</td>\n",
       "      <td>output rmarkdowngithubdocument rmarkdownhtmldo...</td>\n",
       "    </tr>\n",
       "    <tr>\n",
       "      <th>4</th>\n",
       "      <td>markvanderloo/lumberjack</td>\n",
       "      <td>R</td>\n",
       "      <td>## Track changes in data\\n[![Build Status](htt...</td>\n",
       "      <td>track change data build statushttpstravisciorg...</td>\n",
       "    </tr>\n",
       "    <tr>\n",
       "      <th>...</th>\n",
       "      <td>...</td>\n",
       "      <td>...</td>\n",
       "      <td>...</td>\n",
       "      <td>...</td>\n",
       "    </tr>\n",
       "    <tr>\n",
       "      <th>286</th>\n",
       "      <td>rahulbordoloi/Machine-Learning</td>\n",
       "      <td>Python</td>\n",
       "      <td># Machine-Learning\\nContains my Glossary for M...</td>\n",
       "      <td>machinelearning contain glossary machine learn...</td>\n",
       "    </tr>\n",
       "    <tr>\n",
       "      <th>287</th>\n",
       "      <td>Oslandia/QDeeplandia</td>\n",
       "      <td>Python</td>\n",
       "      <td>QGIS plugin dedicated to 2D semantic segmentat...</td>\n",
       "      <td>qgis plugin dedicate 2d semantic segmentation ...</td>\n",
       "    </tr>\n",
       "    <tr>\n",
       "      <th>288</th>\n",
       "      <td>arjunbhasin2013/BaselinePredictionMLFramework</td>\n",
       "      <td>Python</td>\n",
       "      <td># Baseline Prediction Machine Learning Framewo...</td>\n",
       "      <td>baseline prediction machine learn framework ma...</td>\n",
       "    </tr>\n",
       "    <tr>\n",
       "      <th>289</th>\n",
       "      <td>PonderaLab/datascience4economists</td>\n",
       "      <td>Python</td>\n",
       "      <td># Datascience4economists\\n\\nFirst of all, welc...</td>\n",
       "      <td>datascience4economists first welcome repositor...</td>\n",
       "    </tr>\n",
       "    <tr>\n",
       "      <th>290</th>\n",
       "      <td>joaoariedi/etl_luigi</td>\n",
       "      <td>Python</td>\n",
       "      <td># LUIGI and PostgreSQL ETL tests\\nGet data fro...</td>\n",
       "      <td>luigi postgresql etl test get data api use req...</td>\n",
       "    </tr>\n",
       "  </tbody>\n",
       "</table>\n",
       "<p>291 rows × 4 columns</p>\n",
       "</div>"
      ],
      "text/plain": [
       "                                              repo language  \\\n",
       "0                          ujjwalkarn/DataScienceR        R   \n",
       "1                       IndrajeetPatil/ggstatsplot        R   \n",
       "2                              easystats/easystats        R   \n",
       "3                               seandavi/sars2pack        R   \n",
       "4                         markvanderloo/lumberjack        R   \n",
       "..                                             ...      ...   \n",
       "286                 rahulbordoloi/Machine-Learning   Python   \n",
       "287                           Oslandia/QDeeplandia   Python   \n",
       "288  arjunbhasin2013/BaselinePredictionMLFramework   Python   \n",
       "289              PonderaLab/datascience4economists   Python   \n",
       "290                           joaoariedi/etl_luigi   Python   \n",
       "\n",
       "                                       readme_contents  \\\n",
       "0    # R Data Science Tutorials\\n- This repo contai...   \n",
       "1    ---\\noutput: github_document\\n---\\n\\n  <!-- RE...   \n",
       "2    ---\\noutput: github_document\\n---\\n\\n```{r, wa...   \n",
       "3    ---\\noutput: \\n  - rmarkdown::github_document\\...   \n",
       "4    ## Track changes in data\\n[![Build Status](htt...   \n",
       "..                                                 ...   \n",
       "286  # Machine-Learning\\nContains my Glossary for M...   \n",
       "287  QGIS plugin dedicated to 2D semantic segmentat...   \n",
       "288  # Baseline Prediction Machine Learning Framewo...   \n",
       "289  # Datascience4economists\\n\\nFirst of all, welc...   \n",
       "290  # LUIGI and PostgreSQL ETL tests\\nGet data fro...   \n",
       "\n",
       "                                               stopped  \n",
       "0    data science tutorials repo contain curated li...  \n",
       "1    output githubdocument readmemd generate readme...  \n",
       "2    output githubdocument warningfalse messagefals...  \n",
       "3    output rmarkdowngithubdocument rmarkdownhtmldo...  \n",
       "4    track change data build statushttpstravisciorg...  \n",
       "..                                                 ...  \n",
       "286  machinelearning contain glossary machine learn...  \n",
       "287  qgis plugin dedicate 2d semantic segmentation ...  \n",
       "288  baseline prediction machine learn framework ma...  \n",
       "289  datascience4economists first welcome repositor...  \n",
       "290  luigi postgresql etl test get data api use req...  \n",
       "\n",
       "[291 rows x 4 columns]"
      ]
     },
     "execution_count": 3,
     "metadata": {},
     "output_type": "execute_result"
    }
   ],
   "source": [
    "df"
   ]
  },
  {
   "cell_type": "code",
   "execution_count": 4,
   "id": "1fbe7225",
   "metadata": {},
   "outputs": [],
   "source": [
    "df = pd.get_dummies(df, columns=['language'], drop_first=True)"
   ]
  },
  {
   "cell_type": "code",
   "execution_count": 5,
   "id": "5f111fe0",
   "metadata": {},
   "outputs": [
    {
     "data": {
      "text/html": [
       "<div>\n",
       "<style scoped>\n",
       "    .dataframe tbody tr th:only-of-type {\n",
       "        vertical-align: middle;\n",
       "    }\n",
       "\n",
       "    .dataframe tbody tr th {\n",
       "        vertical-align: top;\n",
       "    }\n",
       "\n",
       "    .dataframe thead th {\n",
       "        text-align: right;\n",
       "    }\n",
       "</style>\n",
       "<table border=\"1\" class=\"dataframe\">\n",
       "  <thead>\n",
       "    <tr style=\"text-align: right;\">\n",
       "      <th></th>\n",
       "      <th>repo</th>\n",
       "      <th>readme_contents</th>\n",
       "      <th>stopped</th>\n",
       "      <th>language_R</th>\n",
       "    </tr>\n",
       "  </thead>\n",
       "  <tbody>\n",
       "    <tr>\n",
       "      <th>0</th>\n",
       "      <td>ujjwalkarn/DataScienceR</td>\n",
       "      <td># R Data Science Tutorials\\n- This repo contai...</td>\n",
       "      <td>data science tutorials repo contain curated li...</td>\n",
       "      <td>1</td>\n",
       "    </tr>\n",
       "    <tr>\n",
       "      <th>1</th>\n",
       "      <td>IndrajeetPatil/ggstatsplot</td>\n",
       "      <td>---\\noutput: github_document\\n---\\n\\n  &lt;!-- RE...</td>\n",
       "      <td>output githubdocument readmemd generate readme...</td>\n",
       "      <td>1</td>\n",
       "    </tr>\n",
       "    <tr>\n",
       "      <th>2</th>\n",
       "      <td>easystats/easystats</td>\n",
       "      <td>---\\noutput: github_document\\n---\\n\\n```{r, wa...</td>\n",
       "      <td>output githubdocument warningfalse messagefals...</td>\n",
       "      <td>1</td>\n",
       "    </tr>\n",
       "    <tr>\n",
       "      <th>3</th>\n",
       "      <td>seandavi/sars2pack</td>\n",
       "      <td>---\\noutput: \\n  - rmarkdown::github_document\\...</td>\n",
       "      <td>output rmarkdowngithubdocument rmarkdownhtmldo...</td>\n",
       "      <td>1</td>\n",
       "    </tr>\n",
       "    <tr>\n",
       "      <th>4</th>\n",
       "      <td>markvanderloo/lumberjack</td>\n",
       "      <td>## Track changes in data\\n[![Build Status](htt...</td>\n",
       "      <td>track change data build statushttpstravisciorg...</td>\n",
       "      <td>1</td>\n",
       "    </tr>\n",
       "  </tbody>\n",
       "</table>\n",
       "</div>"
      ],
      "text/plain": [
       "                         repo  \\\n",
       "0     ujjwalkarn/DataScienceR   \n",
       "1  IndrajeetPatil/ggstatsplot   \n",
       "2         easystats/easystats   \n",
       "3          seandavi/sars2pack   \n",
       "4    markvanderloo/lumberjack   \n",
       "\n",
       "                                     readme_contents  \\\n",
       "0  # R Data Science Tutorials\\n- This repo contai...   \n",
       "1  ---\\noutput: github_document\\n---\\n\\n  <!-- RE...   \n",
       "2  ---\\noutput: github_document\\n---\\n\\n```{r, wa...   \n",
       "3  ---\\noutput: \\n  - rmarkdown::github_document\\...   \n",
       "4  ## Track changes in data\\n[![Build Status](htt...   \n",
       "\n",
       "                                             stopped  language_R  \n",
       "0  data science tutorials repo contain curated li...           1  \n",
       "1  output githubdocument readmemd generate readme...           1  \n",
       "2  output githubdocument warningfalse messagefals...           1  \n",
       "3  output rmarkdowngithubdocument rmarkdownhtmldo...           1  \n",
       "4  track change data build statushttpstravisciorg...           1  "
      ]
     },
     "execution_count": 5,
     "metadata": {},
     "output_type": "execute_result"
    }
   ],
   "source": [
    "df.head()"
   ]
  },
  {
   "cell_type": "markdown",
   "id": "c8b35894",
   "metadata": {},
   "source": [
    "## BASELINE-using all datapoints"
   ]
  },
  {
   "cell_type": "code",
   "execution_count": 6,
   "id": "49d29a25",
   "metadata": {},
   "outputs": [
    {
     "data": {
      "text/plain": [
       "0    167\n",
       "1    124\n",
       "Name: language_R, dtype: int64"
      ]
     },
     "execution_count": 6,
     "metadata": {},
     "output_type": "execute_result"
    }
   ],
   "source": [
    "df.language_R.value_counts()"
   ]
  },
  {
   "cell_type": "code",
   "execution_count": 7,
   "id": "b6aa4c9a",
   "metadata": {},
   "outputs": [],
   "source": [
    "df['baseline'] = 0"
   ]
  },
  {
   "cell_type": "code",
   "execution_count": 8,
   "id": "0b5f6d4d",
   "metadata": {},
   "outputs": [
    {
     "name": "stdout",
     "output_type": "stream",
     "text": [
      "baseline accuracy: 57.39%\n"
     ]
    }
   ],
   "source": [
    "baseline_accuracy = (df.baseline == df.language_R).mean()\n",
    "print(f'baseline accuracy: {baseline_accuracy:.2%}')"
   ]
  },
  {
   "cell_type": "code",
   "execution_count": 9,
   "id": "12d1fd56",
   "metadata": {},
   "outputs": [
    {
     "name": "stdout",
     "output_type": "stream",
     "text": [
      "baseline recall: 100.00%\n"
     ]
    }
   ],
   "source": [
    "subset = df[df.language_R == 0]\n",
    "baseline_recall = (subset.baseline == subset.language_R).mean()\n",
    "print(f'baseline recall: {baseline_recall:.2%}')"
   ]
  },
  {
   "cell_type": "code",
   "execution_count": 10,
   "id": "ae331c5a",
   "metadata": {},
   "outputs": [
    {
     "name": "stdout",
     "output_type": "stream",
     "text": [
      "baseline precision: 57.39%\n"
     ]
    }
   ],
   "source": [
    "subset = df[df.baseline == 0]\n",
    "baseline_precision = (subset.baseline == subset.language_R).mean()\n",
    "print(f'baseline precision: {baseline_precision:.2%}')"
   ]
  },
  {
   "cell_type": "code",
   "execution_count": 11,
   "id": "53f2ce02",
   "metadata": {},
   "outputs": [],
   "source": [
    "df.drop(columns='baseline',inplace=True)"
   ]
  },
  {
   "cell_type": "code",
   "execution_count": null,
   "id": "0ccb845e",
   "metadata": {},
   "outputs": [],
   "source": []
  },
  {
   "cell_type": "code",
   "execution_count": null,
   "id": "a9ade370",
   "metadata": {},
   "outputs": [],
   "source": []
  },
  {
   "cell_type": "markdown",
   "id": "6ec91ca6",
   "metadata": {},
   "source": [
    "## Train/Validate/Test Split"
   ]
  },
  {
   "cell_type": "code",
   "execution_count": 12,
   "id": "ba9427fb",
   "metadata": {},
   "outputs": [],
   "source": [
    "df.rename(columns = {'language_R':'language'}, inplace = True)"
   ]
  },
  {
   "cell_type": "code",
   "execution_count": 13,
   "id": "360f4908",
   "metadata": {},
   "outputs": [],
   "source": [
    "train, validate, test = wr.final_wrangle(df)"
   ]
  },
  {
   "cell_type": "code",
   "execution_count": 14,
   "id": "94c6bb67",
   "metadata": {},
   "outputs": [
    {
     "data": {
      "text/plain": [
       "(162, 70, 59)"
      ]
     },
     "execution_count": 14,
     "metadata": {},
     "output_type": "execute_result"
    }
   ],
   "source": [
    "train.shape[0],validate.shape[0],test.shape[0]"
   ]
  },
  {
   "cell_type": "markdown",
   "id": "71998cd3",
   "metadata": {},
   "source": [
    "## Create a column showing token count"
   ]
  },
  {
   "cell_type": "code",
   "execution_count": 15,
   "id": "1989927b",
   "metadata": {},
   "outputs": [],
   "source": [
    "train['token_cnt'] = [len(row['stopped'].split()) for _, row in train.iterrows()]"
   ]
  },
  {
   "cell_type": "code",
   "execution_count": 16,
   "id": "a6545b53",
   "metadata": {},
   "outputs": [
    {
     "data": {
      "text/html": [
       "<div>\n",
       "<style scoped>\n",
       "    .dataframe tbody tr th:only-of-type {\n",
       "        vertical-align: middle;\n",
       "    }\n",
       "\n",
       "    .dataframe tbody tr th {\n",
       "        vertical-align: top;\n",
       "    }\n",
       "\n",
       "    .dataframe thead th {\n",
       "        text-align: right;\n",
       "    }\n",
       "</style>\n",
       "<table border=\"1\" class=\"dataframe\">\n",
       "  <thead>\n",
       "    <tr style=\"text-align: right;\">\n",
       "      <th></th>\n",
       "      <th>repo</th>\n",
       "      <th>readme_contents</th>\n",
       "      <th>stopped</th>\n",
       "      <th>language</th>\n",
       "      <th>token_cnt</th>\n",
       "    </tr>\n",
       "  </thead>\n",
       "  <tbody>\n",
       "    <tr>\n",
       "      <th>117</th>\n",
       "      <td>storieswithsiva/US-Job-Market-Analysis</td>\n",
       "      <td># US Job Analysis in R\\n[![Makes people smile]...</td>\n",
       "      <td>us job analysis make people smilehttpsfortheba...</td>\n",
       "      <td>1</td>\n",
       "      <td>381</td>\n",
       "    </tr>\n",
       "    <tr>\n",
       "      <th>8</th>\n",
       "      <td>adityashrm21/Bike-Sharing-Demand-Kaggle</td>\n",
       "      <td># Bike-Sharing-Demand---Kaggle\\n\\nSolution to ...</td>\n",
       "      <td>bikesharingdemandkaggle solution kaggle knowle...</td>\n",
       "      <td>1</td>\n",
       "      <td>12</td>\n",
       "    </tr>\n",
       "    <tr>\n",
       "      <th>63</th>\n",
       "      <td>Sarah-Hesham-2022/Bio-Statistics-R-Coding-On-D...</td>\n",
       "      <td># Bio-Statistics-R-Coding-On-Datasets-Analysis...</td>\n",
       "      <td>biostatisticsrcodingondatasetsanalysisandplott...</td>\n",
       "      <td>1</td>\n",
       "      <td>35</td>\n",
       "    </tr>\n",
       "    <tr>\n",
       "      <th>268</th>\n",
       "      <td>Tech-Matt/game_of_life</td>\n",
       "      <td># Game of Life\\n\\n## Premise\\nThis is the firs...</td>\n",
       "      <td>game life premise first readme im write projec...</td>\n",
       "      <td>0</td>\n",
       "      <td>125</td>\n",
       "    </tr>\n",
       "    <tr>\n",
       "      <th>105</th>\n",
       "      <td>vincenzorusso3/tesi-triennale</td>\n",
       "      <td># PPMI Research\\nThe main goal is to create a ...</td>\n",
       "      <td>ppmi research main goal create system order cl...</td>\n",
       "      <td>1</td>\n",
       "      <td>78</td>\n",
       "    </tr>\n",
       "  </tbody>\n",
       "</table>\n",
       "</div>"
      ],
      "text/plain": [
       "                                                  repo  \\\n",
       "117             storieswithsiva/US-Job-Market-Analysis   \n",
       "8              adityashrm21/Bike-Sharing-Demand-Kaggle   \n",
       "63   Sarah-Hesham-2022/Bio-Statistics-R-Coding-On-D...   \n",
       "268                             Tech-Matt/game_of_life   \n",
       "105                      vincenzorusso3/tesi-triennale   \n",
       "\n",
       "                                       readme_contents  \\\n",
       "117  # US Job Analysis in R\\n[![Makes people smile]...   \n",
       "8    # Bike-Sharing-Demand---Kaggle\\n\\nSolution to ...   \n",
       "63   # Bio-Statistics-R-Coding-On-Datasets-Analysis...   \n",
       "268  # Game of Life\\n\\n## Premise\\nThis is the firs...   \n",
       "105  # PPMI Research\\nThe main goal is to create a ...   \n",
       "\n",
       "                                               stopped  language  token_cnt  \n",
       "117  us job analysis make people smilehttpsfortheba...         1        381  \n",
       "8    bikesharingdemandkaggle solution kaggle knowle...         1         12  \n",
       "63   biostatisticsrcodingondatasetsanalysisandplott...         1         35  \n",
       "268  game life premise first readme im write projec...         0        125  \n",
       "105  ppmi research main goal create system order cl...         1         78  "
      ]
     },
     "execution_count": 16,
     "metadata": {},
     "output_type": "execute_result"
    }
   ],
   "source": [
    "train.head()"
   ]
  },
  {
   "cell_type": "code",
   "execution_count": 17,
   "id": "2ef5d389",
   "metadata": {},
   "outputs": [],
   "source": [
    "train.rename(columns = {'language':'language_R'}, inplace = True)"
   ]
  },
  {
   "cell_type": "code",
   "execution_count": 18,
   "id": "24321f71",
   "metadata": {},
   "outputs": [],
   "source": [
    "train = train.drop(columns=['repo','readme_contents'])"
   ]
  },
  {
   "cell_type": "code",
   "execution_count": 19,
   "id": "20115075",
   "metadata": {},
   "outputs": [
    {
     "data": {
      "text/html": [
       "<div>\n",
       "<style scoped>\n",
       "    .dataframe tbody tr th:only-of-type {\n",
       "        vertical-align: middle;\n",
       "    }\n",
       "\n",
       "    .dataframe tbody tr th {\n",
       "        vertical-align: top;\n",
       "    }\n",
       "\n",
       "    .dataframe thead th {\n",
       "        text-align: right;\n",
       "    }\n",
       "</style>\n",
       "<table border=\"1\" class=\"dataframe\">\n",
       "  <thead>\n",
       "    <tr style=\"text-align: right;\">\n",
       "      <th></th>\n",
       "      <th>stopped</th>\n",
       "      <th>language_R</th>\n",
       "      <th>token_cnt</th>\n",
       "    </tr>\n",
       "  </thead>\n",
       "  <tbody>\n",
       "    <tr>\n",
       "      <th>117</th>\n",
       "      <td>us job analysis make people smilehttpsfortheba...</td>\n",
       "      <td>1</td>\n",
       "      <td>381</td>\n",
       "    </tr>\n",
       "    <tr>\n",
       "      <th>8</th>\n",
       "      <td>bikesharingdemandkaggle solution kaggle knowle...</td>\n",
       "      <td>1</td>\n",
       "      <td>12</td>\n",
       "    </tr>\n",
       "    <tr>\n",
       "      <th>63</th>\n",
       "      <td>biostatisticsrcodingondatasetsanalysisandplott...</td>\n",
       "      <td>1</td>\n",
       "      <td>35</td>\n",
       "    </tr>\n",
       "    <tr>\n",
       "      <th>268</th>\n",
       "      <td>game life premise first readme im write projec...</td>\n",
       "      <td>0</td>\n",
       "      <td>125</td>\n",
       "    </tr>\n",
       "    <tr>\n",
       "      <th>105</th>\n",
       "      <td>ppmi research main goal create system order cl...</td>\n",
       "      <td>1</td>\n",
       "      <td>78</td>\n",
       "    </tr>\n",
       "  </tbody>\n",
       "</table>\n",
       "</div>"
      ],
      "text/plain": [
       "                                               stopped  language_R  token_cnt\n",
       "117  us job analysis make people smilehttpsfortheba...           1        381\n",
       "8    bikesharingdemandkaggle solution kaggle knowle...           1         12\n",
       "63   biostatisticsrcodingondatasetsanalysisandplott...           1         35\n",
       "268  game life premise first readme im write projec...           0        125\n",
       "105  ppmi research main goal create system order cl...           1         78"
      ]
     },
     "execution_count": 19,
     "metadata": {},
     "output_type": "execute_result"
    }
   ],
   "source": [
    "train.head()"
   ]
  },
  {
   "cell_type": "code",
   "execution_count": 21,
   "id": "42598c87",
   "metadata": {},
   "outputs": [
    {
     "data": {
      "text/plain": [
       "0    93\n",
       "1    69\n",
       "Name: language_R, dtype: int64"
      ]
     },
     "execution_count": 21,
     "metadata": {},
     "output_type": "execute_result"
    }
   ],
   "source": [
    "train.language_R.value_counts()"
   ]
  }
 ],
 "metadata": {
  "kernelspec": {
   "display_name": "Python 3 (ipykernel)",
   "language": "python",
   "name": "python3"
  },
  "language_info": {
   "codemirror_mode": {
    "name": "ipython",
    "version": 3
   },
   "file_extension": ".py",
   "mimetype": "text/x-python",
   "name": "python",
   "nbconvert_exporter": "python",
   "pygments_lexer": "ipython3",
   "version": "3.9.13"
  }
 },
 "nbformat": 4,
 "nbformat_minor": 5
}
