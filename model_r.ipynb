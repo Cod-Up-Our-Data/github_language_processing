{
 "cells": [
  {
   "cell_type": "code",
   "execution_count": 1,
   "id": "5c55c850",
   "metadata": {},
   "outputs": [],
   "source": [
    "#standard ds imports\n",
    "import pandas as pd\n",
    "import numpy as np\n",
    "#viz and stats\n",
    "import matplotlib.pyplot as plt\n",
    "import seaborn as sns\n",
    "from scipy import stats\n",
    "# .py imports\n",
    "import wrangle_g as wr\n",
    "#import modeling as md\n",
    "import os\n",
    "import nltk\n",
    "import unicodedata\n",
    "import re\n",
    "#sklearn imports\n",
    "from sklearn.model_selection import train_test_split\n",
    "import sklearn.preprocessing\n",
    "from sklearn.neighbors import KNeighborsClassifier\n",
    "from sklearn.metrics import classification_report, accuracy_score,confusion_matrix, plot_confusion_matrix\n",
    "from sklearn.linear_model import LogisticRegression\n",
    "from sklearn.tree import DecisionTreeClassifier\n",
    "from sklearn.ensemble import RandomForestClassifier, GradientBoostingClassifier\n",
    "from sklearn.feature_extraction.text import TfidfVectorizer\n",
    "from sklearn.naive_bayes import MultinomialNB\n",
    "#CATboost imports\n",
    "from catboost import CatBoostClassifier\n",
    "from sklearn.preprocessing import StandardScaler\n",
    "from sklearn.neural_network import MLPClassifier"
   ]
  },
  {
   "cell_type": "code",
   "execution_count": 2,
   "id": "0a48c3bb",
   "metadata": {},
   "outputs": [],
   "source": [
    "df = pd.read_csv('lang_data_prepped.csv')"
   ]
  },
  {
   "cell_type": "code",
   "execution_count": 3,
   "id": "7d44813f",
   "metadata": {},
   "outputs": [
    {
     "data": {
      "text/html": [
       "<div>\n",
       "<style scoped>\n",
       "    .dataframe tbody tr th:only-of-type {\n",
       "        vertical-align: middle;\n",
       "    }\n",
       "\n",
       "    .dataframe tbody tr th {\n",
       "        vertical-align: top;\n",
       "    }\n",
       "\n",
       "    .dataframe thead th {\n",
       "        text-align: right;\n",
       "    }\n",
       "</style>\n",
       "<table border=\"1\" class=\"dataframe\">\n",
       "  <thead>\n",
       "    <tr style=\"text-align: right;\">\n",
       "      <th></th>\n",
       "      <th>repo</th>\n",
       "      <th>language</th>\n",
       "      <th>readme_contents</th>\n",
       "      <th>stopped</th>\n",
       "    </tr>\n",
       "  </thead>\n",
       "  <tbody>\n",
       "    <tr>\n",
       "      <th>0</th>\n",
       "      <td>ujjwalkarn/DataScienceR</td>\n",
       "      <td>R</td>\n",
       "      <td># R Data Science Tutorials\\n- This repo contai...</td>\n",
       "      <td>data science tutorials repo contain curated li...</td>\n",
       "    </tr>\n",
       "    <tr>\n",
       "      <th>1</th>\n",
       "      <td>IndrajeetPatil/ggstatsplot</td>\n",
       "      <td>R</td>\n",
       "      <td>---\\noutput: github_document\\n---\\n\\n  &lt;!-- RE...</td>\n",
       "      <td>output githubdocument readmemd generate readme...</td>\n",
       "    </tr>\n",
       "    <tr>\n",
       "      <th>2</th>\n",
       "      <td>easystats/easystats</td>\n",
       "      <td>R</td>\n",
       "      <td>---\\noutput: github_document\\n---\\n\\n```{r, wa...</td>\n",
       "      <td>output githubdocument warningfalse messagefals...</td>\n",
       "    </tr>\n",
       "    <tr>\n",
       "      <th>3</th>\n",
       "      <td>seandavi/sars2pack</td>\n",
       "      <td>R</td>\n",
       "      <td>---\\noutput: \\n  - rmarkdown::github_document\\...</td>\n",
       "      <td>output rmarkdowngithubdocument rmarkdownhtmldo...</td>\n",
       "    </tr>\n",
       "    <tr>\n",
       "      <th>4</th>\n",
       "      <td>markvanderloo/lumberjack</td>\n",
       "      <td>R</td>\n",
       "      <td>## Track changes in data\\n[![Build Status](htt...</td>\n",
       "      <td>track change data build statushttpstravisciorg...</td>\n",
       "    </tr>\n",
       "    <tr>\n",
       "      <th>...</th>\n",
       "      <td>...</td>\n",
       "      <td>...</td>\n",
       "      <td>...</td>\n",
       "      <td>...</td>\n",
       "    </tr>\n",
       "    <tr>\n",
       "      <th>286</th>\n",
       "      <td>rahulbordoloi/Machine-Learning</td>\n",
       "      <td>Python</td>\n",
       "      <td># Machine-Learning\\nContains my Glossary for M...</td>\n",
       "      <td>machinelearning contain glossary machine learn...</td>\n",
       "    </tr>\n",
       "    <tr>\n",
       "      <th>287</th>\n",
       "      <td>Oslandia/QDeeplandia</td>\n",
       "      <td>Python</td>\n",
       "      <td>QGIS plugin dedicated to 2D semantic segmentat...</td>\n",
       "      <td>qgis plugin dedicate 2d semantic segmentation ...</td>\n",
       "    </tr>\n",
       "    <tr>\n",
       "      <th>288</th>\n",
       "      <td>arjunbhasin2013/BaselinePredictionMLFramework</td>\n",
       "      <td>Python</td>\n",
       "      <td># Baseline Prediction Machine Learning Framewo...</td>\n",
       "      <td>baseline prediction machine learn framework ma...</td>\n",
       "    </tr>\n",
       "    <tr>\n",
       "      <th>289</th>\n",
       "      <td>PonderaLab/datascience4economists</td>\n",
       "      <td>Python</td>\n",
       "      <td># Datascience4economists\\n\\nFirst of all, welc...</td>\n",
       "      <td>datascience4economists first welcome repositor...</td>\n",
       "    </tr>\n",
       "    <tr>\n",
       "      <th>290</th>\n",
       "      <td>joaoariedi/etl_luigi</td>\n",
       "      <td>Python</td>\n",
       "      <td># LUIGI and PostgreSQL ETL tests\\nGet data fro...</td>\n",
       "      <td>luigi postgresql etl test get data api use req...</td>\n",
       "    </tr>\n",
       "  </tbody>\n",
       "</table>\n",
       "<p>291 rows × 4 columns</p>\n",
       "</div>"
      ],
      "text/plain": [
       "                                              repo language  \\\n",
       "0                          ujjwalkarn/DataScienceR        R   \n",
       "1                       IndrajeetPatil/ggstatsplot        R   \n",
       "2                              easystats/easystats        R   \n",
       "3                               seandavi/sars2pack        R   \n",
       "4                         markvanderloo/lumberjack        R   \n",
       "..                                             ...      ...   \n",
       "286                 rahulbordoloi/Machine-Learning   Python   \n",
       "287                           Oslandia/QDeeplandia   Python   \n",
       "288  arjunbhasin2013/BaselinePredictionMLFramework   Python   \n",
       "289              PonderaLab/datascience4economists   Python   \n",
       "290                           joaoariedi/etl_luigi   Python   \n",
       "\n",
       "                                       readme_contents  \\\n",
       "0    # R Data Science Tutorials\\n- This repo contai...   \n",
       "1    ---\\noutput: github_document\\n---\\n\\n  <!-- RE...   \n",
       "2    ---\\noutput: github_document\\n---\\n\\n```{r, wa...   \n",
       "3    ---\\noutput: \\n  - rmarkdown::github_document\\...   \n",
       "4    ## Track changes in data\\n[![Build Status](htt...   \n",
       "..                                                 ...   \n",
       "286  # Machine-Learning\\nContains my Glossary for M...   \n",
       "287  QGIS plugin dedicated to 2D semantic segmentat...   \n",
       "288  # Baseline Prediction Machine Learning Framewo...   \n",
       "289  # Datascience4economists\\n\\nFirst of all, welc...   \n",
       "290  # LUIGI and PostgreSQL ETL tests\\nGet data fro...   \n",
       "\n",
       "                                               stopped  \n",
       "0    data science tutorials repo contain curated li...  \n",
       "1    output githubdocument readmemd generate readme...  \n",
       "2    output githubdocument warningfalse messagefals...  \n",
       "3    output rmarkdowngithubdocument rmarkdownhtmldo...  \n",
       "4    track change data build statushttpstravisciorg...  \n",
       "..                                                 ...  \n",
       "286  machinelearning contain glossary machine learn...  \n",
       "287  qgis plugin dedicate 2d semantic segmentation ...  \n",
       "288  baseline prediction machine learn framework ma...  \n",
       "289  datascience4economists first welcome repositor...  \n",
       "290  luigi postgresql etl test get data api use req...  \n",
       "\n",
       "[291 rows x 4 columns]"
      ]
     },
     "execution_count": 3,
     "metadata": {},
     "output_type": "execute_result"
    }
   ],
   "source": [
    "df"
   ]
  },
  {
   "cell_type": "code",
   "execution_count": 4,
   "id": "89664448",
   "metadata": {},
   "outputs": [],
   "source": [
    "df = pd.get_dummies(df, columns=['language'], drop_first=True)"
   ]
  },
  {
   "cell_type": "code",
   "execution_count": 5,
   "id": "bfb17d9c",
   "metadata": {},
   "outputs": [
    {
     "data": {
      "text/html": [
       "<div>\n",
       "<style scoped>\n",
       "    .dataframe tbody tr th:only-of-type {\n",
       "        vertical-align: middle;\n",
       "    }\n",
       "\n",
       "    .dataframe tbody tr th {\n",
       "        vertical-align: top;\n",
       "    }\n",
       "\n",
       "    .dataframe thead th {\n",
       "        text-align: right;\n",
       "    }\n",
       "</style>\n",
       "<table border=\"1\" class=\"dataframe\">\n",
       "  <thead>\n",
       "    <tr style=\"text-align: right;\">\n",
       "      <th></th>\n",
       "      <th>repo</th>\n",
       "      <th>readme_contents</th>\n",
       "      <th>stopped</th>\n",
       "      <th>language_R</th>\n",
       "    </tr>\n",
       "  </thead>\n",
       "  <tbody>\n",
       "    <tr>\n",
       "      <th>0</th>\n",
       "      <td>ujjwalkarn/DataScienceR</td>\n",
       "      <td># R Data Science Tutorials\\n- This repo contai...</td>\n",
       "      <td>data science tutorials repo contain curated li...</td>\n",
       "      <td>1</td>\n",
       "    </tr>\n",
       "    <tr>\n",
       "      <th>1</th>\n",
       "      <td>IndrajeetPatil/ggstatsplot</td>\n",
       "      <td>---\\noutput: github_document\\n---\\n\\n  &lt;!-- RE...</td>\n",
       "      <td>output githubdocument readmemd generate readme...</td>\n",
       "      <td>1</td>\n",
       "    </tr>\n",
       "    <tr>\n",
       "      <th>2</th>\n",
       "      <td>easystats/easystats</td>\n",
       "      <td>---\\noutput: github_document\\n---\\n\\n```{r, wa...</td>\n",
       "      <td>output githubdocument warningfalse messagefals...</td>\n",
       "      <td>1</td>\n",
       "    </tr>\n",
       "    <tr>\n",
       "      <th>3</th>\n",
       "      <td>seandavi/sars2pack</td>\n",
       "      <td>---\\noutput: \\n  - rmarkdown::github_document\\...</td>\n",
       "      <td>output rmarkdowngithubdocument rmarkdownhtmldo...</td>\n",
       "      <td>1</td>\n",
       "    </tr>\n",
       "    <tr>\n",
       "      <th>4</th>\n",
       "      <td>markvanderloo/lumberjack</td>\n",
       "      <td>## Track changes in data\\n[![Build Status](htt...</td>\n",
       "      <td>track change data build statushttpstravisciorg...</td>\n",
       "      <td>1</td>\n",
       "    </tr>\n",
       "  </tbody>\n",
       "</table>\n",
       "</div>"
      ],
      "text/plain": [
       "                         repo  \\\n",
       "0     ujjwalkarn/DataScienceR   \n",
       "1  IndrajeetPatil/ggstatsplot   \n",
       "2         easystats/easystats   \n",
       "3          seandavi/sars2pack   \n",
       "4    markvanderloo/lumberjack   \n",
       "\n",
       "                                     readme_contents  \\\n",
       "0  # R Data Science Tutorials\\n- This repo contai...   \n",
       "1  ---\\noutput: github_document\\n---\\n\\n  <!-- RE...   \n",
       "2  ---\\noutput: github_document\\n---\\n\\n```{r, wa...   \n",
       "3  ---\\noutput: \\n  - rmarkdown::github_document\\...   \n",
       "4  ## Track changes in data\\n[![Build Status](htt...   \n",
       "\n",
       "                                             stopped  language_R  \n",
       "0  data science tutorials repo contain curated li...           1  \n",
       "1  output githubdocument readmemd generate readme...           1  \n",
       "2  output githubdocument warningfalse messagefals...           1  \n",
       "3  output rmarkdowngithubdocument rmarkdownhtmldo...           1  \n",
       "4  track change data build statushttpstravisciorg...           1  "
      ]
     },
     "execution_count": 5,
     "metadata": {},
     "output_type": "execute_result"
    }
   ],
   "source": [
    "df.head()"
   ]
  },
  {
   "cell_type": "markdown",
   "id": "bd558d7c",
   "metadata": {},
   "source": [
    "## BASELINE-using all datapoints"
   ]
  },
  {
   "cell_type": "code",
   "execution_count": 6,
   "id": "91decd73",
   "metadata": {},
   "outputs": [
    {
     "data": {
      "text/plain": [
       "0    167\n",
       "1    124\n",
       "Name: language_R, dtype: int64"
      ]
     },
     "execution_count": 6,
     "metadata": {},
     "output_type": "execute_result"
    }
   ],
   "source": [
    "df.language_R.value_counts()"
   ]
  },
  {
   "cell_type": "code",
   "execution_count": 7,
   "id": "167f95b1",
   "metadata": {},
   "outputs": [],
   "source": [
    "df['baseline'] = 0"
   ]
  },
  {
   "cell_type": "code",
   "execution_count": 8,
   "id": "50b9bdb4",
   "metadata": {},
   "outputs": [
    {
     "name": "stdout",
     "output_type": "stream",
     "text": [
      "baseline accuracy: 57.39%\n"
     ]
    }
   ],
   "source": [
    "baseline_accuracy = (df.baseline == df.language_R).mean()\n",
    "print(f'baseline accuracy: {baseline_accuracy:.2%}')"
   ]
  },
  {
   "cell_type": "code",
   "execution_count": 9,
   "id": "90a89e08",
   "metadata": {},
   "outputs": [
    {
     "name": "stdout",
     "output_type": "stream",
     "text": [
      "baseline recall: 100.00%\n"
     ]
    }
   ],
   "source": [
    "subset = df[df.language_R == 0]\n",
    "baseline_recall = (subset.baseline == subset.language_R).mean()\n",
    "print(f'baseline recall: {baseline_recall:.2%}')"
   ]
  },
  {
   "cell_type": "code",
   "execution_count": 10,
   "id": "c137f33b",
   "metadata": {},
   "outputs": [
    {
     "name": "stdout",
     "output_type": "stream",
     "text": [
      "baseline precision: 57.39%\n"
     ]
    }
   ],
   "source": [
    "subset = df[df.baseline == 0]\n",
    "baseline_precision = (subset.baseline == subset.language_R).mean()\n",
    "print(f'baseline precision: {baseline_precision:.2%}')"
   ]
  },
  {
   "cell_type": "code",
   "execution_count": 11,
   "id": "96366b6e",
   "metadata": {},
   "outputs": [],
   "source": [
    "df.drop(columns='baseline',inplace=True)"
   ]
  },
  {
   "cell_type": "code",
   "execution_count": null,
   "id": "2179d52c",
   "metadata": {},
   "outputs": [],
   "source": []
  },
  {
   "cell_type": "code",
   "execution_count": null,
   "id": "8cfb55de",
   "metadata": {},
   "outputs": [],
   "source": []
  },
  {
   "cell_type": "markdown",
   "id": "1ea0cd29",
   "metadata": {},
   "source": [
    "## Train/Validate/Test Split"
   ]
  },
  {
   "cell_type": "code",
   "execution_count": 12,
   "id": "4467e25b",
   "metadata": {},
   "outputs": [],
   "source": [
    "df.rename(columns = {'language_R':'language'}, inplace = True)"
   ]
  },
  {
   "cell_type": "code",
   "execution_count": 13,
   "id": "507b52c4",
   "metadata": {},
   "outputs": [],
   "source": [
    "train, validate, test = wr.final_wrangle(df)"
   ]
  },
  {
   "cell_type": "code",
   "execution_count": 14,
   "id": "d30c660c",
   "metadata": {},
   "outputs": [
    {
     "data": {
      "text/plain": [
       "(162, 70, 59)"
      ]
     },
     "execution_count": 14,
     "metadata": {},
     "output_type": "execute_result"
    }
   ],
   "source": [
    "train.shape[0],validate.shape[0],test.shape[0]"
   ]
  },
  {
   "cell_type": "markdown",
   "id": "bb225791",
   "metadata": {},
   "source": [
    "## Create a column showing token count"
   ]
  },
  {
   "cell_type": "code",
   "execution_count": 15,
   "id": "81db78a7",
   "metadata": {},
   "outputs": [],
   "source": [
    "train['token_cnt'] = [len(row['stopped'].split()) for _, row in train.iterrows()]"
   ]
  },
  {
   "cell_type": "code",
   "execution_count": 16,
   "id": "bdf5ce61",
   "metadata": {
    "scrolled": true
   },
   "outputs": [
    {
     "data": {
      "text/html": [
       "<div>\n",
       "<style scoped>\n",
       "    .dataframe tbody tr th:only-of-type {\n",
       "        vertical-align: middle;\n",
       "    }\n",
       "\n",
       "    .dataframe tbody tr th {\n",
       "        vertical-align: top;\n",
       "    }\n",
       "\n",
       "    .dataframe thead th {\n",
       "        text-align: right;\n",
       "    }\n",
       "</style>\n",
       "<table border=\"1\" class=\"dataframe\">\n",
       "  <thead>\n",
       "    <tr style=\"text-align: right;\">\n",
       "      <th></th>\n",
       "      <th>repo</th>\n",
       "      <th>readme_contents</th>\n",
       "      <th>stopped</th>\n",
       "      <th>language</th>\n",
       "      <th>token_cnt</th>\n",
       "    </tr>\n",
       "  </thead>\n",
       "  <tbody>\n",
       "    <tr>\n",
       "      <th>117</th>\n",
       "      <td>storieswithsiva/US-Job-Market-Analysis</td>\n",
       "      <td># US Job Analysis in R\\n[![Makes people smile]...</td>\n",
       "      <td>us job analysis make people smilehttpsfortheba...</td>\n",
       "      <td>1</td>\n",
       "      <td>381</td>\n",
       "    </tr>\n",
       "    <tr>\n",
       "      <th>8</th>\n",
       "      <td>adityashrm21/Bike-Sharing-Demand-Kaggle</td>\n",
       "      <td># Bike-Sharing-Demand---Kaggle\\n\\nSolution to ...</td>\n",
       "      <td>bikesharingdemandkaggle solution kaggle knowle...</td>\n",
       "      <td>1</td>\n",
       "      <td>12</td>\n",
       "    </tr>\n",
       "    <tr>\n",
       "      <th>63</th>\n",
       "      <td>Sarah-Hesham-2022/Bio-Statistics-R-Coding-On-D...</td>\n",
       "      <td># Bio-Statistics-R-Coding-On-Datasets-Analysis...</td>\n",
       "      <td>biostatisticsrcodingondatasetsanalysisandplott...</td>\n",
       "      <td>1</td>\n",
       "      <td>35</td>\n",
       "    </tr>\n",
       "    <tr>\n",
       "      <th>268</th>\n",
       "      <td>Tech-Matt/game_of_life</td>\n",
       "      <td># Game of Life\\n\\n## Premise\\nThis is the firs...</td>\n",
       "      <td>game life premise first readme im write projec...</td>\n",
       "      <td>0</td>\n",
       "      <td>125</td>\n",
       "    </tr>\n",
       "    <tr>\n",
       "      <th>105</th>\n",
       "      <td>vincenzorusso3/tesi-triennale</td>\n",
       "      <td># PPMI Research\\nThe main goal is to create a ...</td>\n",
       "      <td>ppmi research main goal create system order cl...</td>\n",
       "      <td>1</td>\n",
       "      <td>78</td>\n",
       "    </tr>\n",
       "  </tbody>\n",
       "</table>\n",
       "</div>"
      ],
      "text/plain": [
       "                                                  repo  \\\n",
       "117             storieswithsiva/US-Job-Market-Analysis   \n",
       "8              adityashrm21/Bike-Sharing-Demand-Kaggle   \n",
       "63   Sarah-Hesham-2022/Bio-Statistics-R-Coding-On-D...   \n",
       "268                             Tech-Matt/game_of_life   \n",
       "105                      vincenzorusso3/tesi-triennale   \n",
       "\n",
       "                                       readme_contents  \\\n",
       "117  # US Job Analysis in R\\n[![Makes people smile]...   \n",
       "8    # Bike-Sharing-Demand---Kaggle\\n\\nSolution to ...   \n",
       "63   # Bio-Statistics-R-Coding-On-Datasets-Analysis...   \n",
       "268  # Game of Life\\n\\n## Premise\\nThis is the firs...   \n",
       "105  # PPMI Research\\nThe main goal is to create a ...   \n",
       "\n",
       "                                               stopped  language  token_cnt  \n",
       "117  us job analysis make people smilehttpsfortheba...         1        381  \n",
       "8    bikesharingdemandkaggle solution kaggle knowle...         1         12  \n",
       "63   biostatisticsrcodingondatasetsanalysisandplott...         1         35  \n",
       "268  game life premise first readme im write projec...         0        125  \n",
       "105  ppmi research main goal create system order cl...         1         78  "
      ]
     },
     "execution_count": 16,
     "metadata": {},
     "output_type": "execute_result"
    }
   ],
   "source": [
    "train.head()"
   ]
  },
  {
   "cell_type": "markdown",
   "id": "563f8908",
   "metadata": {},
   "source": [
    "## rename column to language_R"
   ]
  },
  {
   "cell_type": "code",
   "execution_count": 17,
   "id": "c20b7781",
   "metadata": {},
   "outputs": [],
   "source": [
    "train.rename(columns = {'language':'language_R'}, inplace = True)\n",
    "validate.rename(columns = {'language':'language_R'}, inplace = True)\n",
    "test.rename(columns = {'language':'language_R'}, inplace = True)"
   ]
  },
  {
   "cell_type": "markdown",
   "id": "5b589e03",
   "metadata": {},
   "source": [
    "## remove extraneous clutter cols"
   ]
  },
  {
   "cell_type": "code",
   "execution_count": 18,
   "id": "901b9032",
   "metadata": {},
   "outputs": [],
   "source": [
    "train = train.drop(columns=['repo','readme_contents'])\n",
    "validate = validate.drop(columns=['repo','readme_contents'])\n",
    "test = test.drop(columns=['repo','readme_contents'])"
   ]
  },
  {
   "cell_type": "code",
   "execution_count": 19,
   "id": "9c33e54d",
   "metadata": {},
   "outputs": [
    {
     "data": {
      "text/html": [
       "<div>\n",
       "<style scoped>\n",
       "    .dataframe tbody tr th:only-of-type {\n",
       "        vertical-align: middle;\n",
       "    }\n",
       "\n",
       "    .dataframe tbody tr th {\n",
       "        vertical-align: top;\n",
       "    }\n",
       "\n",
       "    .dataframe thead th {\n",
       "        text-align: right;\n",
       "    }\n",
       "</style>\n",
       "<table border=\"1\" class=\"dataframe\">\n",
       "  <thead>\n",
       "    <tr style=\"text-align: right;\">\n",
       "      <th></th>\n",
       "      <th>stopped</th>\n",
       "      <th>language_R</th>\n",
       "      <th>token_cnt</th>\n",
       "    </tr>\n",
       "  </thead>\n",
       "  <tbody>\n",
       "    <tr>\n",
       "      <th>117</th>\n",
       "      <td>us job analysis make people smilehttpsfortheba...</td>\n",
       "      <td>1</td>\n",
       "      <td>381</td>\n",
       "    </tr>\n",
       "    <tr>\n",
       "      <th>8</th>\n",
       "      <td>bikesharingdemandkaggle solution kaggle knowle...</td>\n",
       "      <td>1</td>\n",
       "      <td>12</td>\n",
       "    </tr>\n",
       "    <tr>\n",
       "      <th>63</th>\n",
       "      <td>biostatisticsrcodingondatasetsanalysisandplott...</td>\n",
       "      <td>1</td>\n",
       "      <td>35</td>\n",
       "    </tr>\n",
       "    <tr>\n",
       "      <th>268</th>\n",
       "      <td>game life premise first readme im write projec...</td>\n",
       "      <td>0</td>\n",
       "      <td>125</td>\n",
       "    </tr>\n",
       "    <tr>\n",
       "      <th>105</th>\n",
       "      <td>ppmi research main goal create system order cl...</td>\n",
       "      <td>1</td>\n",
       "      <td>78</td>\n",
       "    </tr>\n",
       "  </tbody>\n",
       "</table>\n",
       "</div>"
      ],
      "text/plain": [
       "                                               stopped  language_R  token_cnt\n",
       "117  us job analysis make people smilehttpsfortheba...           1        381\n",
       "8    bikesharingdemandkaggle solution kaggle knowle...           1         12\n",
       "63   biostatisticsrcodingondatasetsanalysisandplott...           1         35\n",
       "268  game life premise first readme im write projec...           0        125\n",
       "105  ppmi research main goal create system order cl...           1         78"
      ]
     },
     "execution_count": 19,
     "metadata": {},
     "output_type": "execute_result"
    }
   ],
   "source": [
    "train.head()"
   ]
  },
  {
   "cell_type": "code",
   "execution_count": 20,
   "id": "50815b31",
   "metadata": {},
   "outputs": [
    {
     "data": {
      "text/plain": [
       "0    93\n",
       "1    69\n",
       "Name: language_R, dtype: int64"
      ]
     },
     "execution_count": 20,
     "metadata": {},
     "output_type": "execute_result"
    }
   ],
   "source": [
    "train.language_R.value_counts()"
   ]
  },
  {
   "cell_type": "markdown",
   "id": "b1a6c581",
   "metadata": {},
   "source": [
    "## create X and y train/validate/test"
   ]
  },
  {
   "cell_type": "code",
   "execution_count": 21,
   "id": "69aa39df",
   "metadata": {},
   "outputs": [],
   "source": [
    "    # split train into X (dataframe, drop target) & y (series, keep target only)\n",
    "    X_train = train['stopped']\n",
    "    y_train = train['language_R']\n",
    "    \n",
    "    # split validate into X (dataframe, drop target) & y (series, keep target only)\n",
    "    X_validate = validate['stopped']\n",
    "    y_validate = validate['language_R']\n",
    "    \n",
    "    # split test into X (dataframe, drop target) & y (series, keep target only)\n",
    "    X_test = test['stopped']\n",
    "    y_test = test['language_R']"
   ]
  },
  {
   "cell_type": "markdown",
   "id": "38840bde",
   "metadata": {},
   "source": [
    "## TF-IDF"
   ]
  },
  {
   "cell_type": "code",
   "execution_count": 22,
   "id": "dbfd7e38",
   "metadata": {},
   "outputs": [],
   "source": [
    "tfidf = TfidfVectorizer()"
   ]
  },
  {
   "cell_type": "code",
   "execution_count": 23,
   "id": "e55a7918",
   "metadata": {},
   "outputs": [],
   "source": [
    "X_bow = tfidf.fit_transform(X_train)"
   ]
  },
  {
   "cell_type": "markdown",
   "id": "9fd59c1d",
   "metadata": {},
   "source": [
    "## MODELING NOW"
   ]
  },
  {
   "cell_type": "markdown",
   "id": "4708cf8b",
   "metadata": {},
   "source": [
    "### DTC maxDepth = 4"
   ]
  },
  {
   "cell_type": "code",
   "execution_count": 24,
   "id": "360c22b2",
   "metadata": {},
   "outputs": [],
   "source": [
    "# create the Decision Tree Classifier model \n",
    "dtc = DecisionTreeClassifier(max_depth=4)"
   ]
  },
  {
   "cell_type": "code",
   "execution_count": 25,
   "id": "f66d258d",
   "metadata": {},
   "outputs": [
    {
     "data": {
      "text/plain": [
       "0.8209876543209876"
      ]
     },
     "execution_count": 25,
     "metadata": {},
     "output_type": "execute_result"
    }
   ],
   "source": [
    "# fit the model to the TRAIN dataset:\n",
    "dtc.fit(X_bow, y_train)\n",
    "dtc.score(X_bow,y_train)"
   ]
  },
  {
   "cell_type": "code",
   "execution_count": 26,
   "id": "cce6c1cb",
   "metadata": {},
   "outputs": [
    {
     "data": {
      "text/html": [
       "<div>\n",
       "<style scoped>\n",
       "    .dataframe tbody tr th:only-of-type {\n",
       "        vertical-align: middle;\n",
       "    }\n",
       "\n",
       "    .dataframe tbody tr th {\n",
       "        vertical-align: top;\n",
       "    }\n",
       "\n",
       "    .dataframe thead th {\n",
       "        text-align: right;\n",
       "    }\n",
       "</style>\n",
       "<table border=\"1\" class=\"dataframe\">\n",
       "  <thead>\n",
       "    <tr style=\"text-align: right;\">\n",
       "      <th>language_R</th>\n",
       "      <th>0</th>\n",
       "      <th>1</th>\n",
       "    </tr>\n",
       "    <tr>\n",
       "      <th>row_0</th>\n",
       "      <th></th>\n",
       "      <th></th>\n",
       "    </tr>\n",
       "  </thead>\n",
       "  <tbody>\n",
       "    <tr>\n",
       "      <th>0</th>\n",
       "      <td>64</td>\n",
       "      <td>0</td>\n",
       "    </tr>\n",
       "    <tr>\n",
       "      <th>1</th>\n",
       "      <td>29</td>\n",
       "      <td>69</td>\n",
       "    </tr>\n",
       "  </tbody>\n",
       "</table>\n",
       "</div>"
      ],
      "text/plain": [
       "language_R   0   1\n",
       "row_0             \n",
       "0           64   0\n",
       "1           29  69"
      ]
     },
     "execution_count": 26,
     "metadata": {},
     "output_type": "execute_result"
    }
   ],
   "source": [
    "dtc_preds = dtc.predict(X_bow)\n",
    "pd.crosstab(dtc_preds,y_train)"
   ]
  },
  {
   "cell_type": "code",
   "execution_count": 27,
   "id": "01824ea5",
   "metadata": {},
   "outputs": [
    {
     "data": {
      "text/plain": [
       "0.7714285714285715"
      ]
     },
     "execution_count": 27,
     "metadata": {},
     "output_type": "execute_result"
    }
   ],
   "source": [
    "# as with any other sklearn transformation, \n",
    "# transform only on our validate and/or test, \n",
    "# only fit on train\n",
    "X_validate_bow = tfidf.transform(X_validate)\n",
    "dtc.score(X_validate_bow, y_validate)"
   ]
  },
  {
   "cell_type": "code",
   "execution_count": 28,
   "id": "8c084100",
   "metadata": {},
   "outputs": [
    {
     "name": "stdout",
     "output_type": "stream",
     "text": [
      "Accuracy-Train 0.821\n",
      "Accuracy-Validate 0.7714\n",
      "              precision    recall  f1-score   support\n",
      "\n",
      "           0       1.00      0.69      0.82        93\n",
      "           1       0.70      1.00      0.83        69\n",
      "\n",
      "    accuracy                           0.82       162\n",
      "   macro avg       0.85      0.84      0.82       162\n",
      "weighted avg       0.87      0.82      0.82       162\n",
      "\n",
      "              precision    recall  f1-score   support\n",
      "\n",
      "           0       0.90      0.68      0.77        40\n",
      "           1       0.68      0.90      0.77        30\n",
      "\n",
      "    accuracy                           0.77        70\n",
      "   macro avg       0.79      0.79      0.77        70\n",
      "weighted avg       0.80      0.77      0.77        70\n",
      "\n"
     ]
    }
   ],
   "source": [
    "print(f'Accuracy-Train {round(dtc.score(X_bow,y_train),4)}')\n",
    "print(f'Accuracy-Validate {round(dtc.score(X_validate_bow,y_validate),4)}')\n",
    "print(classification_report(y_train,dtc_preds))\n",
    "print(classification_report(y_validate,dtc.predict(X_validate_bow)))"
   ]
  },
  {
   "cell_type": "markdown",
   "id": "c4850d38",
   "metadata": {},
   "source": [
    "### Multinomial Naive Bayes"
   ]
  },
  {
   "cell_type": "code",
   "execution_count": 29,
   "id": "e5b20482",
   "metadata": {},
   "outputs": [
    {
     "data": {
      "text/plain": [
       "1.0"
      ]
     },
     "execution_count": 29,
     "metadata": {},
     "output_type": "execute_result"
    }
   ],
   "source": [
    "mnb = MultinomialNB(alpha = 0.1)\n",
    "mnb.fit(X_bow, y_train)\n",
    "mnb.score(X_bow, y_train)"
   ]
  },
  {
   "cell_type": "code",
   "execution_count": 30,
   "id": "d365a0b4",
   "metadata": {},
   "outputs": [
    {
     "data": {
      "text/html": [
       "<div>\n",
       "<style scoped>\n",
       "    .dataframe tbody tr th:only-of-type {\n",
       "        vertical-align: middle;\n",
       "    }\n",
       "\n",
       "    .dataframe tbody tr th {\n",
       "        vertical-align: top;\n",
       "    }\n",
       "\n",
       "    .dataframe thead th {\n",
       "        text-align: right;\n",
       "    }\n",
       "</style>\n",
       "<table border=\"1\" class=\"dataframe\">\n",
       "  <thead>\n",
       "    <tr style=\"text-align: right;\">\n",
       "      <th>language_R</th>\n",
       "      <th>0</th>\n",
       "      <th>1</th>\n",
       "    </tr>\n",
       "    <tr>\n",
       "      <th>row_0</th>\n",
       "      <th></th>\n",
       "      <th></th>\n",
       "    </tr>\n",
       "  </thead>\n",
       "  <tbody>\n",
       "    <tr>\n",
       "      <th>0</th>\n",
       "      <td>93</td>\n",
       "      <td>0</td>\n",
       "    </tr>\n",
       "    <tr>\n",
       "      <th>1</th>\n",
       "      <td>0</td>\n",
       "      <td>69</td>\n",
       "    </tr>\n",
       "  </tbody>\n",
       "</table>\n",
       "</div>"
      ],
      "text/plain": [
       "language_R   0   1\n",
       "row_0             \n",
       "0           93   0\n",
       "1            0  69"
      ]
     },
     "execution_count": 30,
     "metadata": {},
     "output_type": "execute_result"
    }
   ],
   "source": [
    "mnb_preds = mnb.predict(X_bow)\n",
    "pd.crosstab(mnb_preds,y_train)"
   ]
  },
  {
   "cell_type": "code",
   "execution_count": 31,
   "id": "de3cab00",
   "metadata": {},
   "outputs": [
    {
     "data": {
      "text/plain": [
       "0.7428571428571429"
      ]
     },
     "execution_count": 31,
     "metadata": {},
     "output_type": "execute_result"
    }
   ],
   "source": [
    "X_validate_bow = tfidf.transform(X_validate)\n",
    "mnb.score(X_validate_bow, y_validate)"
   ]
  },
  {
   "cell_type": "markdown",
   "id": "c9a6008a",
   "metadata": {},
   "source": [
    "### RFC maxDepth=6"
   ]
  },
  {
   "cell_type": "code",
   "execution_count": 32,
   "id": "f807d0d8",
   "metadata": {},
   "outputs": [
    {
     "data": {
      "text/plain": [
       "0.654320987654321"
      ]
     },
     "execution_count": 32,
     "metadata": {},
     "output_type": "execute_result"
    }
   ],
   "source": [
    "rf6 = RandomForestClassifier(n_estimators=201,max_depth=2,min_samples_leaf=2)\n",
    "rf6.fit(X_bow, y_train)\n",
    "rf6.score(X_bow, y_train)"
   ]
  },
  {
   "cell_type": "code",
   "execution_count": 33,
   "id": "dfc41282",
   "metadata": {},
   "outputs": [
    {
     "data": {
      "text/html": [
       "<div>\n",
       "<style scoped>\n",
       "    .dataframe tbody tr th:only-of-type {\n",
       "        vertical-align: middle;\n",
       "    }\n",
       "\n",
       "    .dataframe tbody tr th {\n",
       "        vertical-align: top;\n",
       "    }\n",
       "\n",
       "    .dataframe thead th {\n",
       "        text-align: right;\n",
       "    }\n",
       "</style>\n",
       "<table border=\"1\" class=\"dataframe\">\n",
       "  <thead>\n",
       "    <tr style=\"text-align: right;\">\n",
       "      <th>language_R</th>\n",
       "      <th>0</th>\n",
       "      <th>1</th>\n",
       "    </tr>\n",
       "    <tr>\n",
       "      <th>row_0</th>\n",
       "      <th></th>\n",
       "      <th></th>\n",
       "    </tr>\n",
       "  </thead>\n",
       "  <tbody>\n",
       "    <tr>\n",
       "      <th>0</th>\n",
       "      <td>93</td>\n",
       "      <td>56</td>\n",
       "    </tr>\n",
       "    <tr>\n",
       "      <th>1</th>\n",
       "      <td>0</td>\n",
       "      <td>13</td>\n",
       "    </tr>\n",
       "  </tbody>\n",
       "</table>\n",
       "</div>"
      ],
      "text/plain": [
       "language_R   0   1\n",
       "row_0             \n",
       "0           93  56\n",
       "1            0  13"
      ]
     },
     "execution_count": 33,
     "metadata": {},
     "output_type": "execute_result"
    }
   ],
   "source": [
    "rf6_preds = rf6.predict(X_bow)\n",
    "pd.crosstab(rf6_preds,y_train)"
   ]
  },
  {
   "cell_type": "code",
   "execution_count": 34,
   "id": "ab835ac1",
   "metadata": {},
   "outputs": [
    {
     "data": {
      "text/plain": [
       "0.5857142857142857"
      ]
     },
     "execution_count": 34,
     "metadata": {},
     "output_type": "execute_result"
    }
   ],
   "source": [
    "X_validate_bow = tfidf.transform(X_validate)\n",
    "rf6.score(X_validate_bow, y_validate)"
   ]
  },
  {
   "cell_type": "code",
   "execution_count": 35,
   "id": "3e993fcd",
   "metadata": {
    "scrolled": true
   },
   "outputs": [
    {
     "name": "stdout",
     "output_type": "stream",
     "text": [
      "Accuracy-Train 0.6543\n",
      "Accuracy-Validate 0.5857\n",
      "              precision    recall  f1-score   support\n",
      "\n",
      "           0       0.62      1.00      0.77        93\n",
      "           1       1.00      0.19      0.32        69\n",
      "\n",
      "    accuracy                           0.65       162\n",
      "   macro avg       0.81      0.59      0.54       162\n",
      "weighted avg       0.78      0.65      0.58       162\n",
      "\n",
      "              precision    recall  f1-score   support\n",
      "\n",
      "           0       0.58      1.00      0.73        40\n",
      "           1       1.00      0.03      0.06        30\n",
      "\n",
      "    accuracy                           0.59        70\n",
      "   macro avg       0.79      0.52      0.40        70\n",
      "weighted avg       0.76      0.59      0.45        70\n",
      "\n"
     ]
    }
   ],
   "source": [
    "print(f'Accuracy-Train {round(rf6.score(X_bow,y_train),4)}')\n",
    "print(f'Accuracy-Validate {round(rf6.score(X_validate_bow,y_validate),4)}')\n",
    "print(classification_report(y_train,rf6_preds))\n",
    "print(classification_report(y_validate,rf6.predict(X_validate_bow)))"
   ]
  },
  {
   "cell_type": "markdown",
   "id": "021fef06",
   "metadata": {},
   "source": [
    "### DTC maxDepth = 4 TEST"
   ]
  },
  {
   "cell_type": "code",
   "execution_count": 36,
   "id": "5ebcedbf",
   "metadata": {},
   "outputs": [
    {
     "data": {
      "text/plain": [
       "0.6779661016949152"
      ]
     },
     "execution_count": 36,
     "metadata": {},
     "output_type": "execute_result"
    }
   ],
   "source": [
    "# as with any other sklearn transformation, \n",
    "# transform only on our validate and/or test, \n",
    "# only fit on train\n",
    "X_test_bow = tfidf.transform(X_test)\n",
    "dtc.score(X_test_bow, y_test)"
   ]
  },
  {
   "cell_type": "code",
   "execution_count": 37,
   "id": "277e82d6",
   "metadata": {},
   "outputs": [
    {
     "data": {
      "text/html": [
       "<div>\n",
       "<style scoped>\n",
       "    .dataframe tbody tr th:only-of-type {\n",
       "        vertical-align: middle;\n",
       "    }\n",
       "\n",
       "    .dataframe tbody tr th {\n",
       "        vertical-align: top;\n",
       "    }\n",
       "\n",
       "    .dataframe thead th {\n",
       "        text-align: right;\n",
       "    }\n",
       "</style>\n",
       "<table border=\"1\" class=\"dataframe\">\n",
       "  <thead>\n",
       "    <tr style=\"text-align: right;\">\n",
       "      <th>language_R</th>\n",
       "      <th>0</th>\n",
       "      <th>1</th>\n",
       "    </tr>\n",
       "    <tr>\n",
       "      <th>row_0</th>\n",
       "      <th></th>\n",
       "      <th></th>\n",
       "    </tr>\n",
       "  </thead>\n",
       "  <tbody>\n",
       "    <tr>\n",
       "      <th>0</th>\n",
       "      <td>17</td>\n",
       "      <td>2</td>\n",
       "    </tr>\n",
       "    <tr>\n",
       "      <th>1</th>\n",
       "      <td>17</td>\n",
       "      <td>23</td>\n",
       "    </tr>\n",
       "  </tbody>\n",
       "</table>\n",
       "</div>"
      ],
      "text/plain": [
       "language_R   0   1\n",
       "row_0             \n",
       "0           17   2\n",
       "1           17  23"
      ]
     },
     "execution_count": 37,
     "metadata": {},
     "output_type": "execute_result"
    }
   ],
   "source": [
    "dtc_preds_test = dtc.predict(X_test_bow)\n",
    "pd.crosstab(dtc_preds_test,y_test)"
   ]
  },
  {
   "cell_type": "code",
   "execution_count": 38,
   "id": "c208457d",
   "metadata": {},
   "outputs": [
    {
     "name": "stdout",
     "output_type": "stream",
     "text": [
      "Accuracy-Train 0.821\n",
      "Accuracy-test 0.678\n",
      "              precision    recall  f1-score   support\n",
      "\n",
      "           0       1.00      0.69      0.82        93\n",
      "           1       0.70      1.00      0.83        69\n",
      "\n",
      "    accuracy                           0.82       162\n",
      "   macro avg       0.85      0.84      0.82       162\n",
      "weighted avg       0.87      0.82      0.82       162\n",
      "\n",
      "              precision    recall  f1-score   support\n",
      "\n",
      "           0       0.89      0.50      0.64        34\n",
      "           1       0.57      0.92      0.71        25\n",
      "\n",
      "    accuracy                           0.68        59\n",
      "   macro avg       0.73      0.71      0.67        59\n",
      "weighted avg       0.76      0.68      0.67        59\n",
      "\n"
     ]
    }
   ],
   "source": [
    "print(f'Accuracy-Train {round(dtc.score(X_bow,y_train),4)}')\n",
    "print(f'Accuracy-test {round(dtc.score(X_test_bow,y_test),4)}')\n",
    "print(classification_report(y_train,dtc_preds))\n",
    "print(classification_report(y_test,dtc.predict(X_test_bow)))"
   ]
  },
  {
   "cell_type": "markdown",
   "id": "8e668ddc",
   "metadata": {},
   "source": [
    "### print test predictions to .csv"
   ]
  },
  {
   "cell_type": "code",
   "execution_count": 39,
   "id": "8e512b99",
   "metadata": {},
   "outputs": [],
   "source": [
    "dtc_preds_test = dtc.predict(X_test_bow)"
   ]
  },
  {
   "cell_type": "code",
   "execution_count": 40,
   "id": "26bd6246",
   "metadata": {},
   "outputs": [
    {
     "data": {
      "text/plain": [
       "array([1, 1, 1, 1, 1, 0, 1, 0, 1, 1, 0, 0, 1, 1, 0, 0, 1, 1, 0, 1, 1, 1,\n",
       "       1, 1, 1, 0, 1, 1, 1, 1, 0, 0, 1, 1, 1, 1, 1, 1, 1, 1, 1, 1, 1, 1,\n",
       "       0, 1, 0, 1, 0, 0, 0, 1, 0, 0, 1, 1, 0, 0, 1], dtype=uint8)"
      ]
     },
     "execution_count": 40,
     "metadata": {},
     "output_type": "execute_result"
    }
   ],
   "source": [
    "dtc_preds_test"
   ]
  },
  {
   "cell_type": "code",
   "execution_count": 41,
   "id": "aa74ce1a",
   "metadata": {},
   "outputs": [],
   "source": [
    "pred_df = pd.DataFrame({'is_R':dtc_preds_test})"
   ]
  },
  {
   "cell_type": "code",
   "execution_count": 42,
   "id": "6bb82be3",
   "metadata": {
    "scrolled": true
   },
   "outputs": [
    {
     "data": {
      "text/html": [
       "<div>\n",
       "<style scoped>\n",
       "    .dataframe tbody tr th:only-of-type {\n",
       "        vertical-align: middle;\n",
       "    }\n",
       "\n",
       "    .dataframe tbody tr th {\n",
       "        vertical-align: top;\n",
       "    }\n",
       "\n",
       "    .dataframe thead th {\n",
       "        text-align: right;\n",
       "    }\n",
       "</style>\n",
       "<table border=\"1\" class=\"dataframe\">\n",
       "  <thead>\n",
       "    <tr style=\"text-align: right;\">\n",
       "      <th></th>\n",
       "      <th>is_R</th>\n",
       "    </tr>\n",
       "  </thead>\n",
       "  <tbody>\n",
       "    <tr>\n",
       "      <th>0</th>\n",
       "      <td>1</td>\n",
       "    </tr>\n",
       "    <tr>\n",
       "      <th>1</th>\n",
       "      <td>1</td>\n",
       "    </tr>\n",
       "    <tr>\n",
       "      <th>2</th>\n",
       "      <td>1</td>\n",
       "    </tr>\n",
       "    <tr>\n",
       "      <th>3</th>\n",
       "      <td>1</td>\n",
       "    </tr>\n",
       "    <tr>\n",
       "      <th>4</th>\n",
       "      <td>1</td>\n",
       "    </tr>\n",
       "    <tr>\n",
       "      <th>5</th>\n",
       "      <td>0</td>\n",
       "    </tr>\n",
       "    <tr>\n",
       "      <th>6</th>\n",
       "      <td>1</td>\n",
       "    </tr>\n",
       "    <tr>\n",
       "      <th>7</th>\n",
       "      <td>0</td>\n",
       "    </tr>\n",
       "    <tr>\n",
       "      <th>8</th>\n",
       "      <td>1</td>\n",
       "    </tr>\n",
       "    <tr>\n",
       "      <th>9</th>\n",
       "      <td>1</td>\n",
       "    </tr>\n",
       "    <tr>\n",
       "      <th>10</th>\n",
       "      <td>0</td>\n",
       "    </tr>\n",
       "    <tr>\n",
       "      <th>11</th>\n",
       "      <td>0</td>\n",
       "    </tr>\n",
       "    <tr>\n",
       "      <th>12</th>\n",
       "      <td>1</td>\n",
       "    </tr>\n",
       "    <tr>\n",
       "      <th>13</th>\n",
       "      <td>1</td>\n",
       "    </tr>\n",
       "    <tr>\n",
       "      <th>14</th>\n",
       "      <td>0</td>\n",
       "    </tr>\n",
       "    <tr>\n",
       "      <th>15</th>\n",
       "      <td>0</td>\n",
       "    </tr>\n",
       "    <tr>\n",
       "      <th>16</th>\n",
       "      <td>1</td>\n",
       "    </tr>\n",
       "    <tr>\n",
       "      <th>17</th>\n",
       "      <td>1</td>\n",
       "    </tr>\n",
       "    <tr>\n",
       "      <th>18</th>\n",
       "      <td>0</td>\n",
       "    </tr>\n",
       "    <tr>\n",
       "      <th>19</th>\n",
       "      <td>1</td>\n",
       "    </tr>\n",
       "    <tr>\n",
       "      <th>20</th>\n",
       "      <td>1</td>\n",
       "    </tr>\n",
       "    <tr>\n",
       "      <th>21</th>\n",
       "      <td>1</td>\n",
       "    </tr>\n",
       "    <tr>\n",
       "      <th>22</th>\n",
       "      <td>1</td>\n",
       "    </tr>\n",
       "    <tr>\n",
       "      <th>23</th>\n",
       "      <td>1</td>\n",
       "    </tr>\n",
       "    <tr>\n",
       "      <th>24</th>\n",
       "      <td>1</td>\n",
       "    </tr>\n",
       "    <tr>\n",
       "      <th>25</th>\n",
       "      <td>0</td>\n",
       "    </tr>\n",
       "    <tr>\n",
       "      <th>26</th>\n",
       "      <td>1</td>\n",
       "    </tr>\n",
       "    <tr>\n",
       "      <th>27</th>\n",
       "      <td>1</td>\n",
       "    </tr>\n",
       "    <tr>\n",
       "      <th>28</th>\n",
       "      <td>1</td>\n",
       "    </tr>\n",
       "    <tr>\n",
       "      <th>29</th>\n",
       "      <td>1</td>\n",
       "    </tr>\n",
       "    <tr>\n",
       "      <th>30</th>\n",
       "      <td>0</td>\n",
       "    </tr>\n",
       "    <tr>\n",
       "      <th>31</th>\n",
       "      <td>0</td>\n",
       "    </tr>\n",
       "    <tr>\n",
       "      <th>32</th>\n",
       "      <td>1</td>\n",
       "    </tr>\n",
       "    <tr>\n",
       "      <th>33</th>\n",
       "      <td>1</td>\n",
       "    </tr>\n",
       "    <tr>\n",
       "      <th>34</th>\n",
       "      <td>1</td>\n",
       "    </tr>\n",
       "    <tr>\n",
       "      <th>35</th>\n",
       "      <td>1</td>\n",
       "    </tr>\n",
       "    <tr>\n",
       "      <th>36</th>\n",
       "      <td>1</td>\n",
       "    </tr>\n",
       "    <tr>\n",
       "      <th>37</th>\n",
       "      <td>1</td>\n",
       "    </tr>\n",
       "    <tr>\n",
       "      <th>38</th>\n",
       "      <td>1</td>\n",
       "    </tr>\n",
       "    <tr>\n",
       "      <th>39</th>\n",
       "      <td>1</td>\n",
       "    </tr>\n",
       "    <tr>\n",
       "      <th>40</th>\n",
       "      <td>1</td>\n",
       "    </tr>\n",
       "    <tr>\n",
       "      <th>41</th>\n",
       "      <td>1</td>\n",
       "    </tr>\n",
       "    <tr>\n",
       "      <th>42</th>\n",
       "      <td>1</td>\n",
       "    </tr>\n",
       "    <tr>\n",
       "      <th>43</th>\n",
       "      <td>1</td>\n",
       "    </tr>\n",
       "    <tr>\n",
       "      <th>44</th>\n",
       "      <td>0</td>\n",
       "    </tr>\n",
       "    <tr>\n",
       "      <th>45</th>\n",
       "      <td>1</td>\n",
       "    </tr>\n",
       "    <tr>\n",
       "      <th>46</th>\n",
       "      <td>0</td>\n",
       "    </tr>\n",
       "    <tr>\n",
       "      <th>47</th>\n",
       "      <td>1</td>\n",
       "    </tr>\n",
       "    <tr>\n",
       "      <th>48</th>\n",
       "      <td>0</td>\n",
       "    </tr>\n",
       "    <tr>\n",
       "      <th>49</th>\n",
       "      <td>0</td>\n",
       "    </tr>\n",
       "    <tr>\n",
       "      <th>50</th>\n",
       "      <td>0</td>\n",
       "    </tr>\n",
       "    <tr>\n",
       "      <th>51</th>\n",
       "      <td>1</td>\n",
       "    </tr>\n",
       "    <tr>\n",
       "      <th>52</th>\n",
       "      <td>0</td>\n",
       "    </tr>\n",
       "    <tr>\n",
       "      <th>53</th>\n",
       "      <td>0</td>\n",
       "    </tr>\n",
       "    <tr>\n",
       "      <th>54</th>\n",
       "      <td>1</td>\n",
       "    </tr>\n",
       "    <tr>\n",
       "      <th>55</th>\n",
       "      <td>1</td>\n",
       "    </tr>\n",
       "    <tr>\n",
       "      <th>56</th>\n",
       "      <td>0</td>\n",
       "    </tr>\n",
       "    <tr>\n",
       "      <th>57</th>\n",
       "      <td>0</td>\n",
       "    </tr>\n",
       "    <tr>\n",
       "      <th>58</th>\n",
       "      <td>1</td>\n",
       "    </tr>\n",
       "  </tbody>\n",
       "</table>\n",
       "</div>"
      ],
      "text/plain": [
       "    is_R\n",
       "0      1\n",
       "1      1\n",
       "2      1\n",
       "3      1\n",
       "4      1\n",
       "5      0\n",
       "6      1\n",
       "7      0\n",
       "8      1\n",
       "9      1\n",
       "10     0\n",
       "11     0\n",
       "12     1\n",
       "13     1\n",
       "14     0\n",
       "15     0\n",
       "16     1\n",
       "17     1\n",
       "18     0\n",
       "19     1\n",
       "20     1\n",
       "21     1\n",
       "22     1\n",
       "23     1\n",
       "24     1\n",
       "25     0\n",
       "26     1\n",
       "27     1\n",
       "28     1\n",
       "29     1\n",
       "30     0\n",
       "31     0\n",
       "32     1\n",
       "33     1\n",
       "34     1\n",
       "35     1\n",
       "36     1\n",
       "37     1\n",
       "38     1\n",
       "39     1\n",
       "40     1\n",
       "41     1\n",
       "42     1\n",
       "43     1\n",
       "44     0\n",
       "45     1\n",
       "46     0\n",
       "47     1\n",
       "48     0\n",
       "49     0\n",
       "50     0\n",
       "51     1\n",
       "52     0\n",
       "53     0\n",
       "54     1\n",
       "55     1\n",
       "56     0\n",
       "57     0\n",
       "58     1"
      ]
     },
     "execution_count": 42,
     "metadata": {},
     "output_type": "execute_result"
    }
   ],
   "source": [
    "pred_df"
   ]
  },
  {
   "cell_type": "code",
   "execution_count": 43,
   "id": "d483d071",
   "metadata": {},
   "outputs": [],
   "source": [
    "pred_df.to_csv('pred_test_set.csv',index=False)"
   ]
  },
  {
   "cell_type": "markdown",
   "id": "872f931a",
   "metadata": {},
   "source": [
    "---\n",
    "---\n",
    "---\n",
    "### BIGRAMS with DTC mD=4"
   ]
  },
  {
   "cell_type": "code",
   "execution_count": 44,
   "id": "a603c198",
   "metadata": {},
   "outputs": [],
   "source": [
    "tfidf2 = TfidfVectorizer(ngram_range=(2,2))\n",
    "X_bow = tfidf2.fit_transform(X_train)"
   ]
  },
  {
   "cell_type": "code",
   "execution_count": 45,
   "id": "d899a58b",
   "metadata": {},
   "outputs": [
    {
     "data": {
      "text/plain": [
       "0.7469135802469136"
      ]
     },
     "execution_count": 45,
     "metadata": {},
     "output_type": "execute_result"
    }
   ],
   "source": [
    "dtc = DecisionTreeClassifier(max_depth=4)\n",
    "dtc.fit(X_bow, y_train)\n",
    "dtc.score(X_bow, y_train)"
   ]
  },
  {
   "cell_type": "code",
   "execution_count": 46,
   "id": "92e63d55",
   "metadata": {},
   "outputs": [
    {
     "data": {
      "text/html": [
       "<div>\n",
       "<style scoped>\n",
       "    .dataframe tbody tr th:only-of-type {\n",
       "        vertical-align: middle;\n",
       "    }\n",
       "\n",
       "    .dataframe tbody tr th {\n",
       "        vertical-align: top;\n",
       "    }\n",
       "\n",
       "    .dataframe thead th {\n",
       "        text-align: right;\n",
       "    }\n",
       "</style>\n",
       "<table border=\"1\" class=\"dataframe\">\n",
       "  <thead>\n",
       "    <tr style=\"text-align: right;\">\n",
       "      <th>language_R</th>\n",
       "      <th>0</th>\n",
       "      <th>1</th>\n",
       "    </tr>\n",
       "    <tr>\n",
       "      <th>row_0</th>\n",
       "      <th></th>\n",
       "      <th></th>\n",
       "    </tr>\n",
       "  </thead>\n",
       "  <tbody>\n",
       "    <tr>\n",
       "      <th>0</th>\n",
       "      <td>52</td>\n",
       "      <td>0</td>\n",
       "    </tr>\n",
       "    <tr>\n",
       "      <th>1</th>\n",
       "      <td>41</td>\n",
       "      <td>69</td>\n",
       "    </tr>\n",
       "  </tbody>\n",
       "</table>\n",
       "</div>"
      ],
      "text/plain": [
       "language_R   0   1\n",
       "row_0             \n",
       "0           52   0\n",
       "1           41  69"
      ]
     },
     "execution_count": 46,
     "metadata": {},
     "output_type": "execute_result"
    }
   ],
   "source": [
    "dtc_preds = dtc.predict(X_bow)\n",
    "pd.crosstab(dtc_preds,y_train)"
   ]
  },
  {
   "cell_type": "code",
   "execution_count": 47,
   "id": "12a63f1a",
   "metadata": {},
   "outputs": [
    {
     "data": {
      "text/plain": [
       "0.7714285714285715"
      ]
     },
     "execution_count": 47,
     "metadata": {},
     "output_type": "execute_result"
    }
   ],
   "source": [
    "# as with any other sklearn transformation, \n",
    "# transform only on our validate and/or test, \n",
    "# only fit on train\n",
    "X_validate_bow = tfidf2.transform(X_validate)\n",
    "dtc.score(X_validate_bow, y_validate)\n"
   ]
  },
  {
   "cell_type": "code",
   "execution_count": 48,
   "id": "1738a4e2",
   "metadata": {},
   "outputs": [
    {
     "name": "stdout",
     "output_type": "stream",
     "text": [
      "Accuracy-Train 0.7469\n",
      "Accuracy-Validate 0.7714\n",
      "              precision    recall  f1-score   support\n",
      "\n",
      "           0       1.00      0.56      0.72        93\n",
      "           1       0.63      1.00      0.77        69\n",
      "\n",
      "    accuracy                           0.75       162\n",
      "   macro avg       0.81      0.78      0.74       162\n",
      "weighted avg       0.84      0.75      0.74       162\n",
      "\n",
      "              precision    recall  f1-score   support\n",
      "\n",
      "           0       0.96      0.62      0.76        40\n",
      "           1       0.66      0.97      0.78        30\n",
      "\n",
      "    accuracy                           0.77        70\n",
      "   macro avg       0.81      0.80      0.77        70\n",
      "weighted avg       0.83      0.77      0.77        70\n",
      "\n"
     ]
    }
   ],
   "source": [
    "print(f'Accuracy-Train {round(dtc.score(X_bow,y_train),4)}')\n",
    "print(f'Accuracy-Validate {round(dtc.score(X_validate_bow,y_validate),4)}')\n",
    "print(classification_report(y_train,dtc_preds))\n",
    "print(classification_report(y_validate,dtc.predict(X_validate_bow)))"
   ]
  },
  {
   "cell_type": "code",
   "execution_count": 49,
   "id": "4ddd77cd",
   "metadata": {},
   "outputs": [
    {
     "data": {
      "text/plain": [
       "0.6271186440677966"
      ]
     },
     "execution_count": 49,
     "metadata": {},
     "output_type": "execute_result"
    }
   ],
   "source": [
    "# as with any other sklearn transformation, \n",
    "# transform only on our validate and/or test, \n",
    "# only fit on train\n",
    "X_test_bow = tfidf2.transform(X_test)\n",
    "dtc.score(X_test_bow, y_test)"
   ]
  },
  {
   "cell_type": "code",
   "execution_count": 50,
   "id": "51ea010f",
   "metadata": {},
   "outputs": [
    {
     "name": "stdout",
     "output_type": "stream",
     "text": [
      "Accuracy-Train 0.7469\n",
      "Accuracy-test 0.6271\n",
      "              precision    recall  f1-score   support\n",
      "\n",
      "           0       1.00      0.56      0.72        93\n",
      "           1       0.63      1.00      0.77        69\n",
      "\n",
      "    accuracy                           0.75       162\n",
      "   macro avg       0.81      0.78      0.74       162\n",
      "weighted avg       0.84      0.75      0.74       162\n",
      "\n",
      "              precision    recall  f1-score   support\n",
      "\n",
      "           0       0.93      0.38      0.54        34\n",
      "           1       0.53      0.96      0.69        25\n",
      "\n",
      "    accuracy                           0.63        59\n",
      "   macro avg       0.73      0.67      0.61        59\n",
      "weighted avg       0.76      0.63      0.60        59\n",
      "\n"
     ]
    }
   ],
   "source": [
    "print(f'Accuracy-Train {round(dtc.score(X_bow,y_train),4)}')\n",
    "print(f'Accuracy-test {round(dtc.score(X_test_bow,y_test),4)}')\n",
    "print(classification_report(y_train,dtc_preds))\n",
    "print(classification_report(y_test,dtc.predict(X_test_bow)))"
   ]
  },
  {
   "cell_type": "code",
   "execution_count": null,
   "id": "0dd74a28",
   "metadata": {},
   "outputs": [],
   "source": []
  },
  {
   "cell_type": "code",
   "execution_count": null,
   "id": "b30fbf71",
   "metadata": {},
   "outputs": [],
   "source": []
  },
  {
   "cell_type": "code",
   "execution_count": null,
   "id": "2ac6c7f2",
   "metadata": {},
   "outputs": [],
   "source": []
  }
 ],
 "metadata": {
  "kernelspec": {
   "display_name": "Python 3 (ipykernel)",
   "language": "python",
   "name": "python3"
  },
  "language_info": {
   "codemirror_mode": {
    "name": "ipython",
    "version": 3
   },
   "file_extension": ".py",
   "mimetype": "text/x-python",
   "name": "python",
   "nbconvert_exporter": "python",
   "pygments_lexer": "ipython3",
   "version": "3.9.13"
  }
 },
 "nbformat": 4,
 "nbformat_minor": 5
}
