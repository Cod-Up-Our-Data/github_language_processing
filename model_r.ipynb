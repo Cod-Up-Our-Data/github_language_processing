{
 "cells": [
  {
   "cell_type": "code",
   "execution_count": 44,
   "id": "1e0d9850",
   "metadata": {},
   "outputs": [],
   "source": [
    "#standard ds imports\n",
    "import pandas as pd\n",
    "import numpy as np\n",
    "#viz and stats\n",
    "import matplotlib.pyplot as plt\n",
    "import seaborn as sns\n",
    "from scipy import stats\n",
    "# .py imports\n",
    "import wrangle_g as wr\n",
    "#import modeling as md\n",
    "import os\n",
    "import nltk\n",
    "import unicodedata\n",
    "import re\n",
    "#sklearn imports\n",
    "from sklearn.model_selection import train_test_split\n",
    "import sklearn.preprocessing\n",
    "from sklearn.neighbors import KNeighborsClassifier\n",
    "from sklearn.metrics import classification_report, accuracy_score,confusion_matrix, plot_confusion_matrix\n",
    "from sklearn.linear_model import LogisticRegression\n",
    "from sklearn.tree import DecisionTreeClassifier\n",
    "from sklearn.ensemble import RandomForestClassifier, GradientBoostingClassifier\n",
    "from sklearn.feature_extraction.text import TfidfVectorizer\n",
    "from sklearn.naive_bayes import MultinomialNB\n",
    "#CATboost imports\n",
    "from catboost import CatBoostClassifier\n",
    "from sklearn.preprocessing import StandardScaler\n",
    "from sklearn.neural_network import MLPClassifier"
   ]
  },
  {
   "cell_type": "code",
   "execution_count": 2,
   "id": "b5843574",
   "metadata": {},
   "outputs": [],
   "source": [
    "df = pd.read_csv('lang_data_prepped.csv')"
   ]
  },
  {
   "cell_type": "code",
   "execution_count": 3,
   "id": "4a8554b2",
   "metadata": {},
   "outputs": [
    {
     "data": {
      "text/html": [
       "<div>\n",
       "<style scoped>\n",
       "    .dataframe tbody tr th:only-of-type {\n",
       "        vertical-align: middle;\n",
       "    }\n",
       "\n",
       "    .dataframe tbody tr th {\n",
       "        vertical-align: top;\n",
       "    }\n",
       "\n",
       "    .dataframe thead th {\n",
       "        text-align: right;\n",
       "    }\n",
       "</style>\n",
       "<table border=\"1\" class=\"dataframe\">\n",
       "  <thead>\n",
       "    <tr style=\"text-align: right;\">\n",
       "      <th></th>\n",
       "      <th>repo</th>\n",
       "      <th>language</th>\n",
       "      <th>readme_contents</th>\n",
       "      <th>stopped</th>\n",
       "    </tr>\n",
       "  </thead>\n",
       "  <tbody>\n",
       "    <tr>\n",
       "      <th>0</th>\n",
       "      <td>ujjwalkarn/DataScienceR</td>\n",
       "      <td>R</td>\n",
       "      <td># R Data Science Tutorials\\n- This repo contai...</td>\n",
       "      <td>data science tutorials repo contain curated li...</td>\n",
       "    </tr>\n",
       "    <tr>\n",
       "      <th>1</th>\n",
       "      <td>IndrajeetPatil/ggstatsplot</td>\n",
       "      <td>R</td>\n",
       "      <td>---\\noutput: github_document\\n---\\n\\n  &lt;!-- RE...</td>\n",
       "      <td>output githubdocument readmemd generate readme...</td>\n",
       "    </tr>\n",
       "    <tr>\n",
       "      <th>2</th>\n",
       "      <td>easystats/easystats</td>\n",
       "      <td>R</td>\n",
       "      <td>---\\noutput: github_document\\n---\\n\\n```{r, wa...</td>\n",
       "      <td>output githubdocument warningfalse messagefals...</td>\n",
       "    </tr>\n",
       "    <tr>\n",
       "      <th>3</th>\n",
       "      <td>seandavi/sars2pack</td>\n",
       "      <td>R</td>\n",
       "      <td>---\\noutput: \\n  - rmarkdown::github_document\\...</td>\n",
       "      <td>output rmarkdowngithubdocument rmarkdownhtmldo...</td>\n",
       "    </tr>\n",
       "    <tr>\n",
       "      <th>4</th>\n",
       "      <td>markvanderloo/lumberjack</td>\n",
       "      <td>R</td>\n",
       "      <td>## Track changes in data\\n[![Build Status](htt...</td>\n",
       "      <td>track change data build statushttpstravisciorg...</td>\n",
       "    </tr>\n",
       "    <tr>\n",
       "      <th>...</th>\n",
       "      <td>...</td>\n",
       "      <td>...</td>\n",
       "      <td>...</td>\n",
       "      <td>...</td>\n",
       "    </tr>\n",
       "    <tr>\n",
       "      <th>286</th>\n",
       "      <td>rahulbordoloi/Machine-Learning</td>\n",
       "      <td>Python</td>\n",
       "      <td># Machine-Learning\\nContains my Glossary for M...</td>\n",
       "      <td>machinelearning contain glossary machine learn...</td>\n",
       "    </tr>\n",
       "    <tr>\n",
       "      <th>287</th>\n",
       "      <td>Oslandia/QDeeplandia</td>\n",
       "      <td>Python</td>\n",
       "      <td>QGIS plugin dedicated to 2D semantic segmentat...</td>\n",
       "      <td>qgis plugin dedicate 2d semantic segmentation ...</td>\n",
       "    </tr>\n",
       "    <tr>\n",
       "      <th>288</th>\n",
       "      <td>arjunbhasin2013/BaselinePredictionMLFramework</td>\n",
       "      <td>Python</td>\n",
       "      <td># Baseline Prediction Machine Learning Framewo...</td>\n",
       "      <td>baseline prediction machine learn framework ma...</td>\n",
       "    </tr>\n",
       "    <tr>\n",
       "      <th>289</th>\n",
       "      <td>PonderaLab/datascience4economists</td>\n",
       "      <td>Python</td>\n",
       "      <td># Datascience4economists\\n\\nFirst of all, welc...</td>\n",
       "      <td>datascience4economists first welcome repositor...</td>\n",
       "    </tr>\n",
       "    <tr>\n",
       "      <th>290</th>\n",
       "      <td>joaoariedi/etl_luigi</td>\n",
       "      <td>Python</td>\n",
       "      <td># LUIGI and PostgreSQL ETL tests\\nGet data fro...</td>\n",
       "      <td>luigi postgresql etl test get data api use req...</td>\n",
       "    </tr>\n",
       "  </tbody>\n",
       "</table>\n",
       "<p>291 rows × 4 columns</p>\n",
       "</div>"
      ],
      "text/plain": [
       "                                              repo language  \\\n",
       "0                          ujjwalkarn/DataScienceR        R   \n",
       "1                       IndrajeetPatil/ggstatsplot        R   \n",
       "2                              easystats/easystats        R   \n",
       "3                               seandavi/sars2pack        R   \n",
       "4                         markvanderloo/lumberjack        R   \n",
       "..                                             ...      ...   \n",
       "286                 rahulbordoloi/Machine-Learning   Python   \n",
       "287                           Oslandia/QDeeplandia   Python   \n",
       "288  arjunbhasin2013/BaselinePredictionMLFramework   Python   \n",
       "289              PonderaLab/datascience4economists   Python   \n",
       "290                           joaoariedi/etl_luigi   Python   \n",
       "\n",
       "                                       readme_contents  \\\n",
       "0    # R Data Science Tutorials\\n- This repo contai...   \n",
       "1    ---\\noutput: github_document\\n---\\n\\n  <!-- RE...   \n",
       "2    ---\\noutput: github_document\\n---\\n\\n```{r, wa...   \n",
       "3    ---\\noutput: \\n  - rmarkdown::github_document\\...   \n",
       "4    ## Track changes in data\\n[![Build Status](htt...   \n",
       "..                                                 ...   \n",
       "286  # Machine-Learning\\nContains my Glossary for M...   \n",
       "287  QGIS plugin dedicated to 2D semantic segmentat...   \n",
       "288  # Baseline Prediction Machine Learning Framewo...   \n",
       "289  # Datascience4economists\\n\\nFirst of all, welc...   \n",
       "290  # LUIGI and PostgreSQL ETL tests\\nGet data fro...   \n",
       "\n",
       "                                               stopped  \n",
       "0    data science tutorials repo contain curated li...  \n",
       "1    output githubdocument readmemd generate readme...  \n",
       "2    output githubdocument warningfalse messagefals...  \n",
       "3    output rmarkdowngithubdocument rmarkdownhtmldo...  \n",
       "4    track change data build statushttpstravisciorg...  \n",
       "..                                                 ...  \n",
       "286  machinelearning contain glossary machine learn...  \n",
       "287  qgis plugin dedicate 2d semantic segmentation ...  \n",
       "288  baseline prediction machine learn framework ma...  \n",
       "289  datascience4economists first welcome repositor...  \n",
       "290  luigi postgresql etl test get data api use req...  \n",
       "\n",
       "[291 rows x 4 columns]"
      ]
     },
     "execution_count": 3,
     "metadata": {},
     "output_type": "execute_result"
    }
   ],
   "source": [
    "df"
   ]
  },
  {
   "cell_type": "code",
   "execution_count": 4,
   "id": "fbbd6233",
   "metadata": {},
   "outputs": [],
   "source": [
    "df = pd.get_dummies(df, columns=['language'], drop_first=True)"
   ]
  },
  {
   "cell_type": "code",
   "execution_count": 5,
   "id": "c74e8718",
   "metadata": {},
   "outputs": [
    {
     "data": {
      "text/html": [
       "<div>\n",
       "<style scoped>\n",
       "    .dataframe tbody tr th:only-of-type {\n",
       "        vertical-align: middle;\n",
       "    }\n",
       "\n",
       "    .dataframe tbody tr th {\n",
       "        vertical-align: top;\n",
       "    }\n",
       "\n",
       "    .dataframe thead th {\n",
       "        text-align: right;\n",
       "    }\n",
       "</style>\n",
       "<table border=\"1\" class=\"dataframe\">\n",
       "  <thead>\n",
       "    <tr style=\"text-align: right;\">\n",
       "      <th></th>\n",
       "      <th>repo</th>\n",
       "      <th>readme_contents</th>\n",
       "      <th>stopped</th>\n",
       "      <th>language_R</th>\n",
       "    </tr>\n",
       "  </thead>\n",
       "  <tbody>\n",
       "    <tr>\n",
       "      <th>0</th>\n",
       "      <td>ujjwalkarn/DataScienceR</td>\n",
       "      <td># R Data Science Tutorials\\n- This repo contai...</td>\n",
       "      <td>data science tutorials repo contain curated li...</td>\n",
       "      <td>1</td>\n",
       "    </tr>\n",
       "    <tr>\n",
       "      <th>1</th>\n",
       "      <td>IndrajeetPatil/ggstatsplot</td>\n",
       "      <td>---\\noutput: github_document\\n---\\n\\n  &lt;!-- RE...</td>\n",
       "      <td>output githubdocument readmemd generate readme...</td>\n",
       "      <td>1</td>\n",
       "    </tr>\n",
       "    <tr>\n",
       "      <th>2</th>\n",
       "      <td>easystats/easystats</td>\n",
       "      <td>---\\noutput: github_document\\n---\\n\\n```{r, wa...</td>\n",
       "      <td>output githubdocument warningfalse messagefals...</td>\n",
       "      <td>1</td>\n",
       "    </tr>\n",
       "    <tr>\n",
       "      <th>3</th>\n",
       "      <td>seandavi/sars2pack</td>\n",
       "      <td>---\\noutput: \\n  - rmarkdown::github_document\\...</td>\n",
       "      <td>output rmarkdowngithubdocument rmarkdownhtmldo...</td>\n",
       "      <td>1</td>\n",
       "    </tr>\n",
       "    <tr>\n",
       "      <th>4</th>\n",
       "      <td>markvanderloo/lumberjack</td>\n",
       "      <td>## Track changes in data\\n[![Build Status](htt...</td>\n",
       "      <td>track change data build statushttpstravisciorg...</td>\n",
       "      <td>1</td>\n",
       "    </tr>\n",
       "  </tbody>\n",
       "</table>\n",
       "</div>"
      ],
      "text/plain": [
       "                         repo  \\\n",
       "0     ujjwalkarn/DataScienceR   \n",
       "1  IndrajeetPatil/ggstatsplot   \n",
       "2         easystats/easystats   \n",
       "3          seandavi/sars2pack   \n",
       "4    markvanderloo/lumberjack   \n",
       "\n",
       "                                     readme_contents  \\\n",
       "0  # R Data Science Tutorials\\n- This repo contai...   \n",
       "1  ---\\noutput: github_document\\n---\\n\\n  <!-- RE...   \n",
       "2  ---\\noutput: github_document\\n---\\n\\n```{r, wa...   \n",
       "3  ---\\noutput: \\n  - rmarkdown::github_document\\...   \n",
       "4  ## Track changes in data\\n[![Build Status](htt...   \n",
       "\n",
       "                                             stopped  language_R  \n",
       "0  data science tutorials repo contain curated li...           1  \n",
       "1  output githubdocument readmemd generate readme...           1  \n",
       "2  output githubdocument warningfalse messagefals...           1  \n",
       "3  output rmarkdowngithubdocument rmarkdownhtmldo...           1  \n",
       "4  track change data build statushttpstravisciorg...           1  "
      ]
     },
     "execution_count": 5,
     "metadata": {},
     "output_type": "execute_result"
    }
   ],
   "source": [
    "df.head()"
   ]
  },
  {
   "cell_type": "markdown",
   "id": "bfb3b562",
   "metadata": {},
   "source": [
    "## BASELINE-using all datapoints"
   ]
  },
  {
   "cell_type": "code",
   "execution_count": 6,
   "id": "945b2b49",
   "metadata": {},
   "outputs": [
    {
     "data": {
      "text/plain": [
       "0    167\n",
       "1    124\n",
       "Name: language_R, dtype: int64"
      ]
     },
     "execution_count": 6,
     "metadata": {},
     "output_type": "execute_result"
    }
   ],
   "source": [
    "df.language_R.value_counts()"
   ]
  },
  {
   "cell_type": "code",
   "execution_count": 7,
   "id": "1353e6d6",
   "metadata": {},
   "outputs": [],
   "source": [
    "df['baseline'] = 0"
   ]
  },
  {
   "cell_type": "code",
   "execution_count": 8,
   "id": "0601f059",
   "metadata": {},
   "outputs": [
    {
     "name": "stdout",
     "output_type": "stream",
     "text": [
      "baseline accuracy: 57.39%\n"
     ]
    }
   ],
   "source": [
    "baseline_accuracy = (df.baseline == df.language_R).mean()\n",
    "print(f'baseline accuracy: {baseline_accuracy:.2%}')"
   ]
  },
  {
   "cell_type": "code",
   "execution_count": 9,
   "id": "68442f39",
   "metadata": {},
   "outputs": [
    {
     "name": "stdout",
     "output_type": "stream",
     "text": [
      "baseline recall: 100.00%\n"
     ]
    }
   ],
   "source": [
    "subset = df[df.language_R == 0]\n",
    "baseline_recall = (subset.baseline == subset.language_R).mean()\n",
    "print(f'baseline recall: {baseline_recall:.2%}')"
   ]
  },
  {
   "cell_type": "code",
   "execution_count": 10,
   "id": "5716074b",
   "metadata": {},
   "outputs": [
    {
     "name": "stdout",
     "output_type": "stream",
     "text": [
      "baseline precision: 57.39%\n"
     ]
    }
   ],
   "source": [
    "subset = df[df.baseline == 0]\n",
    "baseline_precision = (subset.baseline == subset.language_R).mean()\n",
    "print(f'baseline precision: {baseline_precision:.2%}')"
   ]
  },
  {
   "cell_type": "code",
   "execution_count": 11,
   "id": "8250b87e",
   "metadata": {},
   "outputs": [],
   "source": [
    "df.drop(columns='baseline',inplace=True)"
   ]
  },
  {
   "cell_type": "code",
   "execution_count": null,
   "id": "ecdecfdd",
   "metadata": {},
   "outputs": [],
   "source": []
  },
  {
   "cell_type": "code",
   "execution_count": null,
   "id": "3a4c5141",
   "metadata": {},
   "outputs": [],
   "source": []
  },
  {
   "cell_type": "markdown",
   "id": "6c4d5161",
   "metadata": {},
   "source": [
    "## Train/Validate/Test Split"
   ]
  },
  {
   "cell_type": "code",
   "execution_count": 12,
   "id": "dcea5ce4",
   "metadata": {},
   "outputs": [],
   "source": [
    "df.rename(columns = {'language_R':'language'}, inplace = True)"
   ]
  },
  {
   "cell_type": "code",
   "execution_count": 13,
   "id": "15ef6b1d",
   "metadata": {},
   "outputs": [],
   "source": [
    "train, validate, test = wr.final_wrangle(df)"
   ]
  },
  {
   "cell_type": "code",
   "execution_count": 14,
   "id": "9dd44117",
   "metadata": {},
   "outputs": [
    {
     "data": {
      "text/plain": [
       "(162, 70, 59)"
      ]
     },
     "execution_count": 14,
     "metadata": {},
     "output_type": "execute_result"
    }
   ],
   "source": [
    "train.shape[0],validate.shape[0],test.shape[0]"
   ]
  },
  {
   "cell_type": "markdown",
   "id": "9727f32d",
   "metadata": {},
   "source": [
    "## Create a column showing token count"
   ]
  },
  {
   "cell_type": "code",
   "execution_count": 15,
   "id": "8b7bd512",
   "metadata": {},
   "outputs": [],
   "source": [
    "train['token_cnt'] = [len(row['stopped'].split()) for _, row in train.iterrows()]"
   ]
  },
  {
   "cell_type": "code",
   "execution_count": 16,
   "id": "a603776e",
   "metadata": {
    "scrolled": true
   },
   "outputs": [
    {
     "data": {
      "text/html": [
       "<div>\n",
       "<style scoped>\n",
       "    .dataframe tbody tr th:only-of-type {\n",
       "        vertical-align: middle;\n",
       "    }\n",
       "\n",
       "    .dataframe tbody tr th {\n",
       "        vertical-align: top;\n",
       "    }\n",
       "\n",
       "    .dataframe thead th {\n",
       "        text-align: right;\n",
       "    }\n",
       "</style>\n",
       "<table border=\"1\" class=\"dataframe\">\n",
       "  <thead>\n",
       "    <tr style=\"text-align: right;\">\n",
       "      <th></th>\n",
       "      <th>repo</th>\n",
       "      <th>readme_contents</th>\n",
       "      <th>stopped</th>\n",
       "      <th>language</th>\n",
       "      <th>token_cnt</th>\n",
       "    </tr>\n",
       "  </thead>\n",
       "  <tbody>\n",
       "    <tr>\n",
       "      <th>117</th>\n",
       "      <td>storieswithsiva/US-Job-Market-Analysis</td>\n",
       "      <td># US Job Analysis in R\\n[![Makes people smile]...</td>\n",
       "      <td>us job analysis make people smilehttpsfortheba...</td>\n",
       "      <td>1</td>\n",
       "      <td>381</td>\n",
       "    </tr>\n",
       "    <tr>\n",
       "      <th>8</th>\n",
       "      <td>adityashrm21/Bike-Sharing-Demand-Kaggle</td>\n",
       "      <td># Bike-Sharing-Demand---Kaggle\\n\\nSolution to ...</td>\n",
       "      <td>bikesharingdemandkaggle solution kaggle knowle...</td>\n",
       "      <td>1</td>\n",
       "      <td>12</td>\n",
       "    </tr>\n",
       "    <tr>\n",
       "      <th>63</th>\n",
       "      <td>Sarah-Hesham-2022/Bio-Statistics-R-Coding-On-D...</td>\n",
       "      <td># Bio-Statistics-R-Coding-On-Datasets-Analysis...</td>\n",
       "      <td>biostatisticsrcodingondatasetsanalysisandplott...</td>\n",
       "      <td>1</td>\n",
       "      <td>35</td>\n",
       "    </tr>\n",
       "    <tr>\n",
       "      <th>268</th>\n",
       "      <td>Tech-Matt/game_of_life</td>\n",
       "      <td># Game of Life\\n\\n## Premise\\nThis is the firs...</td>\n",
       "      <td>game life premise first readme im write projec...</td>\n",
       "      <td>0</td>\n",
       "      <td>125</td>\n",
       "    </tr>\n",
       "    <tr>\n",
       "      <th>105</th>\n",
       "      <td>vincenzorusso3/tesi-triennale</td>\n",
       "      <td># PPMI Research\\nThe main goal is to create a ...</td>\n",
       "      <td>ppmi research main goal create system order cl...</td>\n",
       "      <td>1</td>\n",
       "      <td>78</td>\n",
       "    </tr>\n",
       "  </tbody>\n",
       "</table>\n",
       "</div>"
      ],
      "text/plain": [
       "                                                  repo  \\\n",
       "117             storieswithsiva/US-Job-Market-Analysis   \n",
       "8              adityashrm21/Bike-Sharing-Demand-Kaggle   \n",
       "63   Sarah-Hesham-2022/Bio-Statistics-R-Coding-On-D...   \n",
       "268                             Tech-Matt/game_of_life   \n",
       "105                      vincenzorusso3/tesi-triennale   \n",
       "\n",
       "                                       readme_contents  \\\n",
       "117  # US Job Analysis in R\\n[![Makes people smile]...   \n",
       "8    # Bike-Sharing-Demand---Kaggle\\n\\nSolution to ...   \n",
       "63   # Bio-Statistics-R-Coding-On-Datasets-Analysis...   \n",
       "268  # Game of Life\\n\\n## Premise\\nThis is the firs...   \n",
       "105  # PPMI Research\\nThe main goal is to create a ...   \n",
       "\n",
       "                                               stopped  language  token_cnt  \n",
       "117  us job analysis make people smilehttpsfortheba...         1        381  \n",
       "8    bikesharingdemandkaggle solution kaggle knowle...         1         12  \n",
       "63   biostatisticsrcodingondatasetsanalysisandplott...         1         35  \n",
       "268  game life premise first readme im write projec...         0        125  \n",
       "105  ppmi research main goal create system order cl...         1         78  "
      ]
     },
     "execution_count": 16,
     "metadata": {},
     "output_type": "execute_result"
    }
   ],
   "source": [
    "train.head()"
   ]
  },
  {
   "cell_type": "markdown",
   "id": "0189d6a8",
   "metadata": {},
   "source": [
    "## rename column to language_R"
   ]
  },
  {
   "cell_type": "code",
   "execution_count": 17,
   "id": "55feaf83",
   "metadata": {},
   "outputs": [],
   "source": [
    "train.rename(columns = {'language':'language_R'}, inplace = True)\n",
    "validate.rename(columns = {'language':'language_R'}, inplace = True)\n",
    "test.rename(columns = {'language':'language_R'}, inplace = True)"
   ]
  },
  {
   "cell_type": "markdown",
   "id": "fa447567",
   "metadata": {},
   "source": [
    "## remove extraneous clutter cols"
   ]
  },
  {
   "cell_type": "code",
   "execution_count": 18,
   "id": "fa5f38d5",
   "metadata": {},
   "outputs": [],
   "source": [
    "train = train.drop(columns=['repo','readme_contents'])\n",
    "validate = validate.drop(columns=['repo','readme_contents'])\n",
    "test = test.drop(columns=['repo','readme_contents'])"
   ]
  },
  {
   "cell_type": "code",
   "execution_count": 19,
   "id": "e0bb0f47",
   "metadata": {},
   "outputs": [
    {
     "data": {
      "text/html": [
       "<div>\n",
       "<style scoped>\n",
       "    .dataframe tbody tr th:only-of-type {\n",
       "        vertical-align: middle;\n",
       "    }\n",
       "\n",
       "    .dataframe tbody tr th {\n",
       "        vertical-align: top;\n",
       "    }\n",
       "\n",
       "    .dataframe thead th {\n",
       "        text-align: right;\n",
       "    }\n",
       "</style>\n",
       "<table border=\"1\" class=\"dataframe\">\n",
       "  <thead>\n",
       "    <tr style=\"text-align: right;\">\n",
       "      <th></th>\n",
       "      <th>stopped</th>\n",
       "      <th>language_R</th>\n",
       "      <th>token_cnt</th>\n",
       "    </tr>\n",
       "  </thead>\n",
       "  <tbody>\n",
       "    <tr>\n",
       "      <th>117</th>\n",
       "      <td>us job analysis make people smilehttpsfortheba...</td>\n",
       "      <td>1</td>\n",
       "      <td>381</td>\n",
       "    </tr>\n",
       "    <tr>\n",
       "      <th>8</th>\n",
       "      <td>bikesharingdemandkaggle solution kaggle knowle...</td>\n",
       "      <td>1</td>\n",
       "      <td>12</td>\n",
       "    </tr>\n",
       "    <tr>\n",
       "      <th>63</th>\n",
       "      <td>biostatisticsrcodingondatasetsanalysisandplott...</td>\n",
       "      <td>1</td>\n",
       "      <td>35</td>\n",
       "    </tr>\n",
       "    <tr>\n",
       "      <th>268</th>\n",
       "      <td>game life premise first readme im write projec...</td>\n",
       "      <td>0</td>\n",
       "      <td>125</td>\n",
       "    </tr>\n",
       "    <tr>\n",
       "      <th>105</th>\n",
       "      <td>ppmi research main goal create system order cl...</td>\n",
       "      <td>1</td>\n",
       "      <td>78</td>\n",
       "    </tr>\n",
       "  </tbody>\n",
       "</table>\n",
       "</div>"
      ],
      "text/plain": [
       "                                               stopped  language_R  token_cnt\n",
       "117  us job analysis make people smilehttpsfortheba...           1        381\n",
       "8    bikesharingdemandkaggle solution kaggle knowle...           1         12\n",
       "63   biostatisticsrcodingondatasetsanalysisandplott...           1         35\n",
       "268  game life premise first readme im write projec...           0        125\n",
       "105  ppmi research main goal create system order cl...           1         78"
      ]
     },
     "execution_count": 19,
     "metadata": {},
     "output_type": "execute_result"
    }
   ],
   "source": [
    "train.head()"
   ]
  },
  {
   "cell_type": "code",
   "execution_count": 20,
   "id": "9785d3eb",
   "metadata": {},
   "outputs": [
    {
     "data": {
      "text/plain": [
       "0    93\n",
       "1    69\n",
       "Name: language_R, dtype: int64"
      ]
     },
     "execution_count": 20,
     "metadata": {},
     "output_type": "execute_result"
    }
   ],
   "source": [
    "train.language_R.value_counts()"
   ]
  },
  {
   "cell_type": "markdown",
   "id": "4edc025c",
   "metadata": {},
   "source": [
    "## create X and y train/validate/test"
   ]
  },
  {
   "cell_type": "code",
   "execution_count": 33,
   "id": "67b0fb2a",
   "metadata": {},
   "outputs": [],
   "source": [
    "    # split train into X (dataframe, drop target) & y (series, keep target only)\n",
    "    X_train = train['stopped']\n",
    "    y_train = train['language_R']\n",
    "    \n",
    "    # split validate into X (dataframe, drop target) & y (series, keep target only)\n",
    "    X_validate = validate['stopped']\n",
    "    y_validate = validate['language_R']\n",
    "    \n",
    "    # split test into X (dataframe, drop target) & y (series, keep target only)\n",
    "    X_test = test['stopped']\n",
    "    y_test = test['language_R']"
   ]
  },
  {
   "cell_type": "markdown",
   "id": "7414d902",
   "metadata": {},
   "source": [
    "## TF-IDF"
   ]
  },
  {
   "cell_type": "code",
   "execution_count": 34,
   "id": "abe41eae",
   "metadata": {},
   "outputs": [],
   "source": [
    "tfidf = TfidfVectorizer()"
   ]
  },
  {
   "cell_type": "code",
   "execution_count": 35,
   "id": "6409bb13",
   "metadata": {},
   "outputs": [],
   "source": [
    "X_bow = tfidf.fit_transform(X_train)"
   ]
  },
  {
   "cell_type": "markdown",
   "id": "1a5f4008",
   "metadata": {},
   "source": [
    "## MODELING NOW"
   ]
  },
  {
   "cell_type": "markdown",
   "id": "619e9be8",
   "metadata": {},
   "source": [
    "### DTC maxDepth = 4"
   ]
  },
  {
   "cell_type": "code",
   "execution_count": 36,
   "id": "10cc2ff4",
   "metadata": {},
   "outputs": [],
   "source": [
    "# create the Decision Tree Classifier model \n",
    "dtc = DecisionTreeClassifier(max_depth=4)"
   ]
  },
  {
   "cell_type": "code",
   "execution_count": 37,
   "id": "ccc1809c",
   "metadata": {},
   "outputs": [
    {
     "data": {
      "text/plain": [
       "0.8209876543209876"
      ]
     },
     "execution_count": 37,
     "metadata": {},
     "output_type": "execute_result"
    }
   ],
   "source": [
    "# fit the model to the TRAIN dataset:\n",
    "dtc.fit(X_bow, y_train)\n",
    "dtc.score(X_bow,y_train)"
   ]
  },
  {
   "cell_type": "code",
   "execution_count": 38,
   "id": "c537807c",
   "metadata": {},
   "outputs": [
    {
     "data": {
      "text/html": [
       "<div>\n",
       "<style scoped>\n",
       "    .dataframe tbody tr th:only-of-type {\n",
       "        vertical-align: middle;\n",
       "    }\n",
       "\n",
       "    .dataframe tbody tr th {\n",
       "        vertical-align: top;\n",
       "    }\n",
       "\n",
       "    .dataframe thead th {\n",
       "        text-align: right;\n",
       "    }\n",
       "</style>\n",
       "<table border=\"1\" class=\"dataframe\">\n",
       "  <thead>\n",
       "    <tr style=\"text-align: right;\">\n",
       "      <th>language_R</th>\n",
       "      <th>0</th>\n",
       "      <th>1</th>\n",
       "    </tr>\n",
       "    <tr>\n",
       "      <th>row_0</th>\n",
       "      <th></th>\n",
       "      <th></th>\n",
       "    </tr>\n",
       "  </thead>\n",
       "  <tbody>\n",
       "    <tr>\n",
       "      <th>0</th>\n",
       "      <td>64</td>\n",
       "      <td>0</td>\n",
       "    </tr>\n",
       "    <tr>\n",
       "      <th>1</th>\n",
       "      <td>29</td>\n",
       "      <td>69</td>\n",
       "    </tr>\n",
       "  </tbody>\n",
       "</table>\n",
       "</div>"
      ],
      "text/plain": [
       "language_R   0   1\n",
       "row_0             \n",
       "0           64   0\n",
       "1           29  69"
      ]
     },
     "execution_count": 38,
     "metadata": {},
     "output_type": "execute_result"
    }
   ],
   "source": [
    "dtc_preds = dtc.predict(X_bow)\n",
    "pd.crosstab(dtc_preds,y_train)"
   ]
  },
  {
   "cell_type": "code",
   "execution_count": 40,
   "id": "a1507d38",
   "metadata": {},
   "outputs": [
    {
     "data": {
      "text/plain": [
       "0.7714285714285715"
      ]
     },
     "execution_count": 40,
     "metadata": {},
     "output_type": "execute_result"
    }
   ],
   "source": [
    "# as with any other sklearn transformation, \n",
    "# transform only on our validate and/or test, \n",
    "# only fit on train\n",
    "X_validate_bow = tfidf.transform(X_validate)\n",
    "dtc.score(X_validate_bow, y_validate)"
   ]
  },
  {
   "cell_type": "code",
   "execution_count": 42,
   "id": "7b4282c4",
   "metadata": {},
   "outputs": [
    {
     "name": "stdout",
     "output_type": "stream",
     "text": [
      "Accuracy-Train 0.821\n",
      "Accuracy-Validate 0.7714\n",
      "              precision    recall  f1-score   support\n",
      "\n",
      "           0       1.00      0.69      0.82        93\n",
      "           1       0.70      1.00      0.83        69\n",
      "\n",
      "    accuracy                           0.82       162\n",
      "   macro avg       0.85      0.84      0.82       162\n",
      "weighted avg       0.87      0.82      0.82       162\n",
      "\n",
      "              precision    recall  f1-score   support\n",
      "\n",
      "           0       0.90      0.68      0.77        40\n",
      "           1       0.68      0.90      0.77        30\n",
      "\n",
      "    accuracy                           0.77        70\n",
      "   macro avg       0.79      0.79      0.77        70\n",
      "weighted avg       0.80      0.77      0.77        70\n",
      "\n"
     ]
    }
   ],
   "source": [
    "print(f'Accuracy-Train {round(dtc.score(X_bow,y_train),4)}')\n",
    "print(f'Accuracy-Validate {round(dtc.score(X_validate_bow,y_validate),4)}')\n",
    "print(classification_report(y_train,dtc_preds))\n",
    "print(classification_report(y_validate,dtc.predict(X_validate_bow)))"
   ]
  },
  {
   "cell_type": "markdown",
   "id": "affd54b3",
   "metadata": {},
   "source": [
    "### Multinomial Naive Bayes"
   ]
  },
  {
   "cell_type": "code",
   "execution_count": 63,
   "id": "15a738df",
   "metadata": {},
   "outputs": [
    {
     "data": {
      "text/plain": [
       "1.0"
      ]
     },
     "execution_count": 63,
     "metadata": {},
     "output_type": "execute_result"
    }
   ],
   "source": [
    "mnb = MultinomialNB(alpha = 0.1)\n",
    "mnb.fit(X_bow, y_train)\n",
    "mnb.score(X_bow, y_train)"
   ]
  },
  {
   "cell_type": "code",
   "execution_count": 64,
   "id": "602e578b",
   "metadata": {},
   "outputs": [
    {
     "data": {
      "text/html": [
       "<div>\n",
       "<style scoped>\n",
       "    .dataframe tbody tr th:only-of-type {\n",
       "        vertical-align: middle;\n",
       "    }\n",
       "\n",
       "    .dataframe tbody tr th {\n",
       "        vertical-align: top;\n",
       "    }\n",
       "\n",
       "    .dataframe thead th {\n",
       "        text-align: right;\n",
       "    }\n",
       "</style>\n",
       "<table border=\"1\" class=\"dataframe\">\n",
       "  <thead>\n",
       "    <tr style=\"text-align: right;\">\n",
       "      <th>language_R</th>\n",
       "      <th>0</th>\n",
       "      <th>1</th>\n",
       "    </tr>\n",
       "    <tr>\n",
       "      <th>row_0</th>\n",
       "      <th></th>\n",
       "      <th></th>\n",
       "    </tr>\n",
       "  </thead>\n",
       "  <tbody>\n",
       "    <tr>\n",
       "      <th>0</th>\n",
       "      <td>93</td>\n",
       "      <td>0</td>\n",
       "    </tr>\n",
       "    <tr>\n",
       "      <th>1</th>\n",
       "      <td>0</td>\n",
       "      <td>69</td>\n",
       "    </tr>\n",
       "  </tbody>\n",
       "</table>\n",
       "</div>"
      ],
      "text/plain": [
       "language_R   0   1\n",
       "row_0             \n",
       "0           93   0\n",
       "1            0  69"
      ]
     },
     "execution_count": 64,
     "metadata": {},
     "output_type": "execute_result"
    }
   ],
   "source": [
    "mnb_preds = mnb.predict(X_bow)\n",
    "pd.crosstab(mnb_preds,y_train)"
   ]
  },
  {
   "cell_type": "code",
   "execution_count": 65,
   "id": "e1ff3314",
   "metadata": {},
   "outputs": [
    {
     "data": {
      "text/plain": [
       "0.7428571428571429"
      ]
     },
     "execution_count": 65,
     "metadata": {},
     "output_type": "execute_result"
    }
   ],
   "source": [
    "X_validate_bow = tfidf.transform(X_validate)\n",
    "mnb.score(X_validate_bow, y_validate)"
   ]
  },
  {
   "cell_type": "markdown",
   "id": "edeb198a",
   "metadata": {},
   "source": [
    "### RFC maxDepth=6"
   ]
  },
  {
   "cell_type": "code",
   "execution_count": 78,
   "id": "41a5cb81",
   "metadata": {},
   "outputs": [
    {
     "data": {
      "text/plain": [
       "0.6481481481481481"
      ]
     },
     "execution_count": 78,
     "metadata": {},
     "output_type": "execute_result"
    }
   ],
   "source": [
    "rf6 = RandomForestClassifier(n_estimators=201,max_depth=2,min_samples_leaf=2)\n",
    "rf6.fit(X_bow, y_train)\n",
    "rf6.score(X_bow, y_train)"
   ]
  },
  {
   "cell_type": "code",
   "execution_count": 79,
   "id": "3eab9e90",
   "metadata": {},
   "outputs": [
    {
     "data": {
      "text/html": [
       "<div>\n",
       "<style scoped>\n",
       "    .dataframe tbody tr th:only-of-type {\n",
       "        vertical-align: middle;\n",
       "    }\n",
       "\n",
       "    .dataframe tbody tr th {\n",
       "        vertical-align: top;\n",
       "    }\n",
       "\n",
       "    .dataframe thead th {\n",
       "        text-align: right;\n",
       "    }\n",
       "</style>\n",
       "<table border=\"1\" class=\"dataframe\">\n",
       "  <thead>\n",
       "    <tr style=\"text-align: right;\">\n",
       "      <th>language_R</th>\n",
       "      <th>0</th>\n",
       "      <th>1</th>\n",
       "    </tr>\n",
       "    <tr>\n",
       "      <th>row_0</th>\n",
       "      <th></th>\n",
       "      <th></th>\n",
       "    </tr>\n",
       "  </thead>\n",
       "  <tbody>\n",
       "    <tr>\n",
       "      <th>0</th>\n",
       "      <td>93</td>\n",
       "      <td>57</td>\n",
       "    </tr>\n",
       "    <tr>\n",
       "      <th>1</th>\n",
       "      <td>0</td>\n",
       "      <td>12</td>\n",
       "    </tr>\n",
       "  </tbody>\n",
       "</table>\n",
       "</div>"
      ],
      "text/plain": [
       "language_R   0   1\n",
       "row_0             \n",
       "0           93  57\n",
       "1            0  12"
      ]
     },
     "execution_count": 79,
     "metadata": {},
     "output_type": "execute_result"
    }
   ],
   "source": [
    "rf6_preds = rf6.predict(X_bow)\n",
    "pd.crosstab(rf6_preds,y_train)"
   ]
  },
  {
   "cell_type": "code",
   "execution_count": 80,
   "id": "93858610",
   "metadata": {},
   "outputs": [
    {
     "data": {
      "text/plain": [
       "0.6"
      ]
     },
     "execution_count": 80,
     "metadata": {},
     "output_type": "execute_result"
    }
   ],
   "source": [
    "X_validate_bow = tfidf.transform(X_validate)\n",
    "rf6.score(X_validate_bow, y_validate)"
   ]
  },
  {
   "cell_type": "code",
   "execution_count": 81,
   "id": "b1bc567a",
   "metadata": {
    "scrolled": true
   },
   "outputs": [
    {
     "name": "stdout",
     "output_type": "stream",
     "text": [
      "Accuracy-Train 0.6481\n",
      "Accuracy-Validate 0.6\n",
      "              precision    recall  f1-score   support\n",
      "\n",
      "           0       0.62      1.00      0.77        93\n",
      "           1       1.00      0.17      0.30        69\n",
      "\n",
      "    accuracy                           0.65       162\n",
      "   macro avg       0.81      0.59      0.53       162\n",
      "weighted avg       0.78      0.65      0.57       162\n",
      "\n",
      "              precision    recall  f1-score   support\n",
      "\n",
      "           0       0.59      1.00      0.74        40\n",
      "           1       1.00      0.07      0.12        30\n",
      "\n",
      "    accuracy                           0.60        70\n",
      "   macro avg       0.79      0.53      0.43        70\n",
      "weighted avg       0.76      0.60      0.48        70\n",
      "\n"
     ]
    }
   ],
   "source": [
    "print(f'Accuracy-Train {round(rf6.score(X_bow,y_train),4)}')\n",
    "print(f'Accuracy-Validate {round(rf6.score(X_validate_bow,y_validate),4)}')\n",
    "print(classification_report(y_train,rf6_preds))\n",
    "print(classification_report(y_validate,rf6.predict(X_validate_bow)))"
   ]
  },
  {
   "cell_type": "markdown",
   "id": "3f33f529",
   "metadata": {},
   "source": [
    "### DTC maxDepth = 4 TEST"
   ]
  },
  {
   "cell_type": "code",
   "execution_count": 84,
   "id": "29a99093",
   "metadata": {},
   "outputs": [
    {
     "data": {
      "text/plain": [
       "0.6779661016949152"
      ]
     },
     "execution_count": 84,
     "metadata": {},
     "output_type": "execute_result"
    }
   ],
   "source": [
    "# as with any other sklearn transformation, \n",
    "# transform only on our validate and/or test, \n",
    "# only fit on train\n",
    "X_test_bow = tfidf.transform(X_test)\n",
    "dtc.score(X_test_bow, y_test)"
   ]
  },
  {
   "cell_type": "code",
   "execution_count": 86,
   "id": "019da714",
   "metadata": {},
   "outputs": [
    {
     "name": "stdout",
     "output_type": "stream",
     "text": [
      "Accuracy-Train 0.821\n",
      "Accuracy-test 0.678\n",
      "              precision    recall  f1-score   support\n",
      "\n",
      "           0       1.00      0.69      0.82        93\n",
      "           1       0.70      1.00      0.83        69\n",
      "\n",
      "    accuracy                           0.82       162\n",
      "   macro avg       0.85      0.84      0.82       162\n",
      "weighted avg       0.87      0.82      0.82       162\n",
      "\n",
      "              precision    recall  f1-score   support\n",
      "\n",
      "           0       0.89      0.50      0.64        34\n",
      "           1       0.57      0.92      0.71        25\n",
      "\n",
      "    accuracy                           0.68        59\n",
      "   macro avg       0.73      0.71      0.67        59\n",
      "weighted avg       0.76      0.68      0.67        59\n",
      "\n"
     ]
    }
   ],
   "source": [
    "print(f'Accuracy-Train {round(dtc.score(X_bow,y_train),4)}')\n",
    "print(f'Accuracy-test {round(dtc.score(X_test_bow,y_test),4)}')\n",
    "print(classification_report(y_train,dtc_preds))\n",
    "print(classification_report(y_test,dtc.predict(X_test_bow)))"
   ]
  },
  {
   "cell_type": "markdown",
   "id": "6db5ff35",
   "metadata": {},
   "source": [
    "### BIGRAMS with DTC mD=4"
   ]
  },
  {
   "cell_type": "code",
   "execution_count": 87,
   "id": "9601964f",
   "metadata": {},
   "outputs": [],
   "source": [
    "tfidf2 = TfidfVectorizer(ngram_range=(2,2))\n",
    "X_bow = tfidf2.fit_transform(X_train)"
   ]
  },
  {
   "cell_type": "code",
   "execution_count": 88,
   "id": "7917b1e5",
   "metadata": {},
   "outputs": [
    {
     "data": {
      "text/plain": [
       "0.7469135802469136"
      ]
     },
     "execution_count": 88,
     "metadata": {},
     "output_type": "execute_result"
    }
   ],
   "source": [
    "dtc = DecisionTreeClassifier(max_depth=4)\n",
    "dtc.fit(X_bow, y_train)\n",
    "dtc.score(X_bow, y_train)"
   ]
  },
  {
   "cell_type": "code",
   "execution_count": 90,
   "id": "498dcb4b",
   "metadata": {},
   "outputs": [
    {
     "data": {
      "text/html": [
       "<div>\n",
       "<style scoped>\n",
       "    .dataframe tbody tr th:only-of-type {\n",
       "        vertical-align: middle;\n",
       "    }\n",
       "\n",
       "    .dataframe tbody tr th {\n",
       "        vertical-align: top;\n",
       "    }\n",
       "\n",
       "    .dataframe thead th {\n",
       "        text-align: right;\n",
       "    }\n",
       "</style>\n",
       "<table border=\"1\" class=\"dataframe\">\n",
       "  <thead>\n",
       "    <tr style=\"text-align: right;\">\n",
       "      <th>language_R</th>\n",
       "      <th>0</th>\n",
       "      <th>1</th>\n",
       "    </tr>\n",
       "    <tr>\n",
       "      <th>row_0</th>\n",
       "      <th></th>\n",
       "      <th></th>\n",
       "    </tr>\n",
       "  </thead>\n",
       "  <tbody>\n",
       "    <tr>\n",
       "      <th>0</th>\n",
       "      <td>52</td>\n",
       "      <td>0</td>\n",
       "    </tr>\n",
       "    <tr>\n",
       "      <th>1</th>\n",
       "      <td>41</td>\n",
       "      <td>69</td>\n",
       "    </tr>\n",
       "  </tbody>\n",
       "</table>\n",
       "</div>"
      ],
      "text/plain": [
       "language_R   0   1\n",
       "row_0             \n",
       "0           52   0\n",
       "1           41  69"
      ]
     },
     "execution_count": 90,
     "metadata": {},
     "output_type": "execute_result"
    }
   ],
   "source": [
    "dtc_preds = dtc.predict(X_bow)\n",
    "pd.crosstab(dtc_preds,y_train)"
   ]
  },
  {
   "cell_type": "code",
   "execution_count": 91,
   "id": "eaeed9a4",
   "metadata": {},
   "outputs": [
    {
     "data": {
      "text/plain": [
       "0.7714285714285715"
      ]
     },
     "execution_count": 91,
     "metadata": {},
     "output_type": "execute_result"
    }
   ],
   "source": [
    "# as with any other sklearn transformation, \n",
    "# transform only on our validate and/or test, \n",
    "# only fit on train\n",
    "X_validate_bow = tfidf2.transform(X_validate)\n",
    "dtc.score(X_validate_bow, y_validate)\n"
   ]
  },
  {
   "cell_type": "code",
   "execution_count": 92,
   "id": "b8250956",
   "metadata": {},
   "outputs": [
    {
     "name": "stdout",
     "output_type": "stream",
     "text": [
      "Accuracy-Train 0.7469\n",
      "Accuracy-Validate 0.7714\n",
      "              precision    recall  f1-score   support\n",
      "\n",
      "           0       1.00      0.56      0.72        93\n",
      "           1       0.63      1.00      0.77        69\n",
      "\n",
      "    accuracy                           0.75       162\n",
      "   macro avg       0.81      0.78      0.74       162\n",
      "weighted avg       0.84      0.75      0.74       162\n",
      "\n",
      "              precision    recall  f1-score   support\n",
      "\n",
      "           0       0.96      0.62      0.76        40\n",
      "           1       0.66      0.97      0.78        30\n",
      "\n",
      "    accuracy                           0.77        70\n",
      "   macro avg       0.81      0.80      0.77        70\n",
      "weighted avg       0.83      0.77      0.77        70\n",
      "\n"
     ]
    }
   ],
   "source": [
    "print(f'Accuracy-Train {round(dtc.score(X_bow,y_train),4)}')\n",
    "print(f'Accuracy-Validate {round(dtc.score(X_validate_bow,y_validate),4)}')\n",
    "print(classification_report(y_train,dtc_preds))\n",
    "print(classification_report(y_validate,dtc.predict(X_validate_bow)))"
   ]
  },
  {
   "cell_type": "code",
   "execution_count": 93,
   "id": "a70285d9",
   "metadata": {},
   "outputs": [
    {
     "data": {
      "text/plain": [
       "0.6271186440677966"
      ]
     },
     "execution_count": 93,
     "metadata": {},
     "output_type": "execute_result"
    }
   ],
   "source": [
    "# as with any other sklearn transformation, \n",
    "# transform only on our validate and/or test, \n",
    "# only fit on train\n",
    "X_test_bow = tfidf2.transform(X_test)\n",
    "dtc.score(X_test_bow, y_test)"
   ]
  },
  {
   "cell_type": "code",
   "execution_count": 94,
   "id": "492b7ddc",
   "metadata": {},
   "outputs": [
    {
     "name": "stdout",
     "output_type": "stream",
     "text": [
      "Accuracy-Train 0.7469\n",
      "Accuracy-test 0.6271\n",
      "              precision    recall  f1-score   support\n",
      "\n",
      "           0       1.00      0.56      0.72        93\n",
      "           1       0.63      1.00      0.77        69\n",
      "\n",
      "    accuracy                           0.75       162\n",
      "   macro avg       0.81      0.78      0.74       162\n",
      "weighted avg       0.84      0.75      0.74       162\n",
      "\n",
      "              precision    recall  f1-score   support\n",
      "\n",
      "           0       0.93      0.38      0.54        34\n",
      "           1       0.53      0.96      0.69        25\n",
      "\n",
      "    accuracy                           0.63        59\n",
      "   macro avg       0.73      0.67      0.61        59\n",
      "weighted avg       0.76      0.63      0.60        59\n",
      "\n"
     ]
    }
   ],
   "source": [
    "print(f'Accuracy-Train {round(dtc.score(X_bow,y_train),4)}')\n",
    "print(f'Accuracy-test {round(dtc.score(X_test_bow,y_test),4)}')\n",
    "print(classification_report(y_train,dtc_preds))\n",
    "print(classification_report(y_test,dtc.predict(X_test_bow)))"
   ]
  },
  {
   "cell_type": "code",
   "execution_count": null,
   "id": "0de746d0",
   "metadata": {},
   "outputs": [],
   "source": []
  },
  {
   "cell_type": "code",
   "execution_count": null,
   "id": "67c46571",
   "metadata": {},
   "outputs": [],
   "source": []
  },
  {
   "cell_type": "code",
   "execution_count": null,
   "id": "0032214a",
   "metadata": {},
   "outputs": [],
   "source": []
  },
  {
   "cell_type": "code",
   "execution_count": null,
   "id": "54b75d3b",
   "metadata": {},
   "outputs": [],
   "source": []
  }
 ],
 "metadata": {
  "kernelspec": {
   "display_name": "Python 3 (ipykernel)",
   "language": "python",
   "name": "python3"
  },
  "language_info": {
   "codemirror_mode": {
    "name": "ipython",
    "version": 3
   },
   "file_extension": ".py",
   "mimetype": "text/x-python",
   "name": "python",
   "nbconvert_exporter": "python",
   "pygments_lexer": "ipython3",
   "version": "3.9.13"
  }
 },
 "nbformat": 4,
 "nbformat_minor": 5
}
