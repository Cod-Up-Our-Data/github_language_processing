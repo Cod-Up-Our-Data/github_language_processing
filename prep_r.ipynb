{
 "cells": [
  {
   "cell_type": "code",
   "execution_count": 23,
   "id": "ea5b9a14",
   "metadata": {},
   "outputs": [],
   "source": [
    "#standard imports\n",
    "import pandas as pd\n",
    "import numpy as np\n",
    "import unicodedata\n",
    "import re\n",
    "import nltk\n",
    "from bs4 import BeautifulSoup\n",
    "import requests\n",
    "from nltk.corpus import stopwords"
   ]
  },
  {
   "cell_type": "code",
   "execution_count": 4,
   "id": "c61209b1",
   "metadata": {},
   "outputs": [],
   "source": [
    "df = pd.read_csv('language_data.csv')"
   ]
  },
  {
   "cell_type": "code",
   "execution_count": 5,
   "id": "caff889b",
   "metadata": {},
   "outputs": [
    {
     "data": {
      "text/html": [
       "<div>\n",
       "<style scoped>\n",
       "    .dataframe tbody tr th:only-of-type {\n",
       "        vertical-align: middle;\n",
       "    }\n",
       "\n",
       "    .dataframe tbody tr th {\n",
       "        vertical-align: top;\n",
       "    }\n",
       "\n",
       "    .dataframe thead th {\n",
       "        text-align: right;\n",
       "    }\n",
       "</style>\n",
       "<table border=\"1\" class=\"dataframe\">\n",
       "  <thead>\n",
       "    <tr style=\"text-align: right;\">\n",
       "      <th></th>\n",
       "      <th>repo</th>\n",
       "      <th>language</th>\n",
       "      <th>readme_contents</th>\n",
       "    </tr>\n",
       "  </thead>\n",
       "  <tbody>\n",
       "    <tr>\n",
       "      <th>0</th>\n",
       "      <td>ujjwalkarn/DataScienceR</td>\n",
       "      <td>R</td>\n",
       "      <td># R Data Science Tutorials\\n- This repo contai...</td>\n",
       "    </tr>\n",
       "    <tr>\n",
       "      <th>1</th>\n",
       "      <td>IndrajeetPatil/ggstatsplot</td>\n",
       "      <td>R</td>\n",
       "      <td>---\\noutput: github_document\\n---\\n\\n  &lt;!-- RE...</td>\n",
       "    </tr>\n",
       "    <tr>\n",
       "      <th>2</th>\n",
       "      <td>easystats/easystats</td>\n",
       "      <td>R</td>\n",
       "      <td>---\\noutput: github_document\\n---\\n\\n```{r, wa...</td>\n",
       "    </tr>\n",
       "    <tr>\n",
       "      <th>3</th>\n",
       "      <td>seandavi/sars2pack</td>\n",
       "      <td>R</td>\n",
       "      <td>---\\noutput: \\n  - rmarkdown::github_document\\...</td>\n",
       "    </tr>\n",
       "    <tr>\n",
       "      <th>4</th>\n",
       "      <td>markvanderloo/lumberjack</td>\n",
       "      <td>R</td>\n",
       "      <td>## Track changes in data\\n[![Build Status](htt...</td>\n",
       "    </tr>\n",
       "    <tr>\n",
       "      <th>...</th>\n",
       "      <td>...</td>\n",
       "      <td>...</td>\n",
       "      <td>...</td>\n",
       "    </tr>\n",
       "    <tr>\n",
       "      <th>286</th>\n",
       "      <td>rahulbordoloi/Machine-Learning</td>\n",
       "      <td>Python</td>\n",
       "      <td># Machine-Learning\\nContains my Glossary for M...</td>\n",
       "    </tr>\n",
       "    <tr>\n",
       "      <th>287</th>\n",
       "      <td>Oslandia/QDeeplandia</td>\n",
       "      <td>Python</td>\n",
       "      <td>QGIS plugin dedicated to 2D semantic segmentat...</td>\n",
       "    </tr>\n",
       "    <tr>\n",
       "      <th>288</th>\n",
       "      <td>arjunbhasin2013/BaselinePredictionMLFramework</td>\n",
       "      <td>Python</td>\n",
       "      <td># Baseline Prediction Machine Learning Framewo...</td>\n",
       "    </tr>\n",
       "    <tr>\n",
       "      <th>289</th>\n",
       "      <td>PonderaLab/datascience4economists</td>\n",
       "      <td>Python</td>\n",
       "      <td># Datascience4economists\\n\\nFirst of all, welc...</td>\n",
       "    </tr>\n",
       "    <tr>\n",
       "      <th>290</th>\n",
       "      <td>joaoariedi/etl_luigi</td>\n",
       "      <td>Python</td>\n",
       "      <td># LUIGI and PostgreSQL ETL tests\\nGet data fro...</td>\n",
       "    </tr>\n",
       "  </tbody>\n",
       "</table>\n",
       "<p>291 rows × 3 columns</p>\n",
       "</div>"
      ],
      "text/plain": [
       "                                              repo language  \\\n",
       "0                          ujjwalkarn/DataScienceR        R   \n",
       "1                       IndrajeetPatil/ggstatsplot        R   \n",
       "2                              easystats/easystats        R   \n",
       "3                               seandavi/sars2pack        R   \n",
       "4                         markvanderloo/lumberjack        R   \n",
       "..                                             ...      ...   \n",
       "286                 rahulbordoloi/Machine-Learning   Python   \n",
       "287                           Oslandia/QDeeplandia   Python   \n",
       "288  arjunbhasin2013/BaselinePredictionMLFramework   Python   \n",
       "289              PonderaLab/datascience4economists   Python   \n",
       "290                           joaoariedi/etl_luigi   Python   \n",
       "\n",
       "                                       readme_contents  \n",
       "0    # R Data Science Tutorials\\n- This repo contai...  \n",
       "1    ---\\noutput: github_document\\n---\\n\\n  <!-- RE...  \n",
       "2    ---\\noutput: github_document\\n---\\n\\n```{r, wa...  \n",
       "3    ---\\noutput: \\n  - rmarkdown::github_document\\...  \n",
       "4    ## Track changes in data\\n[![Build Status](htt...  \n",
       "..                                                 ...  \n",
       "286  # Machine-Learning\\nContains my Glossary for M...  \n",
       "287  QGIS plugin dedicated to 2D semantic segmentat...  \n",
       "288  # Baseline Prediction Machine Learning Framewo...  \n",
       "289  # Datascience4economists\\n\\nFirst of all, welc...  \n",
       "290  # LUIGI and PostgreSQL ETL tests\\nGet data fro...  \n",
       "\n",
       "[291 rows x 3 columns]"
      ]
     },
     "execution_count": 5,
     "metadata": {},
     "output_type": "execute_result"
    }
   ],
   "source": [
    "df"
   ]
  },
  {
   "cell_type": "markdown",
   "id": "fc23e78a",
   "metadata": {},
   "source": [
    "## CLEAN readme"
   ]
  },
  {
   "cell_type": "code",
   "execution_count": 3,
   "id": "45e8b474",
   "metadata": {},
   "outputs": [],
   "source": [
    "def basic_clean(string):\n",
    "    '''\n",
    "    takes in a string and outputs a basic-cleaned version:\n",
    "                    -lowercase\n",
    "                    -normalized to unicode set\n",
    "                    -replaced non-word and non-singlespace,non-singlequote chars with ''\n",
    "    '''\n",
    "    lowered = string.lower()\n",
    "    normalized = unicodedata.normalize('NFKD', lowered).encode('ascii','ignore').decode('utf-8')\n",
    "    basic_clean = re.sub(r'[^a-zA-Z0-9\\s]', '', normalized)\n",
    "    return basic_clean"
   ]
  },
  {
   "cell_type": "code",
   "execution_count": 8,
   "id": "167f96c5",
   "metadata": {},
   "outputs": [],
   "source": [
    "df['cleaned'] = df.readme_contents.apply(basic_clean)"
   ]
  },
  {
   "cell_type": "code",
   "execution_count": 9,
   "id": "a83876ea",
   "metadata": {},
   "outputs": [
    {
     "data": {
      "text/html": [
       "<div>\n",
       "<style scoped>\n",
       "    .dataframe tbody tr th:only-of-type {\n",
       "        vertical-align: middle;\n",
       "    }\n",
       "\n",
       "    .dataframe tbody tr th {\n",
       "        vertical-align: top;\n",
       "    }\n",
       "\n",
       "    .dataframe thead th {\n",
       "        text-align: right;\n",
       "    }\n",
       "</style>\n",
       "<table border=\"1\" class=\"dataframe\">\n",
       "  <thead>\n",
       "    <tr style=\"text-align: right;\">\n",
       "      <th></th>\n",
       "      <th>repo</th>\n",
       "      <th>language</th>\n",
       "      <th>readme_contents</th>\n",
       "      <th>cleaned</th>\n",
       "    </tr>\n",
       "  </thead>\n",
       "  <tbody>\n",
       "    <tr>\n",
       "      <th>0</th>\n",
       "      <td>ujjwalkarn/DataScienceR</td>\n",
       "      <td>R</td>\n",
       "      <td># R Data Science Tutorials\\n- This repo contai...</td>\n",
       "      <td>r data science tutorials\\n this repo contains...</td>\n",
       "    </tr>\n",
       "    <tr>\n",
       "      <th>1</th>\n",
       "      <td>IndrajeetPatil/ggstatsplot</td>\n",
       "      <td>R</td>\n",
       "      <td>---\\noutput: github_document\\n---\\n\\n  &lt;!-- RE...</td>\n",
       "      <td>\\noutput githubdocument\\n\\n\\n   readmemd is ge...</td>\n",
       "    </tr>\n",
       "    <tr>\n",
       "      <th>2</th>\n",
       "      <td>easystats/easystats</td>\n",
       "      <td>R</td>\n",
       "      <td>---\\noutput: github_document\\n---\\n\\n```{r, wa...</td>\n",
       "      <td>\\noutput githubdocument\\n\\n\\nr warningfalse me...</td>\n",
       "    </tr>\n",
       "    <tr>\n",
       "      <th>3</th>\n",
       "      <td>seandavi/sars2pack</td>\n",
       "      <td>R</td>\n",
       "      <td>---\\noutput: \\n  - rmarkdown::github_document\\...</td>\n",
       "      <td>\\noutput \\n   rmarkdowngithubdocument\\n   rmar...</td>\n",
       "    </tr>\n",
       "    <tr>\n",
       "      <th>4</th>\n",
       "      <td>markvanderloo/lumberjack</td>\n",
       "      <td>R</td>\n",
       "      <td>## Track changes in data\\n[![Build Status](htt...</td>\n",
       "      <td>track changes in data\\nbuild statushttpstravi...</td>\n",
       "    </tr>\n",
       "    <tr>\n",
       "      <th>...</th>\n",
       "      <td>...</td>\n",
       "      <td>...</td>\n",
       "      <td>...</td>\n",
       "      <td>...</td>\n",
       "    </tr>\n",
       "    <tr>\n",
       "      <th>286</th>\n",
       "      <td>rahulbordoloi/Machine-Learning</td>\n",
       "      <td>Python</td>\n",
       "      <td># Machine-Learning\\nContains my Glossary for M...</td>\n",
       "      <td>machinelearning\\ncontains my glossary for mac...</td>\n",
       "    </tr>\n",
       "    <tr>\n",
       "      <th>287</th>\n",
       "      <td>Oslandia/QDeeplandia</td>\n",
       "      <td>Python</td>\n",
       "      <td>QGIS plugin dedicated to 2D semantic segmentat...</td>\n",
       "      <td>qgis plugin dedicated to 2d semantic segmentat...</td>\n",
       "    </tr>\n",
       "    <tr>\n",
       "      <th>288</th>\n",
       "      <td>arjunbhasin2013/BaselinePredictionMLFramework</td>\n",
       "      <td>Python</td>\n",
       "      <td># Baseline Prediction Machine Learning Framewo...</td>\n",
       "      <td>baseline prediction machine learning framewor...</td>\n",
       "    </tr>\n",
       "    <tr>\n",
       "      <th>289</th>\n",
       "      <td>PonderaLab/datascience4economists</td>\n",
       "      <td>Python</td>\n",
       "      <td># Datascience4economists\\n\\nFirst of all, welc...</td>\n",
       "      <td>datascience4economists\\n\\nfirst of all welcom...</td>\n",
       "    </tr>\n",
       "    <tr>\n",
       "      <th>290</th>\n",
       "      <td>joaoariedi/etl_luigi</td>\n",
       "      <td>Python</td>\n",
       "      <td># LUIGI and PostgreSQL ETL tests\\nGet data fro...</td>\n",
       "      <td>luigi and postgresql etl tests\\nget data from...</td>\n",
       "    </tr>\n",
       "  </tbody>\n",
       "</table>\n",
       "<p>291 rows × 4 columns</p>\n",
       "</div>"
      ],
      "text/plain": [
       "                                              repo language  \\\n",
       "0                          ujjwalkarn/DataScienceR        R   \n",
       "1                       IndrajeetPatil/ggstatsplot        R   \n",
       "2                              easystats/easystats        R   \n",
       "3                               seandavi/sars2pack        R   \n",
       "4                         markvanderloo/lumberjack        R   \n",
       "..                                             ...      ...   \n",
       "286                 rahulbordoloi/Machine-Learning   Python   \n",
       "287                           Oslandia/QDeeplandia   Python   \n",
       "288  arjunbhasin2013/BaselinePredictionMLFramework   Python   \n",
       "289              PonderaLab/datascience4economists   Python   \n",
       "290                           joaoariedi/etl_luigi   Python   \n",
       "\n",
       "                                       readme_contents  \\\n",
       "0    # R Data Science Tutorials\\n- This repo contai...   \n",
       "1    ---\\noutput: github_document\\n---\\n\\n  <!-- RE...   \n",
       "2    ---\\noutput: github_document\\n---\\n\\n```{r, wa...   \n",
       "3    ---\\noutput: \\n  - rmarkdown::github_document\\...   \n",
       "4    ## Track changes in data\\n[![Build Status](htt...   \n",
       "..                                                 ...   \n",
       "286  # Machine-Learning\\nContains my Glossary for M...   \n",
       "287  QGIS plugin dedicated to 2D semantic segmentat...   \n",
       "288  # Baseline Prediction Machine Learning Framewo...   \n",
       "289  # Datascience4economists\\n\\nFirst of all, welc...   \n",
       "290  # LUIGI and PostgreSQL ETL tests\\nGet data fro...   \n",
       "\n",
       "                                               cleaned  \n",
       "0     r data science tutorials\\n this repo contains...  \n",
       "1    \\noutput githubdocument\\n\\n\\n   readmemd is ge...  \n",
       "2    \\noutput githubdocument\\n\\n\\nr warningfalse me...  \n",
       "3    \\noutput \\n   rmarkdowngithubdocument\\n   rmar...  \n",
       "4     track changes in data\\nbuild statushttpstravi...  \n",
       "..                                                 ...  \n",
       "286   machinelearning\\ncontains my glossary for mac...  \n",
       "287  qgis plugin dedicated to 2d semantic segmentat...  \n",
       "288   baseline prediction machine learning framewor...  \n",
       "289   datascience4economists\\n\\nfirst of all welcom...  \n",
       "290   luigi and postgresql etl tests\\nget data from...  \n",
       "\n",
       "[291 rows x 4 columns]"
      ]
     },
     "execution_count": 9,
     "metadata": {},
     "output_type": "execute_result"
    }
   ],
   "source": [
    "df"
   ]
  },
  {
   "cell_type": "code",
   "execution_count": 10,
   "id": "b84ac4c4",
   "metadata": {},
   "outputs": [
    {
     "data": {
      "text/plain": [
       "\"# Statistical-Learning-Techniques\\n\\nThis is a Statistical Learning repository which will consist of various Learning algorithms and their implementation in R \\nand their in depth interpretation. Below are the links to the implementation and their in-depth explanation of the learning algorithms in R. All the documents below contain the under-lying mathematical concepts explained with respect to a simple case study in R.\\n\\n\\n### Topics Covered :\\n\\n1) Supervised Learning\\n\\n2) Model Selection techniques - AIC, BIC, Mallow's Cp ,  Adjusted R-squared ,  Cross validation error.\\n\\n3) Shrinkage Methods and Regularization techniques - Ridge Regression , LASSO, L1 norm, L2 norm.\\n\\n4) Non-linear Regression and parametric models\\n\\n5) Non-parametric model - K-nearest neighbor algorithm\\n\\n6) Tree based Modelling - Decision Trees\\n\\n7) Bayesian Modelling technique : Naive Bayes algorithm.\\n\\n8) Ensemble learning - Random Forests, Gradient Boosting , Bagging.\\n\\n9) Re-sampling methods and Cross Validation \\n\\n10) Unsupervised learning\\n\\n\\n\\n\\n### First Document published on Polynomial Regression Tecnhiques which adds Non linearities to the Model and makes the model learn Non linear Functions.\\n\\nhttp://rpubs.com/anish20/polynomialRegression\\n\\n\\n---\\n\\n### Second Document on step by step Implementation of Cubic Splines and Smoothing Splines in R and how they transform the variables by adding Truncated Basis functions b(X) and how it is better from Polynomial Regression, to learn Non linear Functional Mappings from X(Predictors) to Y(Target) \\n\\n\\nhttp://rpubs.com/anish20/Splines\\n\\n----\\n\\n\\n### Third Document on implementing Generalized Additive Models in R and their overview\\n\\nhttp://rpubs.com/anish20/GeneralizedAdditiveModelsinR\\n\\n----\\n\\n### Fourth document on Implementing Decision Trees in R using the 'tree' package\\n\\nhttp://rpubs.com/anish20/decisionTreesinR\\n\\n\\n----\\n\\n### Fifth Article which Explains the concept of Random Forests and how to Implement it in R\\n\\nhttp://rpubs.com/anish20/RandomForests\\n\\n----\\n\\n### Article on Support Vector Machine in R\\n\\nhttp://rpubs.com/anish20/svmR\\n\\n\\n--------\\n\\n### Article on Radial Kernel Support vector classifier\\n\\nhttp://rpubs.com/anish20/radialSVM\\n\\n\\n--------\\n\\n### Article on implementing PCA in R and the maths behind it.\\n\\nhttp://rpubs.com/anish20/PCA\\n\\n--------\\n\\n### Article which explaines K-means clustering algorithm and its implementation in R\\n\\nhttp://rpubs.com/anish20/k-means\\n\""
      ]
     },
     "execution_count": 10,
     "metadata": {},
     "output_type": "execute_result"
    }
   ],
   "source": [
    "df.iloc[10,2]"
   ]
  },
  {
   "cell_type": "code",
   "execution_count": 11,
   "id": "669a2526",
   "metadata": {},
   "outputs": [
    {
     "data": {
      "text/plain": [
       "' statisticallearningtechniques\\n\\nthis is a statistical learning repository which will consist of various learning algorithms and their implementation in r \\nand their in depth interpretation below are the links to the implementation and their indepth explanation of the learning algorithms in r all the documents below contain the underlying mathematical concepts explained with respect to a simple case study in r\\n\\n\\n topics covered \\n\\n1 supervised learning\\n\\n2 model selection techniques  aic bic mallows cp   adjusted rsquared   cross validation error\\n\\n3 shrinkage methods and regularization techniques  ridge regression  lasso l1 norm l2 norm\\n\\n4 nonlinear regression and parametric models\\n\\n5 nonparametric model  knearest neighbor algorithm\\n\\n6 tree based modelling  decision trees\\n\\n7 bayesian modelling technique  naive bayes algorithm\\n\\n8 ensemble learning  random forests gradient boosting  bagging\\n\\n9 resampling methods and cross validation \\n\\n10 unsupervised learning\\n\\n\\n\\n\\n first document published on polynomial regression tecnhiques which adds non linearities to the model and makes the model learn non linear functions\\n\\nhttprpubscomanish20polynomialregression\\n\\n\\n\\n\\n second document on step by step implementation of cubic splines and smoothing splines in r and how they transform the variables by adding truncated basis functions bx and how it is better from polynomial regression to learn non linear functional mappings from xpredictors to ytarget \\n\\n\\nhttprpubscomanish20splines\\n\\n\\n\\n\\n third document on implementing generalized additive models in r and their overview\\n\\nhttprpubscomanish20generalizedadditivemodelsinr\\n\\n\\n\\n fourth document on implementing decision trees in r using the tree package\\n\\nhttprpubscomanish20decisiontreesinr\\n\\n\\n\\n\\n fifth article which explains the concept of random forests and how to implement it in r\\n\\nhttprpubscomanish20randomforests\\n\\n\\n\\n article on support vector machine in r\\n\\nhttprpubscomanish20svmr\\n\\n\\n\\n\\n article on radial kernel support vector classifier\\n\\nhttprpubscomanish20radialsvm\\n\\n\\n\\n\\n article on implementing pca in r and the maths behind it\\n\\nhttprpubscomanish20pca\\n\\n\\n\\n article which explaines kmeans clustering algorithm and its implementation in r\\n\\nhttprpubscomanish20kmeans\\n'"
      ]
     },
     "execution_count": 11,
     "metadata": {},
     "output_type": "execute_result"
    }
   ],
   "source": [
    "df.iloc[10,3]"
   ]
  },
  {
   "cell_type": "markdown",
   "id": "aebbff02",
   "metadata": {},
   "source": [
    "## TOKENIZE readme"
   ]
  },
  {
   "cell_type": "code",
   "execution_count": 12,
   "id": "1a98680b",
   "metadata": {},
   "outputs": [],
   "source": [
    "def tokenize(string):\n",
    "    '''\n",
    "    takes in a string and outputs a tokenized version:\n",
    "    \n",
    "    '''\n",
    "    tokenizer = nltk.tokenize.ToktokTokenizer()\n",
    "    tokenized = tokenizer.tokenize(string, return_str=True)\n",
    "    return tokenized"
   ]
  },
  {
   "cell_type": "code",
   "execution_count": 41,
   "id": "fd3f3a16",
   "metadata": {},
   "outputs": [],
   "source": [
    "df['tokenized'] = df.cleaned.apply(tokenize)"
   ]
  },
  {
   "cell_type": "code",
   "execution_count": 42,
   "id": "c4ca3fca",
   "metadata": {},
   "outputs": [
    {
     "data": {
      "text/plain": [
       "'statisticallearningtechniques\\n\\nthis is a statistical learning repository which will consist of various learning algorithms and their implementation in r \\nand their in depth interpretation below are the links to the implementation and their indepth explanation of the learning algorithms in r all the documents below contain the underlying mathematical concepts explained with respect to a simple case study in r\\n\\n\\n topics covered \\n\\n1 supervised learning\\n\\n2 model selection techniques aic bic mallows cp adjusted rsquared cross validation error\\n\\n3 shrinkage methods and regularization techniques ridge regression lasso l1 norm l2 norm\\n\\n4 nonlinear regression and parametric models\\n\\n5 nonparametric model knearest neighbor algorithm\\n\\n6 tree based modelling decision trees\\n\\n7 bayesian modelling technique naive bayes algorithm\\n\\n8 ensemble learning random forests gradient boosting bagging\\n\\n9 resampling methods and cross validation \\n\\n10 unsupervised learning\\n\\n\\n\\n\\n first document published on polynomial regression tecnhiques which adds non linearities to the model and makes the model learn non linear functions\\n\\nhttprpubscomanish20polynomialregression\\n\\n\\n\\n\\n second document on step by step implementation of cubic splines and smoothing splines in r and how they transform the variables by adding truncated basis functions bx and how it is better from polynomial regression to learn non linear functional mappings from xpredictors to ytarget \\n\\n\\nhttprpubscomanish20splines\\n\\n\\n\\n\\n third document on implementing generalized additive models in r and their overview\\n\\nhttprpubscomanish20generalizedadditivemodelsinr\\n\\n\\n\\n fourth document on implementing decision trees in r using the tree package\\n\\nhttprpubscomanish20decisiontreesinr\\n\\n\\n\\n\\n fifth article which explains the concept of random forests and how to implement it in r\\n\\nhttprpubscomanish20randomforests\\n\\n\\n\\n article on support vector machine in r\\n\\nhttprpubscomanish20svmr\\n\\n\\n\\n\\n article on radial kernel support vector classifier\\n\\nhttprpubscomanish20radialsvm\\n\\n\\n\\n\\n article on implementing pca in r and the maths behind it\\n\\nhttprpubscomanish20pca\\n\\n\\n\\n article which explaines kmeans clustering algorithm and its implementation in r\\n\\nhttprpubscomanish20kmeans'"
      ]
     },
     "execution_count": 42,
     "metadata": {},
     "output_type": "execute_result"
    }
   ],
   "source": [
    "df.iloc[10,4]"
   ]
  },
  {
   "cell_type": "markdown",
   "id": "d8af774b",
   "metadata": {},
   "source": [
    "## LEMMATIZE readme"
   ]
  },
  {
   "cell_type": "code",
   "execution_count": 18,
   "id": "a3c1ec85",
   "metadata": {},
   "outputs": [],
   "source": [
    "def lemmatize(some_string):\n",
    "    '''\n",
    "    lemmatize will take in the contents of a single string,\n",
    "    split up the contents with split()\n",
    "    use the split contents as a list to apply a lemmatizer to\n",
    "    each word,\n",
    "    and return a single string of the lemmatized words joined\n",
    "    with a single instance of whitespace (' '.join())\n",
    "    '''\n",
    "    lemmatizer = nltk.WordNetLemmatizer()\n",
    "    return ' '.join(\n",
    "        [lemmatizer.lemmatize(word,'v'\n",
    "                             ) for word in some_string.split()])"
   ]
  },
  {
   "cell_type": "code",
   "execution_count": 43,
   "id": "1a3b32cb",
   "metadata": {},
   "outputs": [],
   "source": [
    "df['lemmatized'] = df.tokenized.apply(lemmatize)"
   ]
  },
  {
   "cell_type": "code",
   "execution_count": 44,
   "id": "8c86d422",
   "metadata": {},
   "outputs": [
    {
     "data": {
      "text/plain": [
       "'statisticallearningtechniques this be a statistical learn repository which will consist of various learn algorithms and their implementation in r and their in depth interpretation below be the link to the implementation and their indepth explanation of the learn algorithms in r all the document below contain the underlie mathematical concepts explain with respect to a simple case study in r topics cover 1 supervise learn 2 model selection techniques aic bic mallows cp adjust rsquared cross validation error 3 shrinkage methods and regularization techniques ridge regression lasso l1 norm l2 norm 4 nonlinear regression and parametric model 5 nonparametric model knearest neighbor algorithm 6 tree base model decision tree 7 bayesian model technique naive bay algorithm 8 ensemble learn random forest gradient boost bag 9 resampling methods and cross validation 10 unsupervised learn first document publish on polynomial regression tecnhiques which add non linearities to the model and make the model learn non linear function httprpubscomanish20polynomialregression second document on step by step implementation of cubic splines and smooth splines in r and how they transform the variables by add truncate basis function bx and how it be better from polynomial regression to learn non linear functional mappings from xpredictors to ytarget httprpubscomanish20splines third document on implement generalize additive model in r and their overview httprpubscomanish20generalizedadditivemodelsinr fourth document on implement decision tree in r use the tree package httprpubscomanish20decisiontreesinr fifth article which explain the concept of random forest and how to implement it in r httprpubscomanish20randomforests article on support vector machine in r httprpubscomanish20svmr article on radial kernel support vector classifier httprpubscomanish20radialsvm article on implement pca in r and the maths behind it httprpubscomanish20pca article which explain kmeans cluster algorithm and its implementation in r httprpubscomanish20kmeans'"
      ]
     },
     "execution_count": 44,
     "metadata": {},
     "output_type": "execute_result"
    }
   ],
   "source": [
    "df.iloc[10,5]"
   ]
  },
  {
   "cell_type": "markdown",
   "id": "d54a3a2d",
   "metadata": {},
   "source": [
    "## STOPWORDS readme"
   ]
  },
  {
   "cell_type": "code",
   "execution_count": null,
   "id": "ca69dc16",
   "metadata": {},
   "outputs": [],
   "source": []
  },
  {
   "cell_type": "code",
   "execution_count": 49,
   "id": "7a2d282c",
   "metadata": {},
   "outputs": [],
   "source": [
    "def remove_stopwords(some_string, extra_words=['r','be'], keep_words=[]):\n",
    "    '''\n",
    "    remove stopwords will take in a single document as a string\n",
    "    and return a new string that has stopwords removed\n",
    "    '''\n",
    "    stopwords_custom = set(stopwords.words('english')) - \\\n",
    "    set(keep_words)\n",
    "    stopwords_custom = list(stopwords_custom.union(extra_words))\n",
    "    return ' '.join([word for word in some_string.split()\n",
    "                     if word not in stopwords_custom])"
   ]
  },
  {
   "cell_type": "code",
   "execution_count": 50,
   "id": "e347d812",
   "metadata": {},
   "outputs": [],
   "source": [
    "df['stopped2'] = df.lemmatized.apply(remove_stopwords)"
   ]
  },
  {
   "cell_type": "code",
   "execution_count": 51,
   "id": "432ce195",
   "metadata": {},
   "outputs": [
    {
     "data": {
      "text/plain": [
       "'statisticallearningtechniques this be a statistical learn repository which will consist of various learn algorithms and their implementation in r and their in depth interpretation below be the link to the implementation and their indepth explanation of the learn algorithms in r all the document below contain the underlie mathematical concepts explain with respect to a simple case study in r topics cover 1 supervise learn 2 model selection techniques aic bic mallows cp adjust rsquared cross validation error 3 shrinkage methods and regularization techniques ridge regression lasso l1 norm l2 norm 4 nonlinear regression and parametric model 5 nonparametric model knearest neighbor algorithm 6 tree base model decision tree 7 bayesian model technique naive bay algorithm 8 ensemble learn random forest gradient boost bag 9 resampling methods and cross validation 10 unsupervised learn first document publish on polynomial regression tecnhiques which add non linearities to the model and make the model learn non linear function httprpubscomanish20polynomialregression second document on step by step implementation of cubic splines and smooth splines in r and how they transform the variables by add truncate basis function bx and how it be better from polynomial regression to learn non linear functional mappings from xpredictors to ytarget httprpubscomanish20splines third document on implement generalize additive model in r and their overview httprpubscomanish20generalizedadditivemodelsinr fourth document on implement decision tree in r use the tree package httprpubscomanish20decisiontreesinr fifth article which explain the concept of random forest and how to implement it in r httprpubscomanish20randomforests article on support vector machine in r httprpubscomanish20svmr article on radial kernel support vector classifier httprpubscomanish20radialsvm article on implement pca in r and the maths behind it httprpubscomanish20pca article which explain kmeans cluster algorithm and its implementation in r httprpubscomanish20kmeans'"
      ]
     },
     "execution_count": 51,
     "metadata": {},
     "output_type": "execute_result"
    }
   ],
   "source": [
    "df.iloc[10,5]"
   ]
  },
  {
   "cell_type": "code",
   "execution_count": 52,
   "id": "f78760c0",
   "metadata": {},
   "outputs": [
    {
     "data": {
      "text/plain": [
       "repo                       anishsingh20/Statistical-Learning-using-R\n",
       "language                                                           R\n",
       "readme_contents    # Statistical-Learning-Techniques\\n\\nThis is a...\n",
       "cleaned             statisticallearningtechniques\\n\\nthis is a st...\n",
       "tokenized          statisticallearningtechniques\\n\\nthis is a sta...\n",
       "lemmatized         statisticallearningtechniques this be a statis...\n",
       "stopped            # Scl-Lernng-Technque\\n\\nTh   Scl Lernng repr ...\n",
       "stopped2           statisticallearningtechniques statistical lear...\n",
       "Name: 10, dtype: object"
      ]
     },
     "execution_count": 52,
     "metadata": {},
     "output_type": "execute_result"
    }
   ],
   "source": [
    "df.iloc[10]"
   ]
  },
  {
   "cell_type": "code",
   "execution_count": null,
   "id": "c445e1af",
   "metadata": {},
   "outputs": [],
   "source": []
  },
  {
   "cell_type": "code",
   "execution_count": null,
   "id": "76a7b40f",
   "metadata": {},
   "outputs": [],
   "source": []
  },
  {
   "cell_type": "code",
   "execution_count": null,
   "id": "34022889",
   "metadata": {},
   "outputs": [],
   "source": []
  }
 ],
 "metadata": {
  "kernelspec": {
   "display_name": "Python 3 (ipykernel)",
   "language": "python",
   "name": "python3"
  },
  "language_info": {
   "codemirror_mode": {
    "name": "ipython",
    "version": 3
   },
   "file_extension": ".py",
   "mimetype": "text/x-python",
   "name": "python",
   "nbconvert_exporter": "python",
   "pygments_lexer": "ipython3",
   "version": "3.9.13"
  }
 },
 "nbformat": 4,
 "nbformat_minor": 5
}
