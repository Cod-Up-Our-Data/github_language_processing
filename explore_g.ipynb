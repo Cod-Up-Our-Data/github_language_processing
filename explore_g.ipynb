{
 "cells": [
  {
   "cell_type": "code",
   "execution_count": 1,
   "id": "f47938d2-f660-46c0-a24d-a5de316dfcfd",
   "metadata": {},
   "outputs": [],
   "source": [
    "import numpy as np\n",
    "import pandas as pd\n",
    "import matplotlib.pyplot as plt\n",
    "import seaborn as sns\n",
    "sns.color_palette(\"tab10\")\n",
    "from scipy import stats\n",
    "from sklearn.model_selection import train_test_split\n",
    "import os\n",
    "from langdetect import detect\n",
    "seed = 1349\n",
    "import unicodedata\n",
    "import re\n",
    "import nltk\n",
    "from bs4 import BeautifulSoup\n",
    "import requests\n",
    "from nltk.corpus import stopwords\n",
    "import wrangle_g as wr"
   ]
  },
  {
   "cell_type": "code",
   "execution_count": 2,
   "id": "91989639-2e64-45ca-a524-0ec7274518ff",
   "metadata": {},
   "outputs": [],
   "source": [
    "df = wr.prepare_mvp()"
   ]
  },
  {
   "cell_type": "code",
   "execution_count": 4,
   "id": "e2a79c6e-9b28-47e8-ba0a-ec1ed0771f33",
   "metadata": {},
   "outputs": [
    {
     "data": {
      "text/html": [
       "<div>\n",
       "<style scoped>\n",
       "    .dataframe tbody tr th:only-of-type {\n",
       "        vertical-align: middle;\n",
       "    }\n",
       "\n",
       "    .dataframe tbody tr th {\n",
       "        vertical-align: top;\n",
       "    }\n",
       "\n",
       "    .dataframe thead th {\n",
       "        text-align: right;\n",
       "    }\n",
       "</style>\n",
       "<table border=\"1\" class=\"dataframe\">\n",
       "  <thead>\n",
       "    <tr style=\"text-align: right;\">\n",
       "      <th></th>\n",
       "      <th>repo</th>\n",
       "      <th>language</th>\n",
       "      <th>readme_contents</th>\n",
       "      <th>stopped</th>\n",
       "    </tr>\n",
       "  </thead>\n",
       "  <tbody>\n",
       "    <tr>\n",
       "      <th>0</th>\n",
       "      <td>ujjwalkarn/DataScienceR</td>\n",
       "      <td>R</td>\n",
       "      <td># R Data Science Tutorials\\n- This repo contai...</td>\n",
       "      <td>data science tutorials repo contain curated li...</td>\n",
       "    </tr>\n",
       "    <tr>\n",
       "      <th>1</th>\n",
       "      <td>IndrajeetPatil/ggstatsplot</td>\n",
       "      <td>R</td>\n",
       "      <td>---\\noutput: github_document\\n---\\n\\n  &lt;!-- RE...</td>\n",
       "      <td>output githubdocument readmemd generate readme...</td>\n",
       "    </tr>\n",
       "    <tr>\n",
       "      <th>2</th>\n",
       "      <td>easystats/easystats</td>\n",
       "      <td>R</td>\n",
       "      <td>---\\noutput: github_document\\n---\\n\\n```{r, wa...</td>\n",
       "      <td>output githubdocument warningfalse messagefals...</td>\n",
       "    </tr>\n",
       "    <tr>\n",
       "      <th>3</th>\n",
       "      <td>seandavi/sars2pack</td>\n",
       "      <td>R</td>\n",
       "      <td>---\\noutput: \\n  - rmarkdown::github_document\\...</td>\n",
       "      <td>output rmarkdowngithubdocument rmarkdownhtmldo...</td>\n",
       "    </tr>\n",
       "    <tr>\n",
       "      <th>4</th>\n",
       "      <td>markvanderloo/lumberjack</td>\n",
       "      <td>R</td>\n",
       "      <td>## Track changes in data\\n[![Build Status](htt...</td>\n",
       "      <td>track change data build statushttpstravisciorg...</td>\n",
       "    </tr>\n",
       "    <tr>\n",
       "      <th>...</th>\n",
       "      <td>...</td>\n",
       "      <td>...</td>\n",
       "      <td>...</td>\n",
       "      <td>...</td>\n",
       "    </tr>\n",
       "    <tr>\n",
       "      <th>350</th>\n",
       "      <td>rahulbordoloi/Machine-Learning</td>\n",
       "      <td>Python</td>\n",
       "      <td># Machine-Learning\\nContains my Glossary for M...</td>\n",
       "      <td>machinelearning contain glossary machine learn...</td>\n",
       "    </tr>\n",
       "    <tr>\n",
       "      <th>351</th>\n",
       "      <td>Oslandia/QDeeplandia</td>\n",
       "      <td>Python</td>\n",
       "      <td>QGIS plugin dedicated to 2D semantic segmentat...</td>\n",
       "      <td>qgis plugin dedicate 2d semantic segmentation ...</td>\n",
       "    </tr>\n",
       "    <tr>\n",
       "      <th>352</th>\n",
       "      <td>arjunbhasin2013/BaselinePredictionMLFramework</td>\n",
       "      <td>Python</td>\n",
       "      <td># Baseline Prediction Machine Learning Framewo...</td>\n",
       "      <td>baseline prediction machine learn framework ma...</td>\n",
       "    </tr>\n",
       "    <tr>\n",
       "      <th>353</th>\n",
       "      <td>PonderaLab/datascience4economists</td>\n",
       "      <td>Python</td>\n",
       "      <td># Datascience4economists\\n\\nFirst of all, welc...</td>\n",
       "      <td>datascience4economists first welcome repositor...</td>\n",
       "    </tr>\n",
       "    <tr>\n",
       "      <th>354</th>\n",
       "      <td>joaoariedi/etl_luigi</td>\n",
       "      <td>Python</td>\n",
       "      <td># LUIGI and PostgreSQL ETL tests\\nGet data fro...</td>\n",
       "      <td>luigi postgresql etl test get data api use req...</td>\n",
       "    </tr>\n",
       "  </tbody>\n",
       "</table>\n",
       "<p>291 rows × 4 columns</p>\n",
       "</div>"
      ],
      "text/plain": [
       "                                              repo language   \n",
       "0                          ujjwalkarn/DataScienceR        R  \\\n",
       "1                       IndrajeetPatil/ggstatsplot        R   \n",
       "2                              easystats/easystats        R   \n",
       "3                               seandavi/sars2pack        R   \n",
       "4                         markvanderloo/lumberjack        R   \n",
       "..                                             ...      ...   \n",
       "350                 rahulbordoloi/Machine-Learning   Python   \n",
       "351                           Oslandia/QDeeplandia   Python   \n",
       "352  arjunbhasin2013/BaselinePredictionMLFramework   Python   \n",
       "353              PonderaLab/datascience4economists   Python   \n",
       "354                           joaoariedi/etl_luigi   Python   \n",
       "\n",
       "                                       readme_contents   \n",
       "0    # R Data Science Tutorials\\n- This repo contai...  \\\n",
       "1    ---\\noutput: github_document\\n---\\n\\n  <!-- RE...   \n",
       "2    ---\\noutput: github_document\\n---\\n\\n```{r, wa...   \n",
       "3    ---\\noutput: \\n  - rmarkdown::github_document\\...   \n",
       "4    ## Track changes in data\\n[![Build Status](htt...   \n",
       "..                                                 ...   \n",
       "350  # Machine-Learning\\nContains my Glossary for M...   \n",
       "351  QGIS plugin dedicated to 2D semantic segmentat...   \n",
       "352  # Baseline Prediction Machine Learning Framewo...   \n",
       "353  # Datascience4economists\\n\\nFirst of all, welc...   \n",
       "354  # LUIGI and PostgreSQL ETL tests\\nGet data fro...   \n",
       "\n",
       "                                               stopped  \n",
       "0    data science tutorials repo contain curated li...  \n",
       "1    output githubdocument readmemd generate readme...  \n",
       "2    output githubdocument warningfalse messagefals...  \n",
       "3    output rmarkdowngithubdocument rmarkdownhtmldo...  \n",
       "4    track change data build statushttpstravisciorg...  \n",
       "..                                                 ...  \n",
       "350  machinelearning contain glossary machine learn...  \n",
       "351  qgis plugin dedicate 2d semantic segmentation ...  \n",
       "352  baseline prediction machine learn framework ma...  \n",
       "353  datascience4economists first welcome repositor...  \n",
       "354  luigi postgresql etl test get data api use req...  \n",
       "\n",
       "[291 rows x 4 columns]"
      ]
     },
     "execution_count": 4,
     "metadata": {},
     "output_type": "execute_result"
    }
   ],
   "source": [
    "df = wr.final_wrangle(df)\n",
    "df"
   ]
  },
  {
   "cell_type": "code",
   "execution_count": null,
   "id": "f9a831c7-d147-4ccf-920d-f6aec79af4b1",
   "metadata": {},
   "outputs": [],
   "source": []
  },
  {
   "cell_type": "code",
   "execution_count": null,
   "id": "72f9136a-7949-41b8-adf7-f9c31181d06c",
   "metadata": {},
   "outputs": [],
   "source": []
  },
  {
   "cell_type": "code",
   "execution_count": null,
   "id": "56f6edab-c3b7-4e1b-987f-8a7536328006",
   "metadata": {},
   "outputs": [],
   "source": []
  },
  {
   "cell_type": "code",
   "execution_count": null,
   "id": "ca5b8c31-78d2-4a84-b1bb-4ba7619d6aae",
   "metadata": {},
   "outputs": [],
   "source": []
  },
  {
   "cell_type": "code",
   "execution_count": null,
   "id": "67dc5706-d98e-4720-ab7d-bd8b209f3a77",
   "metadata": {},
   "outputs": [],
   "source": []
  },
  {
   "cell_type": "code",
   "execution_count": null,
   "id": "2b717e66-d071-4368-9653-afe22c9041f8",
   "metadata": {},
   "outputs": [],
   "source": []
  },
  {
   "cell_type": "code",
   "execution_count": null,
   "id": "27df826c-9703-4c00-b521-630409390fc6",
   "metadata": {},
   "outputs": [],
   "source": []
  },
  {
   "cell_type": "code",
   "execution_count": null,
   "id": "4732c660-0453-407f-9857-210adf8fbcb3",
   "metadata": {},
   "outputs": [],
   "source": []
  },
  {
   "cell_type": "code",
   "execution_count": null,
   "id": "216795e8-0889-4871-98d7-9fd98977f3b3",
   "metadata": {},
   "outputs": [],
   "source": []
  },
  {
   "cell_type": "code",
   "execution_count": null,
   "id": "82a52b3d-0a4e-4682-a72e-a96f1d11ef48",
   "metadata": {},
   "outputs": [],
   "source": []
  },
  {
   "cell_type": "code",
   "execution_count": null,
   "id": "b13a3f4c-e1bf-4227-958e-a66faf87b23f",
   "metadata": {},
   "outputs": [],
   "source": []
  },
  {
   "cell_type": "code",
   "execution_count": null,
   "id": "5b6a5b44-828d-4796-9fba-345987a39d0e",
   "metadata": {},
   "outputs": [],
   "source": []
  },
  {
   "cell_type": "code",
   "execution_count": null,
   "id": "70ef2b6e-8c5d-4a41-ab15-96b48ae6cce8",
   "metadata": {},
   "outputs": [],
   "source": []
  },
  {
   "cell_type": "code",
   "execution_count": null,
   "id": "318ef3aa-404f-4419-840d-36ca1065a37e",
   "metadata": {},
   "outputs": [],
   "source": []
  },
  {
   "cell_type": "code",
   "execution_count": null,
   "id": "a487e088-7d9d-45fe-b6cb-5b855f33e34f",
   "metadata": {},
   "outputs": [],
   "source": []
  },
  {
   "cell_type": "code",
   "execution_count": null,
   "id": "620a9fc3-a8d8-40b9-8362-016888e16846",
   "metadata": {},
   "outputs": [],
   "source": []
  },
  {
   "cell_type": "code",
   "execution_count": null,
   "id": "f9882b9d-5fa5-4977-8f24-1b886526e511",
   "metadata": {},
   "outputs": [],
   "source": []
  },
  {
   "cell_type": "code",
   "execution_count": null,
   "id": "4aecae21-a533-4b21-aadb-6faea6ca4bfb",
   "metadata": {},
   "outputs": [],
   "source": []
  },
  {
   "cell_type": "code",
   "execution_count": null,
   "id": "2bfe689b-d8af-4786-b69d-7c51c7ea196f",
   "metadata": {},
   "outputs": [],
   "source": []
  },
  {
   "cell_type": "code",
   "execution_count": null,
   "id": "eb84f8e5-4b43-4982-8dc0-c51fcb19b9be",
   "metadata": {},
   "outputs": [],
   "source": []
  },
  {
   "cell_type": "code",
   "execution_count": null,
   "id": "5be2458a-69a1-4d52-8a7a-d4b0f1fbd8e9",
   "metadata": {},
   "outputs": [],
   "source": []
  },
  {
   "cell_type": "code",
   "execution_count": null,
   "id": "3b26ec3e-c7c7-4e7a-97c8-c83b926bdf3c",
   "metadata": {},
   "outputs": [],
   "source": []
  },
  {
   "cell_type": "code",
   "execution_count": null,
   "id": "1824a062-89cd-4c02-bdb7-f83a39ad85c6",
   "metadata": {},
   "outputs": [],
   "source": []
  },
  {
   "cell_type": "code",
   "execution_count": null,
   "id": "addada5d-d8d1-427e-80e2-f0295e8bb3b1",
   "metadata": {},
   "outputs": [],
   "source": []
  },
  {
   "cell_type": "code",
   "execution_count": null,
   "id": "b5115ec4-ade6-4103-9267-1a0c286f8fd3",
   "metadata": {},
   "outputs": [],
   "source": []
  },
  {
   "cell_type": "code",
   "execution_count": null,
   "id": "ed345c9f-30e9-4a3f-8a9e-4b696566df42",
   "metadata": {},
   "outputs": [],
   "source": []
  },
  {
   "cell_type": "code",
   "execution_count": null,
   "id": "5919ccbf-08fe-43e8-9dc9-9b4ea89f21af",
   "metadata": {},
   "outputs": [],
   "source": []
  },
  {
   "cell_type": "code",
   "execution_count": null,
   "id": "cfb1559f-2b57-44b0-bd54-046f735709ae",
   "metadata": {},
   "outputs": [],
   "source": []
  },
  {
   "cell_type": "code",
   "execution_count": null,
   "id": "eee2181b-6e9e-4f69-8d28-76626a680974",
   "metadata": {},
   "outputs": [],
   "source": []
  },
  {
   "cell_type": "code",
   "execution_count": null,
   "id": "112385c5-e919-416d-9a6a-457a6368e9e3",
   "metadata": {},
   "outputs": [],
   "source": []
  },
  {
   "cell_type": "code",
   "execution_count": null,
   "id": "6c070ada-58a9-47be-af3a-f92ace841e73",
   "metadata": {},
   "outputs": [],
   "source": []
  },
  {
   "cell_type": "code",
   "execution_count": null,
   "id": "46278533-08bb-40e0-93ec-75794c7fd5d8",
   "metadata": {},
   "outputs": [],
   "source": []
  },
  {
   "cell_type": "code",
   "execution_count": null,
   "id": "39a61075-7baf-4056-b1f1-b167406466e2",
   "metadata": {},
   "outputs": [],
   "source": []
  },
  {
   "cell_type": "code",
   "execution_count": null,
   "id": "456de1ff-4e0c-4ad0-8316-94df39e5d5f3",
   "metadata": {},
   "outputs": [],
   "source": []
  },
  {
   "cell_type": "code",
   "execution_count": null,
   "id": "e95e242f-f9b5-4131-84cb-bccc78fc3fe2",
   "metadata": {},
   "outputs": [],
   "source": []
  },
  {
   "cell_type": "code",
   "execution_count": null,
   "id": "83a7a7a0-1560-4b3a-92d4-d900d5522a2f",
   "metadata": {},
   "outputs": [],
   "source": []
  },
  {
   "cell_type": "code",
   "execution_count": null,
   "id": "4fb9d141-9865-4411-b806-6b1c966f102c",
   "metadata": {},
   "outputs": [],
   "source": []
  },
  {
   "cell_type": "code",
   "execution_count": null,
   "id": "bebbc9ab-7d29-4358-85ac-66da8754cfcd",
   "metadata": {},
   "outputs": [],
   "source": []
  },
  {
   "cell_type": "code",
   "execution_count": null,
   "id": "4f45f9e1-49f8-4cc4-a48d-d304f20b258c",
   "metadata": {},
   "outputs": [],
   "source": []
  },
  {
   "cell_type": "code",
   "execution_count": null,
   "id": "47432e1b-f5f9-48b5-b203-0cf63420a411",
   "metadata": {},
   "outputs": [],
   "source": []
  }
 ],
 "metadata": {
  "kernelspec": {
   "display_name": "Python 3 (ipykernel)",
   "language": "python",
   "name": "python3"
  },
  "language_info": {
   "codemirror_mode": {
    "name": "ipython",
    "version": 3
   },
   "file_extension": ".py",
   "mimetype": "text/x-python",
   "name": "python",
   "nbconvert_exporter": "python",
   "pygments_lexer": "ipython3",
   "version": "3.9.13"
  }
 },
 "nbformat": 4,
 "nbformat_minor": 5
}
