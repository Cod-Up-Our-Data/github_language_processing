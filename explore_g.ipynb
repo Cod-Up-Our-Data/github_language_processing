{
 "cells": [
  {
   "cell_type": "code",
   "execution_count": 1,
   "id": "f47938d2-f660-46c0-a24d-a5de316dfcfd",
   "metadata": {},
   "outputs": [],
   "source": [
    "import numpy as np\n",
    "import pandas as pd\n",
    "import matplotlib.pyplot as plt\n",
    "import seaborn as sns\n",
    "sns.color_palette(\"tab10\")\n",
    "from scipy import stats\n",
    "from sklearn.model_selection import train_test_split\n",
    "import os\n",
    "from langdetect import detect\n",
    "seed = 1349\n",
    "import unicodedata\n",
    "import re\n",
    "import nltk\n",
    "from bs4 import BeautifulSoup\n",
    "import requests\n",
    "from nltk.corpus import stopwords\n",
    "import wrangle_g as wr"
   ]
  },
  {
   "cell_type": "code",
   "execution_count": 2,
   "id": "91989639-2e64-45ca-a524-0ec7274518ff",
   "metadata": {},
   "outputs": [],
   "source": [
    "df = wr.prepare_mvp()"
   ]
  },
  {
   "cell_type": "code",
   "execution_count": 3,
   "id": "e2a79c6e-9b28-47e8-ba0a-ec1ed0771f33",
   "metadata": {},
   "outputs": [
    {
     "data": {
      "text/plain": [
       "(310    stock market twitter base sentiment analysis 1...\n",
       " 80     stockdata shiny app stock data analysis live s...\n",
       " 151        repo personal blog build quartohttpsquartoorg\n",
       " 114    spotify analysis prediction analysis music spo...\n",
       " 22     pgdds assignments case study cod presentations...\n",
       "                              ...                        \n",
       " 192    audio emotion classification multiple datasets...\n",
       " 257    wiki topic grapher leverage power google nlpht...\n",
       " 81     scrap visualize data use scrap data table html...\n",
       " 261    twitterbotdetection raw datasethttpsdrivegoogl...\n",
       " 10     statisticallearningtechniques statistical lear...\n",
       " Name: stopped, Length: 161, dtype: object,\n",
       " 136    houserecommendation sizesizeshieldsizeurl last...\n",
       " 225    awsgluemonorepostyle example aws glue job work...\n",
       " 227    csvs suck upgrade life pyradigm research data ...\n",
       " 277    presentations presentations tucson net users g...\n",
       " 49     data science studio prerequisites download ins...\n",
       "                              ...                        \n",
       " 115    playground basics nothing quick set script pla...\n",
       " 300    housepriceprediction 3 project part k136 istan...\n",
       " 91     data explorer data explorer create hrefhttpsme...\n",
       " 245    pycanon license documentation status pipeline ...\n",
       " 264    automator build statushttpstravisciorgkeelioau...\n",
       " Name: stopped, Length: 70, dtype: object,\n",
       " 319    basicautoeda basic exploratory data analysis d...\n",
       " 288    datacompression suppose want read large data m...\n",
       " 180    pyfunctional build statushttpsgithubcomentilzh...\n",
       " 78     analysis data analysis visualization statistic...\n",
       " 32     common function data science project contain s...\n",
       " 291    cltv estimation bgnbd gammagamma model imghttp...\n",
       " 309    dataset dataset collect kaggle speed date expe...\n",
       " 205    wildebeest pypi versionhttpsbadgefuryiopywilde...\n",
       " 202    collie pypi versionhttpsbadgefuryiopycolliesvg...\n",
       " 262    keepthis keepthisheadergifimgskeepthisheadergi...\n",
       " 275    pyrler parler client library usage authenticat...\n",
       " 61     extractingtweetsfromtwitterusingr program help...\n",
       " 196    anaconda project tool encapsulate run reproduc...\n",
       " 353    datascience4economists first welcome repositor...\n",
       " 101    customerchurncasestudylogitregression study in...\n",
       " 276    personalprojects github hold personal project ...\n",
       " 6      anomaly detection time series tidy anomaly det...\n",
       " 165    datascienceinr repository find common data sci...\n",
       " 271    microservices data science public code intend ...\n",
       " 210    knyfe knyfe utility rapid exploration datasets...\n",
       " 267    stock prediction use news article deep learn a...\n",
       " 280    licencehttpsimgshieldsiogithublicensenup002pym...\n",
       " 350    machinelearning contain glossary machine learn...\n",
       " 93     svm classifier use tableau project train svm m...\n",
       " 159      1052datascience nccu 1052 data science practice\n",
       " 7      humanresourceanalytics data science project ma...\n",
       " 247    httpsimgshieldsiobadgeamazonawsff9900stylefort...\n",
       " 71     movielens project part harvardx course ph1259x...\n",
       " 241    stats different graph tool create datasets who...\n",
       " 333    cookie pythonhttpsimgshieldsiopypipyversionsco...\n",
       " 124    oscars trash repository name one favorite char...\n",
       " 50     download data yahoo finance user freindly app ...\n",
       " 255    iiec indian innovation entrepreneurship commun...\n",
       " 185    datastreamio opensource framework realtime ano...\n",
       " 43     datascienceproject2017 5 assignments readmemd ...\n",
       " 299    mltrons dptron dirty data clean data httpspypi...\n",
       " 188    p aligncenter br hrefhttpsimageflaticoncomicon...\n",
       " 2      output githubdocument warningfalse messagefals...\n",
       " 236    web scrap script collect parse job post inform...\n",
       " 55     datasciencewithrprogramming data manipulation ...\n",
       " 39     multiple regression use caret 2 years ago task...\n",
       " 349    extractimagedata images2csv fast multithreaded...\n",
       " 189    pypivhttpsimgshieldsiopypivjupyternotifysvghtt...\n",
       " 237    wikichron wikichron web tool analysis visualiz...\n",
       " 240    coviddashboard languagehttpsimgshieldsiogithub...\n",
       " 42     animate map repo show easily access one severa...\n",
       " 274    streamlit stock search web app madewithpythonh...\n",
       " 260    datacamp data science analysis sql course prac...\n",
       " 58     bigcontest2019 champion league performance lea...\n",
       " 259    add banner bannerresourcesbannerjpg p aligncen...\n",
       " 332    imglogopng disclaimer project still developmen...\n",
       " 23     output githubdocument readmemd generate readme...\n",
       " 325    linearregression 42 2019 algorithmic project l...\n",
       " 268    toot youre like use twitter keep researchers b...\n",
       " 194    img srcimageslogopng width35 stylefloatleft op...\n",
       " 9      rusquant intro cranstatusbadgehttpswwwrpkgorgb...\n",
       " 15     metallicart badge start rcmdcheckhttpsgithubco...\n",
       " 230    ml ops template versionhttpsimgshieldsiobadgep...\n",
       " Name: stopped, dtype: object,\n",
       " 310    Python\n",
       " 80          R\n",
       " 151         R\n",
       " 114         R\n",
       " 22          R\n",
       "         ...  \n",
       " 192    Python\n",
       " 257    Python\n",
       " 81          R\n",
       " 261    Python\n",
       " 10          R\n",
       " Name: language, Length: 161, dtype: object,\n",
       " 136         R\n",
       " 225    Python\n",
       " 227    Python\n",
       " 277    Python\n",
       " 49          R\n",
       "         ...  \n",
       " 115         R\n",
       " 300    Python\n",
       " 91          R\n",
       " 245    Python\n",
       " 264    Python\n",
       " Name: language, Length: 70, dtype: object,\n",
       " 319    Python\n",
       " 288    Python\n",
       " 180    Python\n",
       " 78          R\n",
       " 32          R\n",
       " 291    Python\n",
       " 309    Python\n",
       " 205    Python\n",
       " 202    Python\n",
       " 262    Python\n",
       " 275    Python\n",
       " 61          R\n",
       " 196    Python\n",
       " 353    Python\n",
       " 101         R\n",
       " 276    Python\n",
       " 6           R\n",
       " 165         R\n",
       " 271    Python\n",
       " 210    Python\n",
       " 267    Python\n",
       " 280    Python\n",
       " 350    Python\n",
       " 93          R\n",
       " 159         R\n",
       " 7           R\n",
       " 247    Python\n",
       " 71          R\n",
       " 241    Python\n",
       " 333    Python\n",
       " 124         R\n",
       " 50          R\n",
       " 255    Python\n",
       " 185    Python\n",
       " 43          R\n",
       " 299    Python\n",
       " 188    Python\n",
       " 2           R\n",
       " 236    Python\n",
       " 55          R\n",
       " 39          R\n",
       " 349    Python\n",
       " 189    Python\n",
       " 237    Python\n",
       " 240    Python\n",
       " 42          R\n",
       " 274    Python\n",
       " 260    Python\n",
       " 58          R\n",
       " 259    Python\n",
       " 332    Python\n",
       " 23          R\n",
       " 325    Python\n",
       " 268    Python\n",
       " 194    Python\n",
       " 9           R\n",
       " 15          R\n",
       " 230    Python\n",
       " Name: language, dtype: object)"
      ]
     },
     "execution_count": 3,
     "metadata": {},
     "output_type": "execute_result"
    }
   ],
   "source": [
    "X_train, X_validate, X_test, y_train, y_validate, y_test = wr.final_wrangle(df)\n",
    "X_train, X_validate, X_test, y_train, y_validate, y_test"
   ]
  },
  {
   "cell_type": "code",
   "execution_count": 4,
   "id": "f9a831c7-d147-4ccf-920d-f6aec79af4b1",
   "metadata": {},
   "outputs": [
    {
     "data": {
      "text/plain": [
       "161"
      ]
     },
     "execution_count": 4,
     "metadata": {},
     "output_type": "execute_result"
    }
   ],
   "source": [
    "X_train.size"
   ]
  },
  {
   "cell_type": "code",
   "execution_count": 5,
   "id": "72f9136a-7949-41b8-adf7-f9c31181d06c",
   "metadata": {},
   "outputs": [
    {
     "data": {
      "text/plain": [
       "70"
      ]
     },
     "execution_count": 5,
     "metadata": {},
     "output_type": "execute_result"
    }
   ],
   "source": [
    "X_validate.size"
   ]
  },
  {
   "cell_type": "code",
   "execution_count": 6,
   "id": "56f6edab-c3b7-4e1b-987f-8a7536328006",
   "metadata": {},
   "outputs": [
    {
     "data": {
      "text/plain": [
       "58"
      ]
     },
     "execution_count": 6,
     "metadata": {},
     "output_type": "execute_result"
    }
   ],
   "source": [
    "X_test.size"
   ]
  },
  {
   "cell_type": "code",
   "execution_count": null,
   "id": "ca5b8c31-78d2-4a84-b1bb-4ba7619d6aae",
   "metadata": {},
   "outputs": [],
   "source": []
  },
  {
   "cell_type": "code",
   "execution_count": null,
   "id": "67dc5706-d98e-4720-ab7d-bd8b209f3a77",
   "metadata": {},
   "outputs": [],
   "source": []
  },
  {
   "cell_type": "code",
   "execution_count": null,
   "id": "2b717e66-d071-4368-9653-afe22c9041f8",
   "metadata": {},
   "outputs": [],
   "source": []
  },
  {
   "cell_type": "code",
   "execution_count": null,
   "id": "27df826c-9703-4c00-b521-630409390fc6",
   "metadata": {},
   "outputs": [],
   "source": []
  },
  {
   "cell_type": "code",
   "execution_count": null,
   "id": "4732c660-0453-407f-9857-210adf8fbcb3",
   "metadata": {},
   "outputs": [],
   "source": []
  },
  {
   "cell_type": "code",
   "execution_count": null,
   "id": "216795e8-0889-4871-98d7-9fd98977f3b3",
   "metadata": {},
   "outputs": [],
   "source": []
  },
  {
   "cell_type": "code",
   "execution_count": null,
   "id": "82a52b3d-0a4e-4682-a72e-a96f1d11ef48",
   "metadata": {},
   "outputs": [],
   "source": []
  },
  {
   "cell_type": "code",
   "execution_count": null,
   "id": "b13a3f4c-e1bf-4227-958e-a66faf87b23f",
   "metadata": {},
   "outputs": [],
   "source": []
  },
  {
   "cell_type": "code",
   "execution_count": null,
   "id": "5b6a5b44-828d-4796-9fba-345987a39d0e",
   "metadata": {},
   "outputs": [],
   "source": []
  },
  {
   "cell_type": "code",
   "execution_count": null,
   "id": "70ef2b6e-8c5d-4a41-ab15-96b48ae6cce8",
   "metadata": {},
   "outputs": [],
   "source": []
  },
  {
   "cell_type": "code",
   "execution_count": null,
   "id": "318ef3aa-404f-4419-840d-36ca1065a37e",
   "metadata": {},
   "outputs": [],
   "source": []
  },
  {
   "cell_type": "code",
   "execution_count": null,
   "id": "a487e088-7d9d-45fe-b6cb-5b855f33e34f",
   "metadata": {},
   "outputs": [],
   "source": []
  },
  {
   "cell_type": "code",
   "execution_count": null,
   "id": "620a9fc3-a8d8-40b9-8362-016888e16846",
   "metadata": {},
   "outputs": [],
   "source": []
  },
  {
   "cell_type": "code",
   "execution_count": null,
   "id": "f9882b9d-5fa5-4977-8f24-1b886526e511",
   "metadata": {},
   "outputs": [],
   "source": []
  },
  {
   "cell_type": "code",
   "execution_count": null,
   "id": "4aecae21-a533-4b21-aadb-6faea6ca4bfb",
   "metadata": {},
   "outputs": [],
   "source": []
  },
  {
   "cell_type": "code",
   "execution_count": null,
   "id": "2bfe689b-d8af-4786-b69d-7c51c7ea196f",
   "metadata": {},
   "outputs": [],
   "source": []
  },
  {
   "cell_type": "code",
   "execution_count": null,
   "id": "eb84f8e5-4b43-4982-8dc0-c51fcb19b9be",
   "metadata": {},
   "outputs": [],
   "source": []
  },
  {
   "cell_type": "code",
   "execution_count": null,
   "id": "5be2458a-69a1-4d52-8a7a-d4b0f1fbd8e9",
   "metadata": {},
   "outputs": [],
   "source": []
  },
  {
   "cell_type": "code",
   "execution_count": null,
   "id": "3b26ec3e-c7c7-4e7a-97c8-c83b926bdf3c",
   "metadata": {},
   "outputs": [],
   "source": []
  },
  {
   "cell_type": "code",
   "execution_count": null,
   "id": "1824a062-89cd-4c02-bdb7-f83a39ad85c6",
   "metadata": {},
   "outputs": [],
   "source": []
  },
  {
   "cell_type": "code",
   "execution_count": null,
   "id": "addada5d-d8d1-427e-80e2-f0295e8bb3b1",
   "metadata": {},
   "outputs": [],
   "source": []
  },
  {
   "cell_type": "code",
   "execution_count": null,
   "id": "b5115ec4-ade6-4103-9267-1a0c286f8fd3",
   "metadata": {},
   "outputs": [],
   "source": []
  },
  {
   "cell_type": "code",
   "execution_count": null,
   "id": "ed345c9f-30e9-4a3f-8a9e-4b696566df42",
   "metadata": {},
   "outputs": [],
   "source": []
  },
  {
   "cell_type": "code",
   "execution_count": null,
   "id": "5919ccbf-08fe-43e8-9dc9-9b4ea89f21af",
   "metadata": {},
   "outputs": [],
   "source": []
  },
  {
   "cell_type": "code",
   "execution_count": null,
   "id": "cfb1559f-2b57-44b0-bd54-046f735709ae",
   "metadata": {},
   "outputs": [],
   "source": []
  },
  {
   "cell_type": "code",
   "execution_count": null,
   "id": "eee2181b-6e9e-4f69-8d28-76626a680974",
   "metadata": {},
   "outputs": [],
   "source": []
  },
  {
   "cell_type": "code",
   "execution_count": null,
   "id": "112385c5-e919-416d-9a6a-457a6368e9e3",
   "metadata": {},
   "outputs": [],
   "source": []
  },
  {
   "cell_type": "code",
   "execution_count": null,
   "id": "6c070ada-58a9-47be-af3a-f92ace841e73",
   "metadata": {},
   "outputs": [],
   "source": []
  },
  {
   "cell_type": "code",
   "execution_count": null,
   "id": "46278533-08bb-40e0-93ec-75794c7fd5d8",
   "metadata": {},
   "outputs": [],
   "source": []
  },
  {
   "cell_type": "code",
   "execution_count": null,
   "id": "39a61075-7baf-4056-b1f1-b167406466e2",
   "metadata": {},
   "outputs": [],
   "source": []
  },
  {
   "cell_type": "code",
   "execution_count": null,
   "id": "456de1ff-4e0c-4ad0-8316-94df39e5d5f3",
   "metadata": {},
   "outputs": [],
   "source": []
  },
  {
   "cell_type": "code",
   "execution_count": null,
   "id": "e95e242f-f9b5-4131-84cb-bccc78fc3fe2",
   "metadata": {},
   "outputs": [],
   "source": []
  },
  {
   "cell_type": "code",
   "execution_count": null,
   "id": "83a7a7a0-1560-4b3a-92d4-d900d5522a2f",
   "metadata": {},
   "outputs": [],
   "source": []
  },
  {
   "cell_type": "code",
   "execution_count": null,
   "id": "4fb9d141-9865-4411-b806-6b1c966f102c",
   "metadata": {},
   "outputs": [],
   "source": []
  },
  {
   "cell_type": "code",
   "execution_count": null,
   "id": "bebbc9ab-7d29-4358-85ac-66da8754cfcd",
   "metadata": {},
   "outputs": [],
   "source": []
  },
  {
   "cell_type": "code",
   "execution_count": null,
   "id": "4f45f9e1-49f8-4cc4-a48d-d304f20b258c",
   "metadata": {},
   "outputs": [],
   "source": []
  },
  {
   "cell_type": "code",
   "execution_count": null,
   "id": "47432e1b-f5f9-48b5-b203-0cf63420a411",
   "metadata": {},
   "outputs": [],
   "source": []
  }
 ],
 "metadata": {
  "kernelspec": {
   "display_name": "Python 3 (ipykernel)",
   "language": "python",
   "name": "python3"
  },
  "language_info": {
   "codemirror_mode": {
    "name": "ipython",
    "version": 3
   },
   "file_extension": ".py",
   "mimetype": "text/x-python",
   "name": "python",
   "nbconvert_exporter": "python",
   "pygments_lexer": "ipython3",
   "version": "3.9.13"
  }
 },
 "nbformat": 4,
 "nbformat_minor": 5
}
