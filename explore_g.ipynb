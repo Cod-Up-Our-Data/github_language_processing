{
 "cells": [
  {
   "cell_type": "code",
   "execution_count": 1,
   "id": "f47938d2-f660-46c0-a24d-a5de316dfcfd",
   "metadata": {},
   "outputs": [],
   "source": [
    "import numpy as np\n",
    "import pandas as pd\n",
    "import matplotlib.pyplot as plt\n",
    "import seaborn as sns\n",
    "sns.color_palette(\"tab10\")\n",
    "from scipy import stats\n",
    "from sklearn.model_selection import train_test_split\n",
    "import os\n",
    "from langdetect import detect\n",
    "seed = 1349\n",
    "import unicodedata\n",
    "import re\n",
    "import nltk\n",
    "from bs4 import BeautifulSoup\n",
    "import requests\n",
    "from nltk.corpus import stopwords\n",
    "import wrangle_g as wr"
   ]
  },
  {
   "cell_type": "code",
   "execution_count": 2,
   "id": "91989639-2e64-45ca-a524-0ec7274518ff",
   "metadata": {},
   "outputs": [],
   "source": [
    "df = wr.prepare_mvp()"
   ]
  },
  {
   "cell_type": "code",
   "execution_count": 3,
   "id": "e2a79c6e-9b28-47e8-ba0a-ec1ed0771f33",
   "metadata": {},
   "outputs": [
    {
     "data": {
      "text/plain": [
       "(253    build statushttpstravisciorgppaciyasesvgbranch...\n",
       " 193    machine learn az step towards data science mac...\n",
       " 241    stats different graph tool create datasets who...\n",
       " 278    pypi versionhttpsbadgefuryiopydduisvghttpsbadg...\n",
       " 256    knip module aim make cod hassle free usage kni...\n",
       "                              ...                        \n",
       " 283    lookalike model b2b customers author rajesh gu...\n",
       " 220    gretel client p alignleft img width15 srchttps...\n",
       " 217    data machine learn bore way tutorial walk set ...\n",
       " 333    cookie pythonhttpsimgshieldsiopypipyversionsco...\n",
       " 336    stock prediction use facebook prophet amaze co...\n",
       " Name: stopped, Length: 232, dtype: object,\n",
       " 203    p aligncenter br hrefhttpsimageflaticoncomicon...\n",
       " 252    catch tweet keyword project allow extract data...\n",
       " 281    datasciencesalaryestimator best lightmode fork...\n",
       " 42     animate map repo show easily access one severa...\n",
       " 32     common function data science project contain s...\n",
       " 273    herokupythonmlexample example deploy machine l...\n",
       " 123                    military spend ranker uning shiny\n",
       " 49     data science studio prerequisites download ins...\n",
       " 345    predictingprotienthermostability use repositor...\n",
       " 319    basicautoeda basic exploratory data analysis d...\n",
       " 243    covid19 mu variant b1621 prediction classifica...\n",
       " 165    datascienceinr repository find common data sci...\n",
       " 235    onepassword client pypi releasehttpsgithubcomw...\n",
       " 290    doctorkapplication health care system gui base...\n",
       " 301    rnn predict google stock price recurrent neura...\n",
       " 304    collection utils file supervise unsupervised l...\n",
       " 6      anomaly detection time series tidy anomaly det...\n",
       " 57     mumbairentaldataanalysis project seek analyse ...\n",
       " 323    h1what diabetes h1 pdiabetes type chronic dise...\n",
       " 229    naive bay even workshop welcome repo mean serv...\n",
       " 276    personalprojects github hold personal project ...\n",
       " 261    twitterbotdetection raw datasethttpsdrivegoogl...\n",
       " 287    machinelearningcodesandtemplates step towards ...\n",
       " 77     group district cities east java base economic ...\n",
       " 325    linearregression 42 2019 algorithmic project l...\n",
       " 7      humanresourceanalytics data science project ma...\n",
       " 54     exploratory big data analysis h1bvisapetitions...\n",
       " 60     eplpredictions shinyapp url httpsxiaodaishinya...\n",
       " 259    add banner bannerresourcesbannerjpg p aligncen...\n",
       " 238    logohttpsgithubcommkrdpathdictblobmainassetslo...\n",
       " 218    nyisotoolkit package access power system data ...\n",
       " 337    data science project cover basic advance featu...\n",
       " 155    us job analysis make people smilehttpsfortheba...\n",
       " 349    extractimagedata images2csv fast multithreaded...\n",
       " 186    data camp data scientist githubhttpsimgshields...\n",
       " 264    automator build statushttpstravisciorgkeelioau...\n",
       " 242    div aligncenter need empty line httpsstackover...\n",
       " 312    timetable personalizer link deploy application...\n",
       " 2      output githubdocument warningfalse messagefals...\n",
       " 198    br br img alignleft srcreadmeimgreadmelogopng ...\n",
       " 187    streamlitgeospatial streamlit multipage app ge...\n",
       " 38     build statushttpstravisciorgropenscicregulomes...\n",
       " 14     p aligncenter img srchttpsuserimagesgithubuser...\n",
       " 266    todo add explanation request part vintage imag...\n",
       " 215    stork command line helpers databricks pypi ver...\n",
       " 244    httpsimgshieldsiogithublicenseouterboundsmetaf...\n",
       " 41     time series forecast kaggle data jamel belgace...\n",
       " 89     data science assignment 6 map bude use ggmaps ...\n",
       " 178    mimesis fake data generator image httpsrawgith...\n",
       " 70     cryptoverse 010 cryptoverse package provide da...\n",
       " 201    panel highcharts logohttpsrawgithubusercontent...\n",
       " 227    csvs suck upgrade life pyradigm research data ...\n",
       " 23     output githubdocument readmemd generate readme...\n",
       " 100    output githubdocument readmemd generate readme...\n",
       " 354    luigi postgresql etl test get data api use req...\n",
       " 265    dash geochemical prospection app main idea beh...\n",
       " 9      rusquant intro cranstatusbadgehttpswwwrpkgorgb...\n",
       " 15     metallicart badge start rcmdcheckhttpsgithubco...\n",
       " 289    prepdata pypiversionhttpsimgshieldsiopypivprep...\n",
       " Name: stopped, dtype: object,\n",
       " 253    Python\n",
       " 193    Python\n",
       " 241    Python\n",
       " 278    Python\n",
       " 256    Python\n",
       "         ...  \n",
       " 283    Python\n",
       " 220    Python\n",
       " 217    Python\n",
       " 333    Python\n",
       " 336    Python\n",
       " Name: language, Length: 232, dtype: object,\n",
       " 203    Python\n",
       " 252    Python\n",
       " 281    Python\n",
       " 42          R\n",
       " 32          R\n",
       " 273    Python\n",
       " 123         R\n",
       " 49          R\n",
       " 345    Python\n",
       " 319    Python\n",
       " 243    Python\n",
       " 165         R\n",
       " 235    Python\n",
       " 290    Python\n",
       " 301    Python\n",
       " 304    Python\n",
       " 6           R\n",
       " 57          R\n",
       " 323    Python\n",
       " 229    Python\n",
       " 276    Python\n",
       " 261    Python\n",
       " 287    Python\n",
       " 77          R\n",
       " 325    Python\n",
       " 7           R\n",
       " 54          R\n",
       " 60          R\n",
       " 259    Python\n",
       " 238    Python\n",
       " 218    Python\n",
       " 337    Python\n",
       " 155         R\n",
       " 349    Python\n",
       " 186    Python\n",
       " 264    Python\n",
       " 242    Python\n",
       " 312    Python\n",
       " 2           R\n",
       " 198    Python\n",
       " 187    Python\n",
       " 38          R\n",
       " 14          R\n",
       " 266    Python\n",
       " 215    Python\n",
       " 244    Python\n",
       " 41          R\n",
       " 89          R\n",
       " 178    Python\n",
       " 70          R\n",
       " 201    Python\n",
       " 227    Python\n",
       " 23          R\n",
       " 100         R\n",
       " 354    Python\n",
       " 265    Python\n",
       " 9           R\n",
       " 15          R\n",
       " 289    Python\n",
       " Name: language, dtype: object)"
      ]
     },
     "execution_count": 3,
     "metadata": {},
     "output_type": "execute_result"
    }
   ],
   "source": [
    "X_train, X_test, y_train, y_test = wr.final_wrangle(df)\n",
    "X_train, X_test, y_train, y_test"
   ]
  },
  {
   "cell_type": "code",
   "execution_count": null,
   "id": "f9a831c7-d147-4ccf-920d-f6aec79af4b1",
   "metadata": {},
   "outputs": [],
   "source": []
  },
  {
   "cell_type": "code",
   "execution_count": null,
   "id": "72f9136a-7949-41b8-adf7-f9c31181d06c",
   "metadata": {},
   "outputs": [],
   "source": []
  },
  {
   "cell_type": "code",
   "execution_count": null,
   "id": "56f6edab-c3b7-4e1b-987f-8a7536328006",
   "metadata": {},
   "outputs": [],
   "source": []
  },
  {
   "cell_type": "code",
   "execution_count": null,
   "id": "ca5b8c31-78d2-4a84-b1bb-4ba7619d6aae",
   "metadata": {},
   "outputs": [],
   "source": []
  },
  {
   "cell_type": "code",
   "execution_count": null,
   "id": "67dc5706-d98e-4720-ab7d-bd8b209f3a77",
   "metadata": {},
   "outputs": [],
   "source": []
  },
  {
   "cell_type": "code",
   "execution_count": null,
   "id": "2b717e66-d071-4368-9653-afe22c9041f8",
   "metadata": {},
   "outputs": [],
   "source": []
  },
  {
   "cell_type": "code",
   "execution_count": null,
   "id": "27df826c-9703-4c00-b521-630409390fc6",
   "metadata": {},
   "outputs": [],
   "source": []
  },
  {
   "cell_type": "code",
   "execution_count": null,
   "id": "4732c660-0453-407f-9857-210adf8fbcb3",
   "metadata": {},
   "outputs": [],
   "source": []
  },
  {
   "cell_type": "code",
   "execution_count": null,
   "id": "216795e8-0889-4871-98d7-9fd98977f3b3",
   "metadata": {},
   "outputs": [],
   "source": []
  },
  {
   "cell_type": "code",
   "execution_count": null,
   "id": "82a52b3d-0a4e-4682-a72e-a96f1d11ef48",
   "metadata": {},
   "outputs": [],
   "source": []
  },
  {
   "cell_type": "code",
   "execution_count": null,
   "id": "b13a3f4c-e1bf-4227-958e-a66faf87b23f",
   "metadata": {},
   "outputs": [],
   "source": []
  },
  {
   "cell_type": "code",
   "execution_count": null,
   "id": "5b6a5b44-828d-4796-9fba-345987a39d0e",
   "metadata": {},
   "outputs": [],
   "source": []
  },
  {
   "cell_type": "code",
   "execution_count": null,
   "id": "70ef2b6e-8c5d-4a41-ab15-96b48ae6cce8",
   "metadata": {},
   "outputs": [],
   "source": []
  },
  {
   "cell_type": "code",
   "execution_count": null,
   "id": "318ef3aa-404f-4419-840d-36ca1065a37e",
   "metadata": {},
   "outputs": [],
   "source": []
  },
  {
   "cell_type": "code",
   "execution_count": null,
   "id": "a487e088-7d9d-45fe-b6cb-5b855f33e34f",
   "metadata": {},
   "outputs": [],
   "source": []
  },
  {
   "cell_type": "code",
   "execution_count": null,
   "id": "620a9fc3-a8d8-40b9-8362-016888e16846",
   "metadata": {},
   "outputs": [],
   "source": []
  },
  {
   "cell_type": "code",
   "execution_count": null,
   "id": "f9882b9d-5fa5-4977-8f24-1b886526e511",
   "metadata": {},
   "outputs": [],
   "source": []
  },
  {
   "cell_type": "code",
   "execution_count": null,
   "id": "4aecae21-a533-4b21-aadb-6faea6ca4bfb",
   "metadata": {},
   "outputs": [],
   "source": []
  },
  {
   "cell_type": "code",
   "execution_count": null,
   "id": "2bfe689b-d8af-4786-b69d-7c51c7ea196f",
   "metadata": {},
   "outputs": [],
   "source": []
  },
  {
   "cell_type": "code",
   "execution_count": null,
   "id": "eb84f8e5-4b43-4982-8dc0-c51fcb19b9be",
   "metadata": {},
   "outputs": [],
   "source": []
  },
  {
   "cell_type": "code",
   "execution_count": null,
   "id": "5be2458a-69a1-4d52-8a7a-d4b0f1fbd8e9",
   "metadata": {},
   "outputs": [],
   "source": []
  },
  {
   "cell_type": "code",
   "execution_count": null,
   "id": "3b26ec3e-c7c7-4e7a-97c8-c83b926bdf3c",
   "metadata": {},
   "outputs": [],
   "source": []
  },
  {
   "cell_type": "code",
   "execution_count": null,
   "id": "1824a062-89cd-4c02-bdb7-f83a39ad85c6",
   "metadata": {},
   "outputs": [],
   "source": []
  },
  {
   "cell_type": "code",
   "execution_count": null,
   "id": "addada5d-d8d1-427e-80e2-f0295e8bb3b1",
   "metadata": {},
   "outputs": [],
   "source": []
  },
  {
   "cell_type": "code",
   "execution_count": null,
   "id": "b5115ec4-ade6-4103-9267-1a0c286f8fd3",
   "metadata": {},
   "outputs": [],
   "source": []
  },
  {
   "cell_type": "code",
   "execution_count": null,
   "id": "ed345c9f-30e9-4a3f-8a9e-4b696566df42",
   "metadata": {},
   "outputs": [],
   "source": []
  },
  {
   "cell_type": "code",
   "execution_count": null,
   "id": "5919ccbf-08fe-43e8-9dc9-9b4ea89f21af",
   "metadata": {},
   "outputs": [],
   "source": []
  },
  {
   "cell_type": "code",
   "execution_count": null,
   "id": "cfb1559f-2b57-44b0-bd54-046f735709ae",
   "metadata": {},
   "outputs": [],
   "source": []
  },
  {
   "cell_type": "code",
   "execution_count": null,
   "id": "eee2181b-6e9e-4f69-8d28-76626a680974",
   "metadata": {},
   "outputs": [],
   "source": []
  },
  {
   "cell_type": "code",
   "execution_count": null,
   "id": "112385c5-e919-416d-9a6a-457a6368e9e3",
   "metadata": {},
   "outputs": [],
   "source": []
  },
  {
   "cell_type": "code",
   "execution_count": null,
   "id": "6c070ada-58a9-47be-af3a-f92ace841e73",
   "metadata": {},
   "outputs": [],
   "source": []
  },
  {
   "cell_type": "code",
   "execution_count": null,
   "id": "46278533-08bb-40e0-93ec-75794c7fd5d8",
   "metadata": {},
   "outputs": [],
   "source": []
  },
  {
   "cell_type": "code",
   "execution_count": null,
   "id": "39a61075-7baf-4056-b1f1-b167406466e2",
   "metadata": {},
   "outputs": [],
   "source": []
  },
  {
   "cell_type": "code",
   "execution_count": null,
   "id": "456de1ff-4e0c-4ad0-8316-94df39e5d5f3",
   "metadata": {},
   "outputs": [],
   "source": []
  },
  {
   "cell_type": "code",
   "execution_count": null,
   "id": "e95e242f-f9b5-4131-84cb-bccc78fc3fe2",
   "metadata": {},
   "outputs": [],
   "source": []
  },
  {
   "cell_type": "code",
   "execution_count": null,
   "id": "83a7a7a0-1560-4b3a-92d4-d900d5522a2f",
   "metadata": {},
   "outputs": [],
   "source": []
  },
  {
   "cell_type": "code",
   "execution_count": null,
   "id": "4fb9d141-9865-4411-b806-6b1c966f102c",
   "metadata": {},
   "outputs": [],
   "source": []
  },
  {
   "cell_type": "code",
   "execution_count": null,
   "id": "bebbc9ab-7d29-4358-85ac-66da8754cfcd",
   "metadata": {},
   "outputs": [],
   "source": []
  },
  {
   "cell_type": "code",
   "execution_count": null,
   "id": "4f45f9e1-49f8-4cc4-a48d-d304f20b258c",
   "metadata": {},
   "outputs": [],
   "source": []
  },
  {
   "cell_type": "code",
   "execution_count": null,
   "id": "47432e1b-f5f9-48b5-b203-0cf63420a411",
   "metadata": {},
   "outputs": [],
   "source": []
  }
 ],
 "metadata": {
  "kernelspec": {
   "display_name": "Python 3 (ipykernel)",
   "language": "python",
   "name": "python3"
  },
  "language_info": {
   "codemirror_mode": {
    "name": "ipython",
    "version": 3
   },
   "file_extension": ".py",
   "mimetype": "text/x-python",
   "name": "python",
   "nbconvert_exporter": "python",
   "pygments_lexer": "ipython3",
   "version": "3.9.13"
  }
 },
 "nbformat": 4,
 "nbformat_minor": 5
}
